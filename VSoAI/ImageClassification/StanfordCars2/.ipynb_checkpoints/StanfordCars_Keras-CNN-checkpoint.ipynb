{
 "cells": [
  {
   "cell_type": "code",
   "execution_count": 1,
   "metadata": {},
   "outputs": [],
   "source": [
    "%reload_ext autoreload\n",
    "%autoreload 2\n",
    "%matplotlib inline"
   ]
  },
  {
   "cell_type": "code",
   "execution_count": 2,
   "metadata": {
    "scrolled": true
   },
   "outputs": [
    {
     "name": "stdout",
     "output_type": "stream",
     "text": [
      "sklearn:  0.20.3\n",
      "Python:  3.7.3 (default, Mar 27 2019, 22:11:17) \n",
      "[GCC 7.3.0]\n"
     ]
    }
   ],
   "source": [
    "import sklearn\n",
    "print(\"sklearn: \",sklearn.__version__)\n",
    "import sys\n",
    "print(\"Python: \",sys.version)"
   ]
  },
  {
   "cell_type": "code",
   "execution_count": 3,
   "metadata": {},
   "outputs": [
    {
     "name": "stdout",
     "output_type": "stream",
     "text": [
      "Tensorfow:  1.13.1\n",
      "Tensorflow Keras:  2.2.4-tf\n"
     ]
    }
   ],
   "source": [
    "import tensorflow as tf\n",
    "from tensorflow.keras import layers\n",
    "from tensorflow import keras\n",
    "\n",
    "print(\"Tensorfow: \", tf.VERSION)\n",
    "print(\"Tensorflow Keras: \",tf.keras.__version__)"
   ]
  },
  {
   "cell_type": "code",
   "execution_count": 4,
   "metadata": {},
   "outputs": [],
   "source": [
    "from __future__ import print_function, division\n",
    "\n",
    "import numpy as np\n",
    "import pandas as pd\n",
    "import matplotlib.pyplot as plt\n",
    "import time\n",
    "import os\n",
    "import copy\n",
    "import scipy.io\n",
    "from PIL import Image\n",
    "\n",
    "plt.ion()   # interactive mode"
   ]
  },
  {
   "cell_type": "code",
   "execution_count": 5,
   "metadata": {},
   "outputs": [
    {
     "name": "stdout",
     "output_type": "stream",
     "text": [
      "Thu Jun  6 20:15:22 2019       \r\n",
      "+-----------------------------------------------------------------------------+\r\n",
      "| NVIDIA-SMI 415.27       Driver Version: 415.27       CUDA Version: 10.0     |\r\n",
      "|-------------------------------+----------------------+----------------------+\r\n",
      "| GPU  Name        Persistence-M| Bus-Id        Disp.A | Volatile Uncorr. ECC |\r\n",
      "| Fan  Temp  Perf  Pwr:Usage/Cap|         Memory-Usage | GPU-Util  Compute M. |\r\n",
      "|===============================+======================+======================|\r\n",
      "|   0  GeForce GTX 108...  Off  | 00000000:01:00.0  On |                  N/A |\r\n",
      "|  5%   50C    P0    77W / 250W |    636MiB / 11178MiB |      0%      Default |\r\n",
      "+-------------------------------+----------------------+----------------------+\r\n",
      "                                                                               \r\n",
      "+-----------------------------------------------------------------------------+\r\n",
      "| Processes:                                                       GPU Memory |\r\n",
      "|  GPU       PID   Type   Process name                             Usage      |\r\n",
      "|=============================================================================|\r\n",
      "|    0      3073      G   /usr/lib/xorg/Xorg                            83MiB |\r\n",
      "|    0      3246      G   /usr/bin/gnome-shell                         119MiB |\r\n",
      "|    0     10853      G   ./steamwebhelper                               3MiB |\r\n",
      "|    0     22811      G   /usr/lib/xorg/Xorg                           183MiB |\r\n",
      "|    0     22988      G   /usr/bin/gnome-shell                         176MiB |\r\n",
      "+-----------------------------------------------------------------------------+\r\n"
     ]
    }
   ],
   "source": [
    "!nvidia-smi"
   ]
  },
  {
   "cell_type": "code",
   "execution_count": 6,
   "metadata": {},
   "outputs": [],
   "source": [
    "PATH = '../../../../../data/StanfordCars'"
   ]
  },
  {
   "cell_type": "code",
   "execution_count": 7,
   "metadata": {},
   "outputs": [
    {
     "name": "stdout",
     "output_type": "stream",
     "text": [
      "['cars_train', 'cars_annos.mat', 'devkit', 'train', 'cars_test', 'test', 'models', '__MACOSX', 'car_devkit.tgz']\n"
     ]
    }
   ],
   "source": [
    "import os\n",
    "print(os.listdir(PATH))"
   ]
  },
  {
   "cell_type": "code",
   "execution_count": 8,
   "metadata": {},
   "outputs": [],
   "source": [
    "path_train = f'{PATH}/cars_train'\n",
    "path_test = f'{PATH}/cars_test'"
   ]
  },
  {
   "cell_type": "code",
   "execution_count": 9,
   "metadata": {},
   "outputs": [
    {
     "data": {
      "image/png": "[encoded data removed]",
      "text/plain": [
       "<Figure size 432x288 with 1 Axes>"
      ]
     },
     "metadata": {
      "needs_background": "light"
     },
     "output_type": "display_data"
    }
   ],
   "source": [
    "pic = f'{path_train}/00001.jpg'\n",
    "img = plt.imread(pic)\n",
    "plt.imshow(img);"
   ]
  },
  {
   "cell_type": "code",
   "execution_count": 10,
   "metadata": {},
   "outputs": [
    {
     "name": "stdout",
     "output_type": "stream",
     "text": [
      "['README.txt', 'eval_train.m', 'cars_meta.mat', 'cars_train_annos.mat', 'train_perfect_preds.txt', 'cars_test_annos.mat']\n"
     ]
    }
   ],
   "source": [
    "print(os.listdir(f'{PATH}/devkit'))"
   ]
  },
  {
   "cell_type": "code",
   "execution_count": 11,
   "metadata": {},
   "outputs": [],
   "source": [
    "#load cars class labels matlab file\n",
    "class_annos = scipy.io.loadmat(f'{PATH}/devkit/cars_meta.mat')"
   ]
  },
  {
   "cell_type": "code",
   "execution_count": 12,
   "metadata": {
    "scrolled": true
   },
   "outputs": [
    {
     "data": {
      "text/plain": [
       "{'__header__': b'MATLAB 5.0 MAT-file, Platform: GLNXA64, Created on: Sat Dec 14 14:13:07 2013',\n",
       " '__version__': '1.0',\n",
       " '__globals__': [],\n",
       " 'class_names': array([[array(['AM General Hummer SUV 2000'], dtype='<U26'),\n",
       "         array(['Acura RL Sedan 2012'], dtype='<U19'),\n",
       "         array(['Acura TL Sedan 2012'], dtype='<U19'),\n",
       "         array(['Acura TL Type-S 2008'], dtype='<U20'),\n",
       "         array(['Acura TSX Sedan 2012'], dtype='<U20'),\n",
       "         array(['Acura Integra Type R 2001'], dtype='<U25'),\n",
       "         array(['Acura ZDX Hatchback 2012'], dtype='<U24'),\n",
       "         array(['Aston Martin V8 Vantage Convertible 2012'], dtype='<U40'),\n",
       "         array(['Aston Martin V8 Vantage Coupe 2012'], dtype='<U34'),\n",
       "         array(['Aston Martin Virage Convertible 2012'], dtype='<U36'),\n",
       "         array(['Aston Martin Virage Coupe 2012'], dtype='<U30'),\n",
       "         array(['Audi RS 4 Convertible 2008'], dtype='<U26'),\n",
       "         array(['Audi A5 Coupe 2012'], dtype='<U18'),\n",
       "         array(['Audi TTS Coupe 2012'], dtype='<U19'),\n",
       "         array(['Audi R8 Coupe 2012'], dtype='<U18'),\n",
       "         array(['Audi V8 Sedan 1994'], dtype='<U18'),\n",
       "         array(['Audi 100 Sedan 1994'], dtype='<U19'),\n",
       "         array(['Audi 100 Wagon 1994'], dtype='<U19'),\n",
       "         array(['Audi TT Hatchback 2011'], dtype='<U22'),\n",
       "         array(['Audi S6 Sedan 2011'], dtype='<U18'),\n",
       "         array(['Audi S5 Convertible 2012'], dtype='<U24'),\n",
       "         array(['Audi S5 Coupe 2012'], dtype='<U18'),\n",
       "         array(['Audi S4 Sedan 2012'], dtype='<U18'),\n",
       "         array(['Audi S4 Sedan 2007'], dtype='<U18'),\n",
       "         array(['Audi TT RS Coupe 2012'], dtype='<U21'),\n",
       "         array(['BMW ActiveHybrid 5 Sedan 2012'], dtype='<U29'),\n",
       "         array(['BMW 1 Series Convertible 2012'], dtype='<U29'),\n",
       "         array(['BMW 1 Series Coupe 2012'], dtype='<U23'),\n",
       "         array(['BMW 3 Series Sedan 2012'], dtype='<U23'),\n",
       "         array(['BMW 3 Series Wagon 2012'], dtype='<U23'),\n",
       "         array(['BMW 6 Series Convertible 2007'], dtype='<U29'),\n",
       "         array(['BMW X5 SUV 2007'], dtype='<U15'),\n",
       "         array(['BMW X6 SUV 2012'], dtype='<U15'),\n",
       "         array(['BMW M3 Coupe 2012'], dtype='<U17'),\n",
       "         array(['BMW M5 Sedan 2010'], dtype='<U17'),\n",
       "         array(['BMW M6 Convertible 2010'], dtype='<U23'),\n",
       "         array(['BMW X3 SUV 2012'], dtype='<U15'),\n",
       "         array(['BMW Z4 Convertible 2012'], dtype='<U23'),\n",
       "         array(['Bentley Continental Supersports Conv. Convertible 2012'],\n",
       "       dtype='<U54'),\n",
       "         array(['Bentley Arnage Sedan 2009'], dtype='<U25'),\n",
       "         array(['Bentley Mulsanne Sedan 2011'], dtype='<U27'),\n",
       "         array(['Bentley Continental GT Coupe 2012'], dtype='<U33'),\n",
       "         array(['Bentley Continental GT Coupe 2007'], dtype='<U33'),\n",
       "         array(['Bentley Continental Flying Spur Sedan 2007'], dtype='<U42'),\n",
       "         array(['Bugatti Veyron 16.4 Convertible 2009'], dtype='<U36'),\n",
       "         array(['Bugatti Veyron 16.4 Coupe 2009'], dtype='<U30'),\n",
       "         array(['Buick Regal GS 2012'], dtype='<U19'),\n",
       "         array(['Buick Rainier SUV 2007'], dtype='<U22'),\n",
       "         array(['Buick Verano Sedan 2012'], dtype='<U23'),\n",
       "         array(['Buick Enclave SUV 2012'], dtype='<U22'),\n",
       "         array(['Cadillac CTS-V Sedan 2012'], dtype='<U25'),\n",
       "         array(['Cadillac SRX SUV 2012'], dtype='<U21'),\n",
       "         array(['Cadillac Escalade EXT Crew Cab 2007'], dtype='<U35'),\n",
       "         array(['Chevrolet Silverado 1500 Hybrid Crew Cab 2012'], dtype='<U45'),\n",
       "         array(['Chevrolet Corvette Convertible 2012'], dtype='<U35'),\n",
       "         array(['Chevrolet Corvette ZR1 2012'], dtype='<U27'),\n",
       "         array(['Chevrolet Corvette Ron Fellows Edition Z06 2007'], dtype='<U47'),\n",
       "         array(['Chevrolet Traverse SUV 2012'], dtype='<U27'),\n",
       "         array(['Chevrolet Camaro Convertible 2012'], dtype='<U33'),\n",
       "         array(['Chevrolet HHR SS 2010'], dtype='<U21'),\n",
       "         array(['Chevrolet Impala Sedan 2007'], dtype='<U27'),\n",
       "         array(['Chevrolet Tahoe Hybrid SUV 2012'], dtype='<U31'),\n",
       "         array(['Chevrolet Sonic Sedan 2012'], dtype='<U26'),\n",
       "         array(['Chevrolet Express Cargo Van 2007'], dtype='<U32'),\n",
       "         array(['Chevrolet Avalanche Crew Cab 2012'], dtype='<U33'),\n",
       "         array(['Chevrolet Cobalt SS 2010'], dtype='<U24'),\n",
       "         array(['Chevrolet Malibu Hybrid Sedan 2010'], dtype='<U34'),\n",
       "         array(['Chevrolet TrailBlazer SS 2009'], dtype='<U29'),\n",
       "         array(['Chevrolet Silverado 2500HD Regular Cab 2012'], dtype='<U43'),\n",
       "         array(['Chevrolet Silverado 1500 Classic Extended Cab 2007'], dtype='<U50'),\n",
       "         array(['Chevrolet Express Van 2007'], dtype='<U26'),\n",
       "         array(['Chevrolet Monte Carlo Coupe 2007'], dtype='<U32'),\n",
       "         array(['Chevrolet Malibu Sedan 2007'], dtype='<U27'),\n",
       "         array(['Chevrolet Silverado 1500 Extended Cab 2012'], dtype='<U42'),\n",
       "         array(['Chevrolet Silverado 1500 Regular Cab 2012'], dtype='<U41'),\n",
       "         array(['Chrysler Aspen SUV 2009'], dtype='<U23'),\n",
       "         array(['Chrysler Sebring Convertible 2010'], dtype='<U33'),\n",
       "         array(['Chrysler Town and Country Minivan 2012'], dtype='<U38'),\n",
       "         array(['Chrysler 300 SRT-8 2010'], dtype='<U23'),\n",
       "         array(['Chrysler Crossfire Convertible 2008'], dtype='<U35'),\n",
       "         array(['Chrysler PT Cruiser Convertible 2008'], dtype='<U36'),\n",
       "         array(['Daewoo Nubira Wagon 2002'], dtype='<U24'),\n",
       "         array(['Dodge Caliber Wagon 2012'], dtype='<U24'),\n",
       "         array(['Dodge Caliber Wagon 2007'], dtype='<U24'),\n",
       "         array(['Dodge Caravan Minivan 1997'], dtype='<U26'),\n",
       "         array(['Dodge Ram Pickup 3500 Crew Cab 2010'], dtype='<U35'),\n",
       "         array(['Dodge Ram Pickup 3500 Quad Cab 2009'], dtype='<U35'),\n",
       "         array(['Dodge Sprinter Cargo Van 2009'], dtype='<U29'),\n",
       "         array(['Dodge Journey SUV 2012'], dtype='<U22'),\n",
       "         array(['Dodge Dakota Crew Cab 2010'], dtype='<U26'),\n",
       "         array(['Dodge Dakota Club Cab 2007'], dtype='<U26'),\n",
       "         array(['Dodge Magnum Wagon 2008'], dtype='<U23'),\n",
       "         array(['Dodge Challenger SRT8 2011'], dtype='<U26'),\n",
       "         array(['Dodge Durango SUV 2012'], dtype='<U22'),\n",
       "         array(['Dodge Durango SUV 2007'], dtype='<U22'),\n",
       "         array(['Dodge Charger Sedan 2012'], dtype='<U24'),\n",
       "         array(['Dodge Charger SRT-8 2009'], dtype='<U24'),\n",
       "         array(['Eagle Talon Hatchback 1998'], dtype='<U26'),\n",
       "         array(['FIAT 500 Abarth 2012'], dtype='<U20'),\n",
       "         array(['FIAT 500 Convertible 2012'], dtype='<U25'),\n",
       "         array(['Ferrari FF Coupe 2012'], dtype='<U21'),\n",
       "         array(['Ferrari California Convertible 2012'], dtype='<U35'),\n",
       "         array(['Ferrari 458 Italia Convertible 2012'], dtype='<U35'),\n",
       "         array(['Ferrari 458 Italia Coupe 2012'], dtype='<U29'),\n",
       "         array(['Fisker Karma Sedan 2012'], dtype='<U23'),\n",
       "         array(['Ford F-450 Super Duty Crew Cab 2012'], dtype='<U35'),\n",
       "         array(['Ford Mustang Convertible 2007'], dtype='<U29'),\n",
       "         array(['Ford Freestar Minivan 2007'], dtype='<U26'),\n",
       "         array(['Ford Expedition EL SUV 2009'], dtype='<U27'),\n",
       "         array(['Ford Edge SUV 2012'], dtype='<U18'),\n",
       "         array(['Ford Ranger SuperCab 2011'], dtype='<U25'),\n",
       "         array(['Ford GT Coupe 2006'], dtype='<U18'),\n",
       "         array(['Ford F-150 Regular Cab 2012'], dtype='<U27'),\n",
       "         array(['Ford F-150 Regular Cab 2007'], dtype='<U27'),\n",
       "         array(['Ford Focus Sedan 2007'], dtype='<U21'),\n",
       "         array(['Ford E-Series Wagon Van 2012'], dtype='<U28'),\n",
       "         array(['Ford Fiesta Sedan 2012'], dtype='<U22'),\n",
       "         array(['GMC Terrain SUV 2012'], dtype='<U20'),\n",
       "         array(['GMC Savana Van 2012'], dtype='<U19'),\n",
       "         array(['GMC Yukon Hybrid SUV 2012'], dtype='<U25'),\n",
       "         array(['GMC Acadia SUV 2012'], dtype='<U19'),\n",
       "         array(['GMC Canyon Extended Cab 2012'], dtype='<U28'),\n",
       "         array(['Geo Metro Convertible 1993'], dtype='<U26'),\n",
       "         array(['HUMMER H3T Crew Cab 2010'], dtype='<U24'),\n",
       "         array(['HUMMER H2 SUT Crew Cab 2009'], dtype='<U27'),\n",
       "         array(['Honda Odyssey Minivan 2012'], dtype='<U26'),\n",
       "         array(['Honda Odyssey Minivan 2007'], dtype='<U26'),\n",
       "         array(['Honda Accord Coupe 2012'], dtype='<U23'),\n",
       "         array(['Honda Accord Sedan 2012'], dtype='<U23'),\n",
       "         array(['Hyundai Veloster Hatchback 2012'], dtype='<U31'),\n",
       "         array(['Hyundai Santa Fe SUV 2012'], dtype='<U25'),\n",
       "         array(['Hyundai Tucson SUV 2012'], dtype='<U23'),\n",
       "         array(['Hyundai Veracruz SUV 2012'], dtype='<U25'),\n",
       "         array(['Hyundai Sonata Hybrid Sedan 2012'], dtype='<U32'),\n",
       "         array(['Hyundai Elantra Sedan 2007'], dtype='<U26'),\n",
       "         array(['Hyundai Accent Sedan 2012'], dtype='<U25'),\n",
       "         array(['Hyundai Genesis Sedan 2012'], dtype='<U26'),\n",
       "         array(['Hyundai Sonata Sedan 2012'], dtype='<U25'),\n",
       "         array(['Hyundai Elantra Touring Hatchback 2012'], dtype='<U38'),\n",
       "         array(['Hyundai Azera Sedan 2012'], dtype='<U24'),\n",
       "         array(['Infiniti G Coupe IPL 2012'], dtype='<U25'),\n",
       "         array(['Infiniti QX56 SUV 2011'], dtype='<U22'),\n",
       "         array(['Isuzu Ascender SUV 2008'], dtype='<U23'),\n",
       "         array(['Jaguar XK XKR 2012'], dtype='<U18'),\n",
       "         array(['Jeep Patriot SUV 2012'], dtype='<U21'),\n",
       "         array(['Jeep Wrangler SUV 2012'], dtype='<U22'),\n",
       "         array(['Jeep Liberty SUV 2012'], dtype='<U21'),\n",
       "         array(['Jeep Grand Cherokee SUV 2012'], dtype='<U28'),\n",
       "         array(['Jeep Compass SUV 2012'], dtype='<U21'),\n",
       "         array(['Lamborghini Reventon Coupe 2008'], dtype='<U31'),\n",
       "         array(['Lamborghini Aventador Coupe 2012'], dtype='<U32'),\n",
       "         array(['Lamborghini Gallardo LP 570-4 Superleggera 2012'], dtype='<U47'),\n",
       "         array(['Lamborghini Diablo Coupe 2001'], dtype='<U29'),\n",
       "         array(['Land Rover Range Rover SUV 2012'], dtype='<U31'),\n",
       "         array(['Land Rover LR2 SUV 2012'], dtype='<U23'),\n",
       "         array(['Lincoln Town Car Sedan 2011'], dtype='<U27'),\n",
       "         array(['MINI Cooper Roadster Convertible 2012'], dtype='<U37'),\n",
       "         array(['Maybach Landaulet Convertible 2012'], dtype='<U34'),\n",
       "         array(['Mazda Tribute SUV 2011'], dtype='<U22'),\n",
       "         array(['McLaren MP4-12C Coupe 2012'], dtype='<U26'),\n",
       "         array(['Mercedes-Benz 300-Class Convertible 1993'], dtype='<U40'),\n",
       "         array(['Mercedes-Benz C-Class Sedan 2012'], dtype='<U32'),\n",
       "         array(['Mercedes-Benz SL-Class Coupe 2009'], dtype='<U33'),\n",
       "         array(['Mercedes-Benz E-Class Sedan 2012'], dtype='<U32'),\n",
       "         array(['Mercedes-Benz S-Class Sedan 2012'], dtype='<U32'),\n",
       "         array(['Mercedes-Benz Sprinter Van 2012'], dtype='<U31'),\n",
       "         array(['Mitsubishi Lancer Sedan 2012'], dtype='<U28'),\n",
       "         array(['Nissan Leaf Hatchback 2012'], dtype='<U26'),\n",
       "         array(['Nissan NV Passenger Van 2012'], dtype='<U28'),\n",
       "         array(['Nissan Juke Hatchback 2012'], dtype='<U26'),\n",
       "         array(['Nissan 240SX Coupe 1998'], dtype='<U23'),\n",
       "         array(['Plymouth Neon Coupe 1999'], dtype='<U24'),\n",
       "         array(['Porsche Panamera Sedan 2012'], dtype='<U27'),\n",
       "         array(['Ram C/V Cargo Van Minivan 2012'], dtype='<U30'),\n",
       "         array(['Rolls-Royce Phantom Drophead Coupe Convertible 2012'],\n",
       "       dtype='<U51'),\n",
       "         array(['Rolls-Royce Ghost Sedan 2012'], dtype='<U28'),\n",
       "         array(['Rolls-Royce Phantom Sedan 2012'], dtype='<U30'),\n",
       "         array(['Scion xD Hatchback 2012'], dtype='<U23'),\n",
       "         array(['Spyker C8 Convertible 2009'], dtype='<U26'),\n",
       "         array(['Spyker C8 Coupe 2009'], dtype='<U20'),\n",
       "         array(['Suzuki Aerio Sedan 2007'], dtype='<U23'),\n",
       "         array(['Suzuki Kizashi Sedan 2012'], dtype='<U25'),\n",
       "         array(['Suzuki SX4 Hatchback 2012'], dtype='<U25'),\n",
       "         array(['Suzuki SX4 Sedan 2012'], dtype='<U21'),\n",
       "         array(['Tesla Model S Sedan 2012'], dtype='<U24'),\n",
       "         array(['Toyota Sequoia SUV 2012'], dtype='<U23'),\n",
       "         array(['Toyota Camry Sedan 2012'], dtype='<U23'),\n",
       "         array(['Toyota Corolla Sedan 2012'], dtype='<U25'),\n",
       "         array(['Toyota 4Runner SUV 2012'], dtype='<U23'),\n",
       "         array(['Volkswagen Golf Hatchback 2012'], dtype='<U30'),\n",
       "         array(['Volkswagen Golf Hatchback 1991'], dtype='<U30'),\n",
       "         array(['Volkswagen Beetle Hatchback 2012'], dtype='<U32'),\n",
       "         array(['Volvo C30 Hatchback 2012'], dtype='<U24'),\n",
       "         array(['Volvo 240 Sedan 1993'], dtype='<U20'),\n",
       "         array(['Volvo XC90 SUV 2007'], dtype='<U19'),\n",
       "         array(['smart fortwo Convertible 2012'], dtype='<U29')]],\n",
       "       dtype=object)}"
      ]
     },
     "execution_count": 12,
     "metadata": {},
     "output_type": "execute_result"
    }
   ],
   "source": [
    "class_annos"
   ]
  },
  {
   "cell_type": "code",
   "execution_count": 13,
   "metadata": {},
   "outputs": [
    {
     "data": {
      "text/plain": [
       "'Audi R8 Coupe 2012'"
      ]
     },
     "execution_count": 13,
     "metadata": {},
     "output_type": "execute_result"
    }
   ],
   "source": [
    "class_annos[\"class_names\"][0][14][0]"
   ]
  },
  {
   "cell_type": "code",
   "execution_count": 14,
   "metadata": {},
   "outputs": [],
   "source": [
    "#load train annotiation file\n",
    "train_annos = scipy.io.loadmat(f'{PATH}/devkit/cars_train_annos.mat')"
   ]
  },
  {
   "cell_type": "code",
   "execution_count": 15,
   "metadata": {},
   "outputs": [
    {
     "data": {
      "text/plain": [
       "{'__header__': b'MATLAB 5.0 MAT-file, Platform: GLNXA64, Created on: Sat Dec 14 14:13:07 2013',\n",
       " '__version__': '1.0',\n",
       " '__globals__': [],\n",
       " 'annotations': array([[(array([[39]], dtype=uint8), array([[116]], dtype=uint8), array([[569]], dtype=uint16), array([[375]], dtype=uint16), array([[14]], dtype=uint8), array(['00001.jpg'], dtype='<U9')),\n",
       "         (array([[36]], dtype=uint8), array([[116]], dtype=uint8), array([[868]], dtype=uint16), array([[587]], dtype=uint16), array([[3]], dtype=uint8), array(['00002.jpg'], dtype='<U9')),\n",
       "         (array([[85]], dtype=uint8), array([[109]], dtype=uint8), array([[601]], dtype=uint16), array([[381]], dtype=uint16), array([[91]], dtype=uint8), array(['00003.jpg'], dtype='<U9')),\n",
       "         ...,\n",
       "         (array([[26]], dtype=uint8), array([[246]], dtype=uint8), array([[660]], dtype=uint16), array([[449]], dtype=uint16), array([[163]], dtype=uint8), array(['08142.jpg'], dtype='<U9')),\n",
       "         (array([[78]], dtype=uint8), array([[526]], dtype=uint16), array([[1489]], dtype=uint16), array([[908]], dtype=uint16), array([[112]], dtype=uint8), array(['08143.jpg'], dtype='<U9')),\n",
       "         (array([[20]], dtype=uint8), array([[240]], dtype=uint8), array([[862]], dtype=uint16), array([[677]], dtype=uint16), array([[17]], dtype=uint8), array(['08144.jpg'], dtype='<U9'))]],\n",
       "       dtype=[('bbox_x1', 'O'), ('bbox_y1', 'O'), ('bbox_x2', 'O'), ('bbox_y2', 'O'), ('class', 'O'), ('fname', 'O')])}"
      ]
     },
     "execution_count": 15,
     "metadata": {},
     "output_type": "execute_result"
    }
   ],
   "source": [
    "# matlab file decoding mask inside 'annotations' array\n",
    "# dtype=[('bbox_x1', 'O'), ('bbox_y1', 'O'), ('bbox_x2', 'O'), ('bbox_y2', 'O'), ('class', 'O'), ('fname', 'O')])}\n",
    "train_annos"
   ]
  },
  {
   "cell_type": "code",
   "execution_count": 16,
   "metadata": {
    "scrolled": true
   },
   "outputs": [
    {
     "data": {
      "text/plain": [
       "14"
      ]
     },
     "execution_count": 16,
     "metadata": {},
     "output_type": "execute_result"
    }
   ],
   "source": [
    "# extract item 0 class\n",
    "train_annos[\"annotations\"][0][0][4][0][0]"
   ]
  },
  {
   "cell_type": "code",
   "execution_count": 17,
   "metadata": {},
   "outputs": [
    {
     "data": {
      "text/plain": [
       "'00001.jpg'"
      ]
     },
     "execution_count": 17,
     "metadata": {},
     "output_type": "execute_result"
    }
   ],
   "source": [
    "# extract itme 0 file name\n",
    "train_annos[\"annotations\"][0][0][5][0]"
   ]
  },
  {
   "cell_type": "code",
   "execution_count": 18,
   "metadata": {},
   "outputs": [
    {
     "name": "stdout",
     "output_type": "stream",
     "text": [
      "Total number of data items in dataset: 8144\n"
     ]
    }
   ],
   "source": [
    "total_set = len(train_annos[\"annotations\"][0])\n",
    "print(f'Total number of data items in dataset: {total_set}')"
   ]
  },
  {
   "cell_type": "code",
   "execution_count": 19,
   "metadata": {},
   "outputs": [
    {
     "name": "stdout",
     "output_type": "stream",
     "text": [
      "Total number of classes: 196\n"
     ]
    }
   ],
   "source": [
    "classes_total = len(class_annos[\"class_names\"][0])\n",
    "print(f'Total number of classes: {classes_total}')"
   ]
  },
  {
   "cell_type": "code",
   "execution_count": 20,
   "metadata": {
    "scrolled": true
   },
   "outputs": [
    {
     "data": {
      "text/plain": [
       "[['cars_train/00001.jpg', 14],\n",
       " ['cars_train/00002.jpg', 3],\n",
       " ['cars_train/00003.jpg', 91],\n",
       " ['cars_train/00004.jpg', 134],\n",
       " ['cars_train/00005.jpg', 106]]"
      ]
     },
     "execution_count": 20,
     "metadata": {},
     "output_type": "execute_result"
    }
   ],
   "source": [
    "# loop to extract file name and class number into list\n",
    "#                                                     fname                                    class\n",
    "classes = [[f'cars_train/{train_annos[\"annotations\"][0][i][5][0]}',train_annos[\"annotations\"][0][i][4][0][0]] for i in range(total_set)]\n",
    "classes[:5]"
   ]
  },
  {
   "cell_type": "code",
   "execution_count": 21,
   "metadata": {
    "scrolled": true
   },
   "outputs": [
    {
     "data": {
      "text/html": [
       "<div>\n",
       "<style scoped>\n",
       "    .dataframe tbody tr th:only-of-type {\n",
       "        vertical-align: middle;\n",
       "    }\n",
       "\n",
       "    .dataframe tbody tr th {\n",
       "        vertical-align: top;\n",
       "    }\n",
       "\n",
       "    .dataframe thead th {\n",
       "        text-align: right;\n",
       "    }\n",
       "</style>\n",
       "<table border=\"1\" class=\"dataframe\">\n",
       "  <thead>\n",
       "    <tr style=\"text-align: right;\">\n",
       "      <th></th>\n",
       "      <th>name</th>\n",
       "      <th>label</th>\n",
       "    </tr>\n",
       "  </thead>\n",
       "  <tbody>\n",
       "    <tr>\n",
       "      <th>0</th>\n",
       "      <td>cars_train/00001.jpg</td>\n",
       "      <td>14</td>\n",
       "    </tr>\n",
       "    <tr>\n",
       "      <th>1</th>\n",
       "      <td>cars_train/00002.jpg</td>\n",
       "      <td>3</td>\n",
       "    </tr>\n",
       "    <tr>\n",
       "      <th>2</th>\n",
       "      <td>cars_train/00003.jpg</td>\n",
       "      <td>91</td>\n",
       "    </tr>\n",
       "    <tr>\n",
       "      <th>3</th>\n",
       "      <td>cars_train/00004.jpg</td>\n",
       "      <td>134</td>\n",
       "    </tr>\n",
       "    <tr>\n",
       "      <th>4</th>\n",
       "      <td>cars_train/00005.jpg</td>\n",
       "      <td>106</td>\n",
       "    </tr>\n",
       "  </tbody>\n",
       "</table>\n",
       "</div>"
      ],
      "text/plain": [
       "                   name  label\n",
       "0  cars_train/00001.jpg     14\n",
       "1  cars_train/00002.jpg      3\n",
       "2  cars_train/00003.jpg     91\n",
       "3  cars_train/00004.jpg    134\n",
       "4  cars_train/00005.jpg    106"
      ]
     },
     "execution_count": 21,
     "metadata": {},
     "output_type": "execute_result"
    }
   ],
   "source": [
    "# Create the pandas DataFrame from list\n",
    "df = pd.DataFrame(classes, columns = ['name', 'label']) \n",
    "df.head()"
   ]
  },
  {
   "cell_type": "code",
   "execution_count": 22,
   "metadata": {},
   "outputs": [
    {
     "data": {
      "image/png": "[encoded data removed]",
      "text/plain": [
       "<Figure size 432x288 with 1 Axes>"
      ]
     },
     "metadata": {
      "needs_background": "light"
     },
     "output_type": "display_data"
    }
   ],
   "source": [
    "pic = f'{path_train}/00163.jpg'\n",
    "img = plt.imread(pic)\n",
    "plt.imshow(img);"
   ]
  },
  {
   "cell_type": "code",
   "execution_count": 23,
   "metadata": {},
   "outputs": [
    {
     "data": {
      "text/plain": [
       "(0, 195)"
      ]
     },
     "execution_count": 23,
     "metadata": {},
     "output_type": "execute_result"
    }
   ],
   "source": [
    "# transform class number from [1..196] to [0..195]\n",
    "df['label'] = df['label']-1\n",
    "df['label'].min(), df['label'].max()"
   ]
  },
  {
   "cell_type": "code",
   "execution_count": 24,
   "metadata": {},
   "outputs": [
    {
     "data": {
      "text/html": [
       "<div>\n",
       "<style scoped>\n",
       "    .dataframe tbody tr th:only-of-type {\n",
       "        vertical-align: middle;\n",
       "    }\n",
       "\n",
       "    .dataframe tbody tr th {\n",
       "        vertical-align: top;\n",
       "    }\n",
       "\n",
       "    .dataframe thead th {\n",
       "        text-align: right;\n",
       "    }\n",
       "</style>\n",
       "<table border=\"1\" class=\"dataframe\">\n",
       "  <thead>\n",
       "    <tr style=\"text-align: right;\">\n",
       "      <th></th>\n",
       "      <th>name</th>\n",
       "      <th>label</th>\n",
       "    </tr>\n",
       "  </thead>\n",
       "  <tbody>\n",
       "    <tr>\n",
       "      <th>0</th>\n",
       "      <td>cars_train/00001.jpg</td>\n",
       "      <td>13</td>\n",
       "    </tr>\n",
       "    <tr>\n",
       "      <th>1</th>\n",
       "      <td>cars_train/00002.jpg</td>\n",
       "      <td>2</td>\n",
       "    </tr>\n",
       "    <tr>\n",
       "      <th>2</th>\n",
       "      <td>cars_train/00003.jpg</td>\n",
       "      <td>90</td>\n",
       "    </tr>\n",
       "    <tr>\n",
       "      <th>3</th>\n",
       "      <td>cars_train/00004.jpg</td>\n",
       "      <td>133</td>\n",
       "    </tr>\n",
       "    <tr>\n",
       "      <th>4</th>\n",
       "      <td>cars_train/00005.jpg</td>\n",
       "      <td>105</td>\n",
       "    </tr>\n",
       "  </tbody>\n",
       "</table>\n",
       "</div>"
      ],
      "text/plain": [
       "                   name  label\n",
       "0  cars_train/00001.jpg     13\n",
       "1  cars_train/00002.jpg      2\n",
       "2  cars_train/00003.jpg     90\n",
       "3  cars_train/00004.jpg    133\n",
       "4  cars_train/00005.jpg    105"
      ]
     },
     "execution_count": 24,
     "metadata": {},
     "output_type": "execute_result"
    }
   ],
   "source": [
    "df.head()"
   ]
  },
  {
   "cell_type": "code",
   "execution_count": 25,
   "metadata": {},
   "outputs": [
    {
     "data": {
      "text/plain": [
       "196"
      ]
     },
     "execution_count": 25,
     "metadata": {},
     "output_type": "execute_result"
    }
   ],
   "source": [
    "# verify number of unique classes\n",
    "len(df['label'].unique())"
   ]
  },
  {
   "cell_type": "code",
   "execution_count": 26,
   "metadata": {},
   "outputs": [
    {
     "data": {
      "text/plain": [
       "196"
      ]
     },
     "execution_count": 26,
     "metadata": {},
     "output_type": "execute_result"
    }
   ],
   "source": [
    "# verify length of car class annotations in cars_meta.mat\n",
    "total_labels = len(class_annos[\"class_names\"][0])\n",
    "total_labels"
   ]
  },
  {
   "cell_type": "code",
   "execution_count": 27,
   "metadata": {
    "scrolled": true
   },
   "outputs": [
    {
     "data": {
      "text/plain": [
       "{'__header__': b'MATLAB 5.0 MAT-file, Platform: GLNXA64, Created on: Sat Dec 14 14:13:07 2013',\n",
       " '__version__': '1.0',\n",
       " '__globals__': [],\n",
       " 'class_names': array([[array(['AM General Hummer SUV 2000'], dtype='<U26'),\n",
       "         array(['Acura RL Sedan 2012'], dtype='<U19'),\n",
       "         array(['Acura TL Sedan 2012'], dtype='<U19'),\n",
       "         array(['Acura TL Type-S 2008'], dtype='<U20'),\n",
       "         array(['Acura TSX Sedan 2012'], dtype='<U20'),\n",
       "         array(['Acura Integra Type R 2001'], dtype='<U25'),\n",
       "         array(['Acura ZDX Hatchback 2012'], dtype='<U24'),\n",
       "         array(['Aston Martin V8 Vantage Convertible 2012'], dtype='<U40'),\n",
       "         array(['Aston Martin V8 Vantage Coupe 2012'], dtype='<U34'),\n",
       "         array(['Aston Martin Virage Convertible 2012'], dtype='<U36'),\n",
       "         array(['Aston Martin Virage Coupe 2012'], dtype='<U30'),\n",
       "         array(['Audi RS 4 Convertible 2008'], dtype='<U26'),\n",
       "         array(['Audi A5 Coupe 2012'], dtype='<U18'),\n",
       "         array(['Audi TTS Coupe 2012'], dtype='<U19'),\n",
       "         array(['Audi R8 Coupe 2012'], dtype='<U18'),\n",
       "         array(['Audi V8 Sedan 1994'], dtype='<U18'),\n",
       "         array(['Audi 100 Sedan 1994'], dtype='<U19'),\n",
       "         array(['Audi 100 Wagon 1994'], dtype='<U19'),\n",
       "         array(['Audi TT Hatchback 2011'], dtype='<U22'),\n",
       "         array(['Audi S6 Sedan 2011'], dtype='<U18'),\n",
       "         array(['Audi S5 Convertible 2012'], dtype='<U24'),\n",
       "         array(['Audi S5 Coupe 2012'], dtype='<U18'),\n",
       "         array(['Audi S4 Sedan 2012'], dtype='<U18'),\n",
       "         array(['Audi S4 Sedan 2007'], dtype='<U18'),\n",
       "         array(['Audi TT RS Coupe 2012'], dtype='<U21'),\n",
       "         array(['BMW ActiveHybrid 5 Sedan 2012'], dtype='<U29'),\n",
       "         array(['BMW 1 Series Convertible 2012'], dtype='<U29'),\n",
       "         array(['BMW 1 Series Coupe 2012'], dtype='<U23'),\n",
       "         array(['BMW 3 Series Sedan 2012'], dtype='<U23'),\n",
       "         array(['BMW 3 Series Wagon 2012'], dtype='<U23'),\n",
       "         array(['BMW 6 Series Convertible 2007'], dtype='<U29'),\n",
       "         array(['BMW X5 SUV 2007'], dtype='<U15'),\n",
       "         array(['BMW X6 SUV 2012'], dtype='<U15'),\n",
       "         array(['BMW M3 Coupe 2012'], dtype='<U17'),\n",
       "         array(['BMW M5 Sedan 2010'], dtype='<U17'),\n",
       "         array(['BMW M6 Convertible 2010'], dtype='<U23'),\n",
       "         array(['BMW X3 SUV 2012'], dtype='<U15'),\n",
       "         array(['BMW Z4 Convertible 2012'], dtype='<U23'),\n",
       "         array(['Bentley Continental Supersports Conv. Convertible 2012'],\n",
       "       dtype='<U54'),\n",
       "         array(['Bentley Arnage Sedan 2009'], dtype='<U25'),\n",
       "         array(['Bentley Mulsanne Sedan 2011'], dtype='<U27'),\n",
       "         array(['Bentley Continental GT Coupe 2012'], dtype='<U33'),\n",
       "         array(['Bentley Continental GT Coupe 2007'], dtype='<U33'),\n",
       "         array(['Bentley Continental Flying Spur Sedan 2007'], dtype='<U42'),\n",
       "         array(['Bugatti Veyron 16.4 Convertible 2009'], dtype='<U36'),\n",
       "         array(['Bugatti Veyron 16.4 Coupe 2009'], dtype='<U30'),\n",
       "         array(['Buick Regal GS 2012'], dtype='<U19'),\n",
       "         array(['Buick Rainier SUV 2007'], dtype='<U22'),\n",
       "         array(['Buick Verano Sedan 2012'], dtype='<U23'),\n",
       "         array(['Buick Enclave SUV 2012'], dtype='<U22'),\n",
       "         array(['Cadillac CTS-V Sedan 2012'], dtype='<U25'),\n",
       "         array(['Cadillac SRX SUV 2012'], dtype='<U21'),\n",
       "         array(['Cadillac Escalade EXT Crew Cab 2007'], dtype='<U35'),\n",
       "         array(['Chevrolet Silverado 1500 Hybrid Crew Cab 2012'], dtype='<U45'),\n",
       "         array(['Chevrolet Corvette Convertible 2012'], dtype='<U35'),\n",
       "         array(['Chevrolet Corvette ZR1 2012'], dtype='<U27'),\n",
       "         array(['Chevrolet Corvette Ron Fellows Edition Z06 2007'], dtype='<U47'),\n",
       "         array(['Chevrolet Traverse SUV 2012'], dtype='<U27'),\n",
       "         array(['Chevrolet Camaro Convertible 2012'], dtype='<U33'),\n",
       "         array(['Chevrolet HHR SS 2010'], dtype='<U21'),\n",
       "         array(['Chevrolet Impala Sedan 2007'], dtype='<U27'),\n",
       "         array(['Chevrolet Tahoe Hybrid SUV 2012'], dtype='<U31'),\n",
       "         array(['Chevrolet Sonic Sedan 2012'], dtype='<U26'),\n",
       "         array(['Chevrolet Express Cargo Van 2007'], dtype='<U32'),\n",
       "         array(['Chevrolet Avalanche Crew Cab 2012'], dtype='<U33'),\n",
       "         array(['Chevrolet Cobalt SS 2010'], dtype='<U24'),\n",
       "         array(['Chevrolet Malibu Hybrid Sedan 2010'], dtype='<U34'),\n",
       "         array(['Chevrolet TrailBlazer SS 2009'], dtype='<U29'),\n",
       "         array(['Chevrolet Silverado 2500HD Regular Cab 2012'], dtype='<U43'),\n",
       "         array(['Chevrolet Silverado 1500 Classic Extended Cab 2007'], dtype='<U50'),\n",
       "         array(['Chevrolet Express Van 2007'], dtype='<U26'),\n",
       "         array(['Chevrolet Monte Carlo Coupe 2007'], dtype='<U32'),\n",
       "         array(['Chevrolet Malibu Sedan 2007'], dtype='<U27'),\n",
       "         array(['Chevrolet Silverado 1500 Extended Cab 2012'], dtype='<U42'),\n",
       "         array(['Chevrolet Silverado 1500 Regular Cab 2012'], dtype='<U41'),\n",
       "         array(['Chrysler Aspen SUV 2009'], dtype='<U23'),\n",
       "         array(['Chrysler Sebring Convertible 2010'], dtype='<U33'),\n",
       "         array(['Chrysler Town and Country Minivan 2012'], dtype='<U38'),\n",
       "         array(['Chrysler 300 SRT-8 2010'], dtype='<U23'),\n",
       "         array(['Chrysler Crossfire Convertible 2008'], dtype='<U35'),\n",
       "         array(['Chrysler PT Cruiser Convertible 2008'], dtype='<U36'),\n",
       "         array(['Daewoo Nubira Wagon 2002'], dtype='<U24'),\n",
       "         array(['Dodge Caliber Wagon 2012'], dtype='<U24'),\n",
       "         array(['Dodge Caliber Wagon 2007'], dtype='<U24'),\n",
       "         array(['Dodge Caravan Minivan 1997'], dtype='<U26'),\n",
       "         array(['Dodge Ram Pickup 3500 Crew Cab 2010'], dtype='<U35'),\n",
       "         array(['Dodge Ram Pickup 3500 Quad Cab 2009'], dtype='<U35'),\n",
       "         array(['Dodge Sprinter Cargo Van 2009'], dtype='<U29'),\n",
       "         array(['Dodge Journey SUV 2012'], dtype='<U22'),\n",
       "         array(['Dodge Dakota Crew Cab 2010'], dtype='<U26'),\n",
       "         array(['Dodge Dakota Club Cab 2007'], dtype='<U26'),\n",
       "         array(['Dodge Magnum Wagon 2008'], dtype='<U23'),\n",
       "         array(['Dodge Challenger SRT8 2011'], dtype='<U26'),\n",
       "         array(['Dodge Durango SUV 2012'], dtype='<U22'),\n",
       "         array(['Dodge Durango SUV 2007'], dtype='<U22'),\n",
       "         array(['Dodge Charger Sedan 2012'], dtype='<U24'),\n",
       "         array(['Dodge Charger SRT-8 2009'], dtype='<U24'),\n",
       "         array(['Eagle Talon Hatchback 1998'], dtype='<U26'),\n",
       "         array(['FIAT 500 Abarth 2012'], dtype='<U20'),\n",
       "         array(['FIAT 500 Convertible 2012'], dtype='<U25'),\n",
       "         array(['Ferrari FF Coupe 2012'], dtype='<U21'),\n",
       "         array(['Ferrari California Convertible 2012'], dtype='<U35'),\n",
       "         array(['Ferrari 458 Italia Convertible 2012'], dtype='<U35'),\n",
       "         array(['Ferrari 458 Italia Coupe 2012'], dtype='<U29'),\n",
       "         array(['Fisker Karma Sedan 2012'], dtype='<U23'),\n",
       "         array(['Ford F-450 Super Duty Crew Cab 2012'], dtype='<U35'),\n",
       "         array(['Ford Mustang Convertible 2007'], dtype='<U29'),\n",
       "         array(['Ford Freestar Minivan 2007'], dtype='<U26'),\n",
       "         array(['Ford Expedition EL SUV 2009'], dtype='<U27'),\n",
       "         array(['Ford Edge SUV 2012'], dtype='<U18'),\n",
       "         array(['Ford Ranger SuperCab 2011'], dtype='<U25'),\n",
       "         array(['Ford GT Coupe 2006'], dtype='<U18'),\n",
       "         array(['Ford F-150 Regular Cab 2012'], dtype='<U27'),\n",
       "         array(['Ford F-150 Regular Cab 2007'], dtype='<U27'),\n",
       "         array(['Ford Focus Sedan 2007'], dtype='<U21'),\n",
       "         array(['Ford E-Series Wagon Van 2012'], dtype='<U28'),\n",
       "         array(['Ford Fiesta Sedan 2012'], dtype='<U22'),\n",
       "         array(['GMC Terrain SUV 2012'], dtype='<U20'),\n",
       "         array(['GMC Savana Van 2012'], dtype='<U19'),\n",
       "         array(['GMC Yukon Hybrid SUV 2012'], dtype='<U25'),\n",
       "         array(['GMC Acadia SUV 2012'], dtype='<U19'),\n",
       "         array(['GMC Canyon Extended Cab 2012'], dtype='<U28'),\n",
       "         array(['Geo Metro Convertible 1993'], dtype='<U26'),\n",
       "         array(['HUMMER H3T Crew Cab 2010'], dtype='<U24'),\n",
       "         array(['HUMMER H2 SUT Crew Cab 2009'], dtype='<U27'),\n",
       "         array(['Honda Odyssey Minivan 2012'], dtype='<U26'),\n",
       "         array(['Honda Odyssey Minivan 2007'], dtype='<U26'),\n",
       "         array(['Honda Accord Coupe 2012'], dtype='<U23'),\n",
       "         array(['Honda Accord Sedan 2012'], dtype='<U23'),\n",
       "         array(['Hyundai Veloster Hatchback 2012'], dtype='<U31'),\n",
       "         array(['Hyundai Santa Fe SUV 2012'], dtype='<U25'),\n",
       "         array(['Hyundai Tucson SUV 2012'], dtype='<U23'),\n",
       "         array(['Hyundai Veracruz SUV 2012'], dtype='<U25'),\n",
       "         array(['Hyundai Sonata Hybrid Sedan 2012'], dtype='<U32'),\n",
       "         array(['Hyundai Elantra Sedan 2007'], dtype='<U26'),\n",
       "         array(['Hyundai Accent Sedan 2012'], dtype='<U25'),\n",
       "         array(['Hyundai Genesis Sedan 2012'], dtype='<U26'),\n",
       "         array(['Hyundai Sonata Sedan 2012'], dtype='<U25'),\n",
       "         array(['Hyundai Elantra Touring Hatchback 2012'], dtype='<U38'),\n",
       "         array(['Hyundai Azera Sedan 2012'], dtype='<U24'),\n",
       "         array(['Infiniti G Coupe IPL 2012'], dtype='<U25'),\n",
       "         array(['Infiniti QX56 SUV 2011'], dtype='<U22'),\n",
       "         array(['Isuzu Ascender SUV 2008'], dtype='<U23'),\n",
       "         array(['Jaguar XK XKR 2012'], dtype='<U18'),\n",
       "         array(['Jeep Patriot SUV 2012'], dtype='<U21'),\n",
       "         array(['Jeep Wrangler SUV 2012'], dtype='<U22'),\n",
       "         array(['Jeep Liberty SUV 2012'], dtype='<U21'),\n",
       "         array(['Jeep Grand Cherokee SUV 2012'], dtype='<U28'),\n",
       "         array(['Jeep Compass SUV 2012'], dtype='<U21'),\n",
       "         array(['Lamborghini Reventon Coupe 2008'], dtype='<U31'),\n",
       "         array(['Lamborghini Aventador Coupe 2012'], dtype='<U32'),\n",
       "         array(['Lamborghini Gallardo LP 570-4 Superleggera 2012'], dtype='<U47'),\n",
       "         array(['Lamborghini Diablo Coupe 2001'], dtype='<U29'),\n",
       "         array(['Land Rover Range Rover SUV 2012'], dtype='<U31'),\n",
       "         array(['Land Rover LR2 SUV 2012'], dtype='<U23'),\n",
       "         array(['Lincoln Town Car Sedan 2011'], dtype='<U27'),\n",
       "         array(['MINI Cooper Roadster Convertible 2012'], dtype='<U37'),\n",
       "         array(['Maybach Landaulet Convertible 2012'], dtype='<U34'),\n",
       "         array(['Mazda Tribute SUV 2011'], dtype='<U22'),\n",
       "         array(['McLaren MP4-12C Coupe 2012'], dtype='<U26'),\n",
       "         array(['Mercedes-Benz 300-Class Convertible 1993'], dtype='<U40'),\n",
       "         array(['Mercedes-Benz C-Class Sedan 2012'], dtype='<U32'),\n",
       "         array(['Mercedes-Benz SL-Class Coupe 2009'], dtype='<U33'),\n",
       "         array(['Mercedes-Benz E-Class Sedan 2012'], dtype='<U32'),\n",
       "         array(['Mercedes-Benz S-Class Sedan 2012'], dtype='<U32'),\n",
       "         array(['Mercedes-Benz Sprinter Van 2012'], dtype='<U31'),\n",
       "         array(['Mitsubishi Lancer Sedan 2012'], dtype='<U28'),\n",
       "         array(['Nissan Leaf Hatchback 2012'], dtype='<U26'),\n",
       "         array(['Nissan NV Passenger Van 2012'], dtype='<U28'),\n",
       "         array(['Nissan Juke Hatchback 2012'], dtype='<U26'),\n",
       "         array(['Nissan 240SX Coupe 1998'], dtype='<U23'),\n",
       "         array(['Plymouth Neon Coupe 1999'], dtype='<U24'),\n",
       "         array(['Porsche Panamera Sedan 2012'], dtype='<U27'),\n",
       "         array(['Ram C/V Cargo Van Minivan 2012'], dtype='<U30'),\n",
       "         array(['Rolls-Royce Phantom Drophead Coupe Convertible 2012'],\n",
       "       dtype='<U51'),\n",
       "         array(['Rolls-Royce Ghost Sedan 2012'], dtype='<U28'),\n",
       "         array(['Rolls-Royce Phantom Sedan 2012'], dtype='<U30'),\n",
       "         array(['Scion xD Hatchback 2012'], dtype='<U23'),\n",
       "         array(['Spyker C8 Convertible 2009'], dtype='<U26'),\n",
       "         array(['Spyker C8 Coupe 2009'], dtype='<U20'),\n",
       "         array(['Suzuki Aerio Sedan 2007'], dtype='<U23'),\n",
       "         array(['Suzuki Kizashi Sedan 2012'], dtype='<U25'),\n",
       "         array(['Suzuki SX4 Hatchback 2012'], dtype='<U25'),\n",
       "         array(['Suzuki SX4 Sedan 2012'], dtype='<U21'),\n",
       "         array(['Tesla Model S Sedan 2012'], dtype='<U24'),\n",
       "         array(['Toyota Sequoia SUV 2012'], dtype='<U23'),\n",
       "         array(['Toyota Camry Sedan 2012'], dtype='<U23'),\n",
       "         array(['Toyota Corolla Sedan 2012'], dtype='<U25'),\n",
       "         array(['Toyota 4Runner SUV 2012'], dtype='<U23'),\n",
       "         array(['Volkswagen Golf Hatchback 2012'], dtype='<U30'),\n",
       "         array(['Volkswagen Golf Hatchback 1991'], dtype='<U30'),\n",
       "         array(['Volkswagen Beetle Hatchback 2012'], dtype='<U32'),\n",
       "         array(['Volvo C30 Hatchback 2012'], dtype='<U24'),\n",
       "         array(['Volvo 240 Sedan 1993'], dtype='<U20'),\n",
       "         array(['Volvo XC90 SUV 2007'], dtype='<U19'),\n",
       "         array(['smart fortwo Convertible 2012'], dtype='<U29')]],\n",
       "       dtype=object)}"
      ]
     },
     "execution_count": 27,
     "metadata": {},
     "output_type": "execute_result"
    }
   ],
   "source": [
    "class_annos"
   ]
  },
  {
   "cell_type": "code",
   "execution_count": 28,
   "metadata": {
    "scrolled": true
   },
   "outputs": [
    {
     "data": {
      "text/plain": [
       "(['AM General Hummer SUV 2000',\n",
       "  'Acura RL Sedan 2012',\n",
       "  'Acura TL Sedan 2012',\n",
       "  'Acura TL Type-S 2008',\n",
       "  'Acura TSX Sedan 2012'],\n",
       " 196)"
      ]
     },
     "execution_count": 28,
     "metadata": {},
     "output_type": "execute_result"
    }
   ],
   "source": [
    "# extract class label strings into list\n",
    "labels = [class_annos[\"class_names\"][0][i][0] for i in range(total_labels)]\n",
    "labels[:5], len(labels)"
   ]
  },
  {
   "cell_type": "code",
   "execution_count": 29,
   "metadata": {
    "scrolled": true
   },
   "outputs": [
    {
     "name": "stdout",
     "output_type": "stream",
     "text": [
      " dataframe shape: (196, 1)\n"
     ]
    },
    {
     "data": {
      "text/html": [
       "<div>\n",
       "<style scoped>\n",
       "    .dataframe tbody tr th:only-of-type {\n",
       "        vertical-align: middle;\n",
       "    }\n",
       "\n",
       "    .dataframe tbody tr th {\n",
       "        vertical-align: top;\n",
       "    }\n",
       "\n",
       "    .dataframe thead th {\n",
       "        text-align: right;\n",
       "    }\n",
       "</style>\n",
       "<table border=\"1\" class=\"dataframe\">\n",
       "  <thead>\n",
       "    <tr style=\"text-align: right;\">\n",
       "      <th></th>\n",
       "      <th>0</th>\n",
       "    </tr>\n",
       "  </thead>\n",
       "  <tbody>\n",
       "    <tr>\n",
       "      <th>0</th>\n",
       "      <td>AM General Hummer SUV 2000</td>\n",
       "    </tr>\n",
       "    <tr>\n",
       "      <th>1</th>\n",
       "      <td>Acura RL Sedan 2012</td>\n",
       "    </tr>\n",
       "    <tr>\n",
       "      <th>2</th>\n",
       "      <td>Acura TL Sedan 2012</td>\n",
       "    </tr>\n",
       "    <tr>\n",
       "      <th>3</th>\n",
       "      <td>Acura TL Type-S 2008</td>\n",
       "    </tr>\n",
       "    <tr>\n",
       "      <th>4</th>\n",
       "      <td>Acura TSX Sedan 2012</td>\n",
       "    </tr>\n",
       "  </tbody>\n",
       "</table>\n",
       "</div>"
      ],
      "text/plain": [
       "                            0\n",
       "0  AM General Hummer SUV 2000\n",
       "1         Acura RL Sedan 2012\n",
       "2         Acura TL Sedan 2012\n",
       "3        Acura TL Type-S 2008\n",
       "4        Acura TSX Sedan 2012"
      ]
     },
     "execution_count": 29,
     "metadata": {},
     "output_type": "execute_result"
    }
   ],
   "source": [
    "# creating datafreame form list\n",
    "df_label = pd.DataFrame(labels)\n",
    "print(f' dataframe shape: {df_label.shape}')\n",
    "df_label.head()"
   ]
  },
  {
   "cell_type": "code",
   "execution_count": 30,
   "metadata": {},
   "outputs": [],
   "source": [
    "# create data frame new_labels of class labels sorted according to class numbers\n",
    "new_labels = pd.DataFrame(df_label[0][df['label']])"
   ]
  },
  {
   "cell_type": "code",
   "execution_count": 31,
   "metadata": {},
   "outputs": [
    {
     "data": {
      "text/html": [
       "<div>\n",
       "<style scoped>\n",
       "    .dataframe tbody tr th:only-of-type {\n",
       "        vertical-align: middle;\n",
       "    }\n",
       "\n",
       "    .dataframe tbody tr th {\n",
       "        vertical-align: top;\n",
       "    }\n",
       "\n",
       "    .dataframe thead th {\n",
       "        text-align: right;\n",
       "    }\n",
       "</style>\n",
       "<table border=\"1\" class=\"dataframe\">\n",
       "  <thead>\n",
       "    <tr style=\"text-align: right;\">\n",
       "      <th></th>\n",
       "      <th>0</th>\n",
       "    </tr>\n",
       "  </thead>\n",
       "  <tbody>\n",
       "    <tr>\n",
       "      <th>13</th>\n",
       "      <td>Audi TTS Coupe 2012</td>\n",
       "    </tr>\n",
       "    <tr>\n",
       "      <th>2</th>\n",
       "      <td>Acura TL Sedan 2012</td>\n",
       "    </tr>\n",
       "    <tr>\n",
       "      <th>90</th>\n",
       "      <td>Dodge Dakota Club Cab 2007</td>\n",
       "    </tr>\n",
       "    <tr>\n",
       "      <th>133</th>\n",
       "      <td>Hyundai Sonata Hybrid Sedan 2012</td>\n",
       "    </tr>\n",
       "    <tr>\n",
       "      <th>105</th>\n",
       "      <td>Ford F-450 Super Duty Crew Cab 2012</td>\n",
       "    </tr>\n",
       "  </tbody>\n",
       "</table>\n",
       "</div>"
      ],
      "text/plain": [
       "                                       0\n",
       "13                   Audi TTS Coupe 2012\n",
       "2                    Acura TL Sedan 2012\n",
       "90            Dodge Dakota Club Cab 2007\n",
       "133     Hyundai Sonata Hybrid Sedan 2012\n",
       "105  Ford F-450 Super Duty Crew Cab 2012"
      ]
     },
     "execution_count": 31,
     "metadata": {},
     "output_type": "execute_result"
    }
   ],
   "source": [
    "new_labels.head()"
   ]
  },
  {
   "cell_type": "code",
   "execution_count": 32,
   "metadata": {},
   "outputs": [
    {
     "data": {
      "text/html": [
       "<div>\n",
       "<style scoped>\n",
       "    .dataframe tbody tr th:only-of-type {\n",
       "        vertical-align: middle;\n",
       "    }\n",
       "\n",
       "    .dataframe tbody tr th {\n",
       "        vertical-align: top;\n",
       "    }\n",
       "\n",
       "    .dataframe thead th {\n",
       "        text-align: right;\n",
       "    }\n",
       "</style>\n",
       "<table border=\"1\" class=\"dataframe\">\n",
       "  <thead>\n",
       "    <tr style=\"text-align: right;\">\n",
       "      <th></th>\n",
       "      <th>0</th>\n",
       "    </tr>\n",
       "  </thead>\n",
       "  <tbody>\n",
       "    <tr>\n",
       "      <th>0</th>\n",
       "      <td>Audi TTS Coupe 2012</td>\n",
       "    </tr>\n",
       "    <tr>\n",
       "      <th>1</th>\n",
       "      <td>Acura TL Sedan 2012</td>\n",
       "    </tr>\n",
       "    <tr>\n",
       "      <th>2</th>\n",
       "      <td>Dodge Dakota Club Cab 2007</td>\n",
       "    </tr>\n",
       "    <tr>\n",
       "      <th>3</th>\n",
       "      <td>Hyundai Sonata Hybrid Sedan 2012</td>\n",
       "    </tr>\n",
       "    <tr>\n",
       "      <th>4</th>\n",
       "      <td>Ford F-450 Super Duty Crew Cab 2012</td>\n",
       "    </tr>\n",
       "  </tbody>\n",
       "</table>\n",
       "</div>"
      ],
      "text/plain": [
       "                                     0\n",
       "0                  Audi TTS Coupe 2012\n",
       "1                  Acura TL Sedan 2012\n",
       "2           Dodge Dakota Club Cab 2007\n",
       "3     Hyundai Sonata Hybrid Sedan 2012\n",
       "4  Ford F-450 Super Duty Crew Cab 2012"
      ]
     },
     "execution_count": 32,
     "metadata": {},
     "output_type": "execute_result"
    }
   ],
   "source": [
    "# reset index\n",
    "new_labels.reset_index(inplace=True)\n",
    "new_labels=new_labels.drop(columns='index', axis=1)\n",
    "new_labels.head()"
   ]
  },
  {
   "cell_type": "code",
   "execution_count": 33,
   "metadata": {
    "scrolled": false
   },
   "outputs": [
    {
     "data": {
      "text/html": [
       "<div>\n",
       "<style scoped>\n",
       "    .dataframe tbody tr th:only-of-type {\n",
       "        vertical-align: middle;\n",
       "    }\n",
       "\n",
       "    .dataframe tbody tr th {\n",
       "        vertical-align: top;\n",
       "    }\n",
       "\n",
       "    .dataframe thead th {\n",
       "        text-align: right;\n",
       "    }\n",
       "</style>\n",
       "<table border=\"1\" class=\"dataframe\">\n",
       "  <thead>\n",
       "    <tr style=\"text-align: right;\">\n",
       "      <th></th>\n",
       "      <th>name</th>\n",
       "      <th>label</th>\n",
       "    </tr>\n",
       "  </thead>\n",
       "  <tbody>\n",
       "    <tr>\n",
       "      <th>0</th>\n",
       "      <td>cars_train/00001.jpg</td>\n",
       "      <td>Audi TTS Coupe 2012</td>\n",
       "    </tr>\n",
       "    <tr>\n",
       "      <th>1</th>\n",
       "      <td>cars_train/00002.jpg</td>\n",
       "      <td>Acura TL Sedan 2012</td>\n",
       "    </tr>\n",
       "    <tr>\n",
       "      <th>2</th>\n",
       "      <td>cars_train/00003.jpg</td>\n",
       "      <td>Dodge Dakota Club Cab 2007</td>\n",
       "    </tr>\n",
       "    <tr>\n",
       "      <th>3</th>\n",
       "      <td>cars_train/00004.jpg</td>\n",
       "      <td>Hyundai Sonata Hybrid Sedan 2012</td>\n",
       "    </tr>\n",
       "    <tr>\n",
       "      <th>4</th>\n",
       "      <td>cars_train/00005.jpg</td>\n",
       "      <td>Ford F-450 Super Duty Crew Cab 2012</td>\n",
       "    </tr>\n",
       "  </tbody>\n",
       "</table>\n",
       "</div>"
      ],
      "text/plain": [
       "                   name                                label\n",
       "0  cars_train/00001.jpg                  Audi TTS Coupe 2012\n",
       "1  cars_train/00002.jpg                  Acura TL Sedan 2012\n",
       "2  cars_train/00003.jpg           Dodge Dakota Club Cab 2007\n",
       "3  cars_train/00004.jpg     Hyundai Sonata Hybrid Sedan 2012\n",
       "4  cars_train/00005.jpg  Ford F-450 Super Duty Crew Cab 2012"
      ]
     },
     "execution_count": 33,
     "metadata": {},
     "output_type": "execute_result"
    }
   ],
   "source": [
    "# reaplace integer class numbers with string  class labels\n",
    "df['label'] = new_labels\n",
    "df.head()"
   ]
  },
  {
   "cell_type": "code",
   "execution_count": 34,
   "metadata": {},
   "outputs": [
    {
     "data": {
      "text/plain": [
       "((8144,), (8144,))"
      ]
     },
     "execution_count": 34,
     "metadata": {},
     "output_type": "execute_result"
    }
   ],
   "source": [
    "# e.g. itterating through df['name']\n",
    "# for indx, row in df.iterrows():\n",
    "#     print(row['name'])\n",
    "\n",
    "# create python data dictionary {}, path/file and image size(x,y)\n",
    "# ps very long processing time\n",
    "e_d = {f'{PATH}/{row[\"name\"]}': Image.open(f'{PATH}/{row[\"name\"]}').size for ind, row in df.iterrows()}\n",
    "#transform to list\n",
    "row_sz, col_sz = list(zip(*e_d.values()))\n",
    "# and to numpy\n",
    "row_sz = np.array(row_sz); col_sz = np.array(col_sz)\n",
    "row_sz.shape, col_sz.shape"
   ]
  },
  {
   "cell_type": "code",
   "execution_count": 35,
   "metadata": {
    "scrolled": true
   },
   "outputs": [
    {
     "data": {
      "image/png": "[encoded data removed]",
      "text/plain": [
       "<Figure size 432x288 with 1 Axes>"
      ]
     },
     "metadata": {
      "needs_background": "light"
     },
     "output_type": "display_data"
    }
   ],
   "source": [
    "plt.hist(row_sz);"
   ]
  },
  {
   "cell_type": "code",
   "execution_count": 36,
   "metadata": {
    "scrolled": true
   },
   "outputs": [
    {
     "data": {
      "image/png": "[encoded data removed]",
      "text/plain": [
       "<Figure size 432x288 with 1 Axes>"
      ]
     },
     "metadata": {
      "needs_background": "light"
     },
     "output_type": "display_data"
    }
   ],
   "source": [
    "plt.hist(col_sz);"
   ]
  },
  {
   "cell_type": "code",
   "execution_count": 37,
   "metadata": {},
   "outputs": [],
   "source": [
    "# histogram of all classes\n",
    "# TODO"
   ]
  },
  {
   "cell_type": "code",
   "execution_count": 38,
   "metadata": {},
   "outputs": [
    {
     "data": {
      "text/plain": [
       "False"
      ]
     },
     "execution_count": 38,
     "metadata": {},
     "output_type": "execute_result"
    }
   ],
   "source": [
    "# check for NoN values\n",
    "df['label'].isnull().any()"
   ]
  },
  {
   "cell_type": "code",
   "execution_count": 39,
   "metadata": {},
   "outputs": [],
   "source": [
    "# split dataframe into train and test\n",
    "import random\n",
    "np.random.seed(42)\n",
    "\n",
    "def splitDF(df, train_ratio):\n",
    "    df['random_number'] = np.random.rand(len(df))\n",
    "\n",
    "    train = df[df['random_number'] <= train_ratio]\n",
    "    test = df[df['random_number'] > train_ratio]\n",
    "    return (train, test)"
   ]
  },
  {
   "cell_type": "code",
   "execution_count": 40,
   "metadata": {},
   "outputs": [],
   "source": [
    "train, test = splitDF(df,0.8)"
   ]
  },
  {
   "cell_type": "code",
   "execution_count": 41,
   "metadata": {},
   "outputs": [
    {
     "data": {
      "text/plain": [
       "(6526, 1618)"
      ]
     },
     "execution_count": 41,
     "metadata": {},
     "output_type": "execute_result"
    }
   ],
   "source": [
    "len(train), len(test)"
   ]
  },
  {
   "cell_type": "code",
   "execution_count": 42,
   "metadata": {},
   "outputs": [
    {
     "data": {
      "text/html": [
       "<div>\n",
       "<style scoped>\n",
       "    .dataframe tbody tr th:only-of-type {\n",
       "        vertical-align: middle;\n",
       "    }\n",
       "\n",
       "    .dataframe tbody tr th {\n",
       "        vertical-align: top;\n",
       "    }\n",
       "\n",
       "    .dataframe thead th {\n",
       "        text-align: right;\n",
       "    }\n",
       "</style>\n",
       "<table border=\"1\" class=\"dataframe\">\n",
       "  <thead>\n",
       "    <tr style=\"text-align: right;\">\n",
       "      <th></th>\n",
       "      <th>name</th>\n",
       "      <th>label</th>\n",
       "      <th>random_number</th>\n",
       "    </tr>\n",
       "  </thead>\n",
       "  <tbody>\n",
       "    <tr>\n",
       "      <th>0</th>\n",
       "      <td>cars_train/00001.jpg</td>\n",
       "      <td>Audi TTS Coupe 2012</td>\n",
       "      <td>0.374540</td>\n",
       "    </tr>\n",
       "    <tr>\n",
       "      <th>2</th>\n",
       "      <td>cars_train/00003.jpg</td>\n",
       "      <td>Dodge Dakota Club Cab 2007</td>\n",
       "      <td>0.731994</td>\n",
       "    </tr>\n",
       "    <tr>\n",
       "      <th>3</th>\n",
       "      <td>cars_train/00004.jpg</td>\n",
       "      <td>Hyundai Sonata Hybrid Sedan 2012</td>\n",
       "      <td>0.598658</td>\n",
       "    </tr>\n",
       "    <tr>\n",
       "      <th>4</th>\n",
       "      <td>cars_train/00005.jpg</td>\n",
       "      <td>Ford F-450 Super Duty Crew Cab 2012</td>\n",
       "      <td>0.156019</td>\n",
       "    </tr>\n",
       "    <tr>\n",
       "      <th>5</th>\n",
       "      <td>cars_train/00006.jpg</td>\n",
       "      <td>Geo Metro Convertible 1993</td>\n",
       "      <td>0.155995</td>\n",
       "    </tr>\n",
       "    <tr>\n",
       "      <th>6</th>\n",
       "      <td>cars_train/00007.jpg</td>\n",
       "      <td>Dodge Journey SUV 2012</td>\n",
       "      <td>0.058084</td>\n",
       "    </tr>\n",
       "    <tr>\n",
       "      <th>8</th>\n",
       "      <td>cars_train/00009.jpg</td>\n",
       "      <td>Mitsubishi Lancer Sedan 2012</td>\n",
       "      <td>0.601115</td>\n",
       "    </tr>\n",
       "    <tr>\n",
       "      <th>9</th>\n",
       "      <td>cars_train/00010.jpg</td>\n",
       "      <td>Chevrolet Traverse SUV 2012</td>\n",
       "      <td>0.708073</td>\n",
       "    </tr>\n",
       "    <tr>\n",
       "      <th>10</th>\n",
       "      <td>cars_train/00011.jpg</td>\n",
       "      <td>Buick Verano Sedan 2012</td>\n",
       "      <td>0.020584</td>\n",
       "    </tr>\n",
       "    <tr>\n",
       "      <th>13</th>\n",
       "      <td>cars_train/00014.jpg</td>\n",
       "      <td>Dodge Caravan Minivan 1997</td>\n",
       "      <td>0.212339</td>\n",
       "    </tr>\n",
       "  </tbody>\n",
       "</table>\n",
       "</div>"
      ],
      "text/plain": [
       "                    name                                label  random_number\n",
       "0   cars_train/00001.jpg                  Audi TTS Coupe 2012       0.374540\n",
       "2   cars_train/00003.jpg           Dodge Dakota Club Cab 2007       0.731994\n",
       "3   cars_train/00004.jpg     Hyundai Sonata Hybrid Sedan 2012       0.598658\n",
       "4   cars_train/00005.jpg  Ford F-450 Super Duty Crew Cab 2012       0.156019\n",
       "5   cars_train/00006.jpg           Geo Metro Convertible 1993       0.155995\n",
       "6   cars_train/00007.jpg               Dodge Journey SUV 2012       0.058084\n",
       "8   cars_train/00009.jpg         Mitsubishi Lancer Sedan 2012       0.601115\n",
       "9   cars_train/00010.jpg          Chevrolet Traverse SUV 2012       0.708073\n",
       "10  cars_train/00011.jpg              Buick Verano Sedan 2012       0.020584\n",
       "13  cars_train/00014.jpg           Dodge Caravan Minivan 1997       0.212339"
      ]
     },
     "execution_count": 42,
     "metadata": {},
     "output_type": "execute_result"
    }
   ],
   "source": [
    "train.head(10)"
   ]
  },
  {
   "cell_type": "code",
   "execution_count": 43,
   "metadata": {},
   "outputs": [
    {
     "data": {
      "text/html": [
       "<div>\n",
       "<style scoped>\n",
       "    .dataframe tbody tr th:only-of-type {\n",
       "        vertical-align: middle;\n",
       "    }\n",
       "\n",
       "    .dataframe tbody tr th {\n",
       "        vertical-align: top;\n",
       "    }\n",
       "\n",
       "    .dataframe thead th {\n",
       "        text-align: right;\n",
       "    }\n",
       "</style>\n",
       "<table border=\"1\" class=\"dataframe\">\n",
       "  <thead>\n",
       "    <tr style=\"text-align: right;\">\n",
       "      <th></th>\n",
       "      <th>name</th>\n",
       "      <th>label</th>\n",
       "      <th>random_number</th>\n",
       "    </tr>\n",
       "  </thead>\n",
       "  <tbody>\n",
       "    <tr>\n",
       "      <th>1</th>\n",
       "      <td>cars_train/00002.jpg</td>\n",
       "      <td>Acura TL Sedan 2012</td>\n",
       "      <td>0.950714</td>\n",
       "    </tr>\n",
       "    <tr>\n",
       "      <th>7</th>\n",
       "      <td>cars_train/00008.jpg</td>\n",
       "      <td>Dodge Charger Sedan 2012</td>\n",
       "      <td>0.866176</td>\n",
       "    </tr>\n",
       "    <tr>\n",
       "      <th>11</th>\n",
       "      <td>cars_train/00012.jpg</td>\n",
       "      <td>Toyota Sequoia SUV 2012</td>\n",
       "      <td>0.969910</td>\n",
       "    </tr>\n",
       "    <tr>\n",
       "      <th>12</th>\n",
       "      <td>cars_train/00013.jpg</td>\n",
       "      <td>Hyundai Elantra Sedan 2007</td>\n",
       "      <td>0.832443</td>\n",
       "    </tr>\n",
       "    <tr>\n",
       "      <th>33</th>\n",
       "      <td>cars_train/00034.jpg</td>\n",
       "      <td>Hyundai Veracruz SUV 2012</td>\n",
       "      <td>0.948886</td>\n",
       "    </tr>\n",
       "  </tbody>\n",
       "</table>\n",
       "</div>"
      ],
      "text/plain": [
       "                    name                       label  random_number\n",
       "1   cars_train/00002.jpg         Acura TL Sedan 2012       0.950714\n",
       "7   cars_train/00008.jpg    Dodge Charger Sedan 2012       0.866176\n",
       "11  cars_train/00012.jpg     Toyota Sequoia SUV 2012       0.969910\n",
       "12  cars_train/00013.jpg  Hyundai Elantra Sedan 2007       0.832443\n",
       "33  cars_train/00034.jpg   Hyundai Veracruz SUV 2012       0.948886"
      ]
     },
     "execution_count": 43,
     "metadata": {},
     "output_type": "execute_result"
    }
   ],
   "source": [
    "test.head()"
   ]
  },
  {
   "cell_type": "code",
   "execution_count": 44,
   "metadata": {},
   "outputs": [],
   "source": [
    "Data_DIR = '/home/norvilr/ml/data/StanfordCars'\n",
    "Model_DIR = '/home/norvilr/ml/github/AI/VSoAI/ImageClassification/StanfordCars2'"
   ]
  },
  {
   "cell_type": "markdown",
   "metadata": {},
   "source": [
    "#create folders based on class labels and copy files\n",
    "#run just once, to create folders and copy files"
   ]
  },
  {
   "cell_type": "markdown",
   "metadata": {},
   "source": [
    "os.getcwd() "
   ]
  },
  {
   "cell_type": "markdown",
   "metadata": {},
   "source": [
    "def createClassFolders():\n",
    "    for folder in df['label']:\n",
    "        if not os.path.exists(folder):\n",
    "            os.makedirs(folder)   "
   ]
  },
  {
   "cell_type": "markdown",
   "metadata": {},
   "source": [
    "if os.getcwd()  != Data_DIR:\n",
    "    os.chdir(Data_DIR)\n",
    "!ls"
   ]
  },
  {
   "cell_type": "markdown",
   "metadata": {},
   "source": [
    "if not os.path.exists('train'):\n",
    "    os.makedirs('train')    \n",
    "if not os.path.exists('test'):\n",
    "    os.makedirs('test')\n",
    "print(os.listdir())    "
   ]
  },
  {
   "cell_type": "markdown",
   "metadata": {},
   "source": [
    "if os.path.exists('train'):\n",
    "    os.chdir('train')\n",
    "    createClassFolders()\n",
    "if os.path.exists('../test'):\n",
    "    os.chdir('../test')\n",
    "    createClassFolders()    \n",
    "os.chdir('../')    "
   ]
  },
  {
   "cell_type": "markdown",
   "metadata": {},
   "source": [
    "print( 'created class subdirectories in train: ')\n",
    "!find train -mindepth 1 -type d | wc -l\n",
    "print( 'created class subdirectories in train: ')\n",
    "!find test -mindepth 1 -type d | wc -l"
   ]
  },
  {
   "cell_type": "markdown",
   "metadata": {},
   "source": [
    "#copy files into train subdirs\n",
    "for index, row in train.iterrows():\n",
    "    cmd = f'cp -f {row[\"name\"]} train/\"{row[\"label\"]}\"/'\n",
    "    os.popen(cmd) "
   ]
  },
  {
   "cell_type": "markdown",
   "metadata": {},
   "source": [
    "#copy files into test subdirs\n",
    "for index, row in test.iterrows():\n",
    "    cmd = f'cp -f {row[\"name\"]} test/\"{row[\"label\"]}\"/'\n",
    "    os.popen(cmd) "
   ]
  },
  {
   "cell_type": "markdown",
   "metadata": {},
   "source": [
    "#return to jupyter notebook directory\n",
    "if os.getcwd()  != Model_DIR:\n",
    "    os.chdir(Model_DIR)\n",
    "!ls"
   ]
  },
  {
   "cell_type": "code",
   "execution_count": 61,
   "metadata": {},
   "outputs": [],
   "source": [
    "train_dir = 'train'\n",
    "val_dir = 'test'\n",
    "\n",
    "batch_size = 16\n",
    "image_size = 224"
   ]
  },
  {
   "cell_type": "code",
   "execution_count": 46,
   "metadata": {},
   "outputs": [],
   "source": [
    "## KERAS code\n",
    "from tensorflow.keras.applications import ResNet50\n",
    "from tensorflow.keras.models import Sequential\n",
    "from tensorflow.keras.layers import Dense, Flatten, Activation, Conv2D, GlobalAveragePooling2D, Dropout, Concatenate, Lambda, ZeroPadding2D\n",
    "from tensorflow.keras.layers import BatchNormalization\n",
    "from tensorflow.keras import optimizers"
   ]
  },
  {
   "cell_type": "code",
   "execution_count": 47,
   "metadata": {},
   "outputs": [],
   "source": [
    "num_classes = len(labels)"
   ]
  },
  {
   "cell_type": "code",
   "execution_count": 48,
   "metadata": {},
   "outputs": [],
   "source": [
    "KERNEL_SIZE = 3"
   ]
  },
  {
   "cell_type": "code",
   "execution_count": 63,
   "metadata": {},
   "outputs": [],
   "source": [
    "model = Sequential()\n",
    "model.add(Conv2D(12,\n",
    "         activation='relu',\n",
    "         kernel_size=(3, 3),\n",
    "         input_shape = (image_size, image_size, 3)))\n",
    "model.add(Conv2D(20, activation='relu', kernel_size=(KERNEL_SIZE,KERNEL_SIZE)))\n",
    "model.add(Conv2D(20, activation='relu', kernel_size=(KERNEL_SIZE,KERNEL_SIZE)))\n",
    "model.add(BatchNormalization())\n",
    "model.add(Dropout(0.25))\n",
    "# added an addition Conv2D layer\n",
    "model.add(Conv2D(20, activation='relu', kernel_size=(KERNEL_SIZE,KERNEL_SIZE)))\n",
    "model.add(GlobalAveragePooling2D())\n",
    "model.add(Flatten())\n",
    "model.add(Dense(512, activation='relu'))\n",
    "model.add(BatchNormalization())\n",
    "model.add(Dropout(0.5))\n",
    "# It is important not to change the last layer. First argument matches number of classes.\n",
    "#Softmax guarantees we get reasonable probabilities\n",
    "model.add(Dense(num_classes, activation='softmax'))\n"
   ]
  },
  {
   "cell_type": "code",
   "execution_count": 64,
   "metadata": {},
   "outputs": [
    {
     "name": "stdout",
     "output_type": "stream",
     "text": [
      "_________________________________________________________________\n",
      "Layer (type)                 Output Shape              Param #   \n",
      "=================================================================\n",
      "conv2d_7 (Conv2D)            (None, 222, 222, 12)      336       \n",
      "_________________________________________________________________\n",
      "conv2d_8 (Conv2D)            (None, 220, 220, 20)      2180      \n",
      "_________________________________________________________________\n",
      "conv2d_9 (Conv2D)            (None, 218, 218, 20)      3620      \n",
      "_________________________________________________________________\n",
      "batch_normalization_v1_2 (Ba (None, 218, 218, 20)      80        \n",
      "_________________________________________________________________\n",
      "dropout_2 (Dropout)          (None, 218, 218, 20)      0         \n",
      "_________________________________________________________________\n",
      "conv2d_10 (Conv2D)           (None, 216, 216, 20)      3620      \n",
      "_________________________________________________________________\n",
      "global_average_pooling2d_1 ( (None, 20)                0         \n",
      "_________________________________________________________________\n",
      "flatten_2 (Flatten)          (None, 20)                0         \n",
      "_________________________________________________________________\n",
      "dense_4 (Dense)              (None, 512)               10752     \n",
      "_________________________________________________________________\n",
      "batch_normalization_v1_3 (Ba (None, 512)               2048      \n",
      "_________________________________________________________________\n",
      "dropout_3 (Dropout)          (None, 512)               0         \n",
      "_________________________________________________________________\n",
      "dense_5 (Dense)              (None, 196)               100548    \n",
      "=================================================================\n",
      "Total params: 123,184\n",
      "Trainable params: 122,120\n",
      "Non-trainable params: 1,064\n",
      "_________________________________________________________________\n"
     ]
    }
   ],
   "source": [
    "model.summary()"
   ]
  },
  {
   "cell_type": "code",
   "execution_count": 65,
   "metadata": {},
   "outputs": [],
   "source": [
    "sgd = optimizers.SGD(lr=0.001, decay=1e-6, momentum=0.9, nesterov=True)\n",
    "model.compile(optimizer=sgd, loss='categorical_crossentropy', metrics=['accuracy'])"
   ]
  },
  {
   "cell_type": "code",
   "execution_count": 66,
   "metadata": {},
   "outputs": [],
   "source": [
    "from tensorflow.keras.applications.resnet50 import preprocess_input\n",
    "from tensorflow.keras.preprocessing.image import ImageDataGenerator\n",
    "\n",
    "# Specify the values for all arguments to data_generator_with_aug.\n",
    "data_generator_with_aug = ImageDataGenerator(preprocessing_function=preprocess_input,\n",
    "                                              horizontal_flip = True,\n",
    "                                              rotation_range=10,\n",
    "                                              shear_range=0.2,\n",
    "                                              zoom_range=0.2,\n",
    "                                              width_shift_range = 0.1,\n",
    "                                              height_shift_range = 0.1)\n",
    "            \n",
    "data_generator_no_aug = ImageDataGenerator(preprocessing_function=preprocess_input)"
   ]
  },
  {
   "cell_type": "code",
   "execution_count": 67,
   "metadata": {},
   "outputs": [
    {
     "name": "stdout",
     "output_type": "stream",
     "text": [
      "Found 6571 images belonging to 196 classes.\n",
      "Found 1573 images belonging to 196 classes.\n"
     ]
    }
   ],
   "source": [
    "train_generator = data_generator_with_aug.flow_from_directory(\n",
    "                                          directory   = Data_DIR+'/'+train_dir,\n",
    "                                          target_size = (image_size, image_size),\n",
    "                                          batch_size  = batch_size,\n",
    "                                          class_mode  = 'categorical')\n",
    "\n",
    "validation_generator = data_generator_no_aug.flow_from_directory(\n",
    "                                             directory   = Data_DIR+'/'+val_dir,\n",
    "                                             target_size = (image_size, image_size),\n",
    "                                             class_mode  = 'categorical')\n"
   ]
  },
  {
   "cell_type": "code",
   "execution_count": 68,
   "metadata": {},
   "outputs": [
    {
     "name": "stdout",
     "output_type": "stream",
     "text": [
      "Epoch 1/24\n",
      "220/548 [===========>..................] - ETA: 9s - loss: 5.4120 - acc: 0.0083"
     ]
    },
    {
     "name": "stderr",
     "output_type": "stream",
     "text": [
      "Process ForkPoolWorker-78:\n",
      "Process ForkPoolWorker-80:\n",
      "Process ForkPoolWorker-76:\n",
      "Process ForkPoolWorker-79:\n",
      "Process ForkPoolWorker-77:\n",
      "Traceback (most recent call last):\n",
      "  File \"/home/norvilr/anaconda3/envs/KerasGPU/lib/python3.7/multiprocessing/process.py\", line 297, in _bootstrap\n",
      "    self.run()\n",
      "Traceback (most recent call last):\n",
      "  File \"/home/norvilr/anaconda3/envs/KerasGPU/lib/python3.7/multiprocessing/process.py\", line 99, in run\n",
      "    self._target(*self._args, **self._kwargs)\n",
      "Traceback (most recent call last):\n",
      "  File \"/home/norvilr/anaconda3/envs/KerasGPU/lib/python3.7/multiprocessing/process.py\", line 297, in _bootstrap\n",
      "    self.run()\n",
      "  File \"/home/norvilr/anaconda3/envs/KerasGPU/lib/python3.7/multiprocessing/pool.py\", line 121, in worker\n",
      "    result = (True, func(*args, **kwds))\n",
      "  File \"/home/norvilr/anaconda3/envs/KerasGPU/lib/python3.7/multiprocessing/process.py\", line 297, in _bootstrap\n",
      "    self.run()\n",
      "Traceback (most recent call last):\n",
      "Traceback (most recent call last):\n",
      "  File \"/home/norvilr/anaconda3/envs/KerasGPU/lib/python3.7/site-packages/tensorflow/python/keras/utils/data_utils.py\", line 445, in get_index\n",
      "    return _SHARED_SEQUENCES[uid][i]\n",
      "  File \"/home/norvilr/anaconda3/envs/KerasGPU/lib/python3.7/multiprocessing/process.py\", line 297, in _bootstrap\n",
      "    self.run()\n",
      "  File \"/home/norvilr/anaconda3/envs/KerasGPU/lib/python3.7/multiprocessing/process.py\", line 297, in _bootstrap\n",
      "    self.run()\n",
      "  File \"/home/norvilr/anaconda3/envs/KerasGPU/lib/python3.7/multiprocessing/process.py\", line 99, in run\n",
      "    self._target(*self._args, **self._kwargs)\n",
      "  File \"/home/norvilr/anaconda3/envs/KerasGPU/lib/python3.7/site-packages/keras_preprocessing/image/iterator.py\", line 65, in __getitem__\n",
      "    return self._get_batches_of_transformed_samples(index_array)\n",
      "  File \"/home/norvilr/anaconda3/envs/KerasGPU/lib/python3.7/multiprocessing/process.py\", line 99, in run\n",
      "    self._target(*self._args, **self._kwargs)\n",
      "  File \"/home/norvilr/anaconda3/envs/KerasGPU/lib/python3.7/multiprocessing/process.py\", line 99, in run\n",
      "    self._target(*self._args, **self._kwargs)\n",
      "  File \"/home/norvilr/anaconda3/envs/KerasGPU/lib/python3.7/multiprocessing/pool.py\", line 121, in worker\n",
      "    result = (True, func(*args, **kwds))\n",
      "  File \"/home/norvilr/anaconda3/envs/KerasGPU/lib/python3.7/site-packages/keras_preprocessing/image/iterator.py\", line 234, in _get_batches_of_transformed_samples\n",
      "    x = self.image_data_generator.apply_transform(x, params)\n",
      "  File \"/home/norvilr/anaconda3/envs/KerasGPU/lib/python3.7/multiprocessing/pool.py\", line 121, in worker\n",
      "    result = (True, func(*args, **kwds))\n",
      "  File \"/home/norvilr/anaconda3/envs/KerasGPU/lib/python3.7/site-packages/tensorflow/python/keras/utils/data_utils.py\", line 445, in get_index\n",
      "    return _SHARED_SEQUENCES[uid][i]\n",
      "  File \"/home/norvilr/anaconda3/envs/KerasGPU/lib/python3.7/multiprocessing/pool.py\", line 121, in worker\n",
      "    result = (True, func(*args, **kwds))\n",
      "  File \"/home/norvilr/anaconda3/envs/KerasGPU/lib/python3.7/site-packages/keras_preprocessing/image/image_data_generator.py\", line 853, in apply_transform\n",
      "    order=self.interpolation_order)\n",
      "  File \"/home/norvilr/anaconda3/envs/KerasGPU/lib/python3.7/site-packages/tensorflow/python/keras/utils/data_utils.py\", line 445, in get_index\n",
      "    return _SHARED_SEQUENCES[uid][i]\n",
      "  File \"/home/norvilr/anaconda3/envs/KerasGPU/lib/python3.7/site-packages/tensorflow/python/keras/utils/data_utils.py\", line 445, in get_index\n",
      "    return _SHARED_SEQUENCES[uid][i]\n",
      "  File \"/home/norvilr/anaconda3/envs/KerasGPU/lib/python3.7/site-packages/keras_preprocessing/image/affine_transformations.py\", line 330, in apply_affine_transform\n",
      "    cval=cval) for x_channel in x]\n",
      "  File \"/home/norvilr/anaconda3/envs/KerasGPU/lib/python3.7/site-packages/keras_preprocessing/image/iterator.py\", line 65, in __getitem__\n",
      "    return self._get_batches_of_transformed_samples(index_array)\n",
      "  File \"/home/norvilr/anaconda3/envs/KerasGPU/lib/python3.7/site-packages/keras_preprocessing/image/iterator.py\", line 65, in __getitem__\n",
      "    return self._get_batches_of_transformed_samples(index_array)\n",
      "  File \"/home/norvilr/anaconda3/envs/KerasGPU/lib/python3.7/site-packages/keras_preprocessing/image/iterator.py\", line 65, in __getitem__\n",
      "    return self._get_batches_of_transformed_samples(index_array)\n",
      "  File \"/home/norvilr/anaconda3/envs/KerasGPU/lib/python3.7/site-packages/keras_preprocessing/image/affine_transformations.py\", line 330, in <listcomp>\n",
      "    cval=cval) for x_channel in x]\n",
      "  File \"/home/norvilr/anaconda3/envs/KerasGPU/lib/python3.7/site-packages/keras_preprocessing/image/iterator.py\", line 226, in _get_batches_of_transformed_samples\n",
      "    interpolation=self.interpolation)\n",
      "  File \"/home/norvilr/anaconda3/envs/KerasGPU/lib/python3.7/site-packages/keras_preprocessing/image/iterator.py\", line 226, in _get_batches_of_transformed_samples\n",
      "    interpolation=self.interpolation)\n",
      "  File \"/home/norvilr/anaconda3/envs/KerasGPU/lib/python3.7/site-packages/keras_preprocessing/image/iterator.py\", line 234, in _get_batches_of_transformed_samples\n",
      "    x = self.image_data_generator.apply_transform(x, params)\n",
      "  File \"/home/norvilr/anaconda3/envs/KerasGPU/lib/python3.7/site-packages/scipy/ndimage/interpolation.py\", line 480, in affine_transform\n",
      "    output, order, mode, cval, None, None)\n",
      "  File \"/home/norvilr/anaconda3/envs/KerasGPU/lib/python3.7/site-packages/keras_preprocessing/image/utils.py\", line 126, in load_img\n",
      "    img = img.resize(width_height_tuple, resample)\n",
      "  File \"/home/norvilr/anaconda3/envs/KerasGPU/lib/python3.7/site-packages/keras_preprocessing/image/utils.py\", line 126, in load_img\n",
      "    img = img.resize(width_height_tuple, resample)\n",
      "  File \"/home/norvilr/anaconda3/envs/KerasGPU/lib/python3.7/site-packages/keras_preprocessing/image/image_data_generator.py\", line 853, in apply_transform\n",
      "    order=self.interpolation_order)\n",
      "  File \"/home/norvilr/anaconda3/envs/KerasGPU/lib/python3.7/multiprocessing/process.py\", line 99, in run\n",
      "    self._target(*self._args, **self._kwargs)\n",
      "KeyboardInterrupt\n"
     ]
    },
    {
     "ename": "KeyboardInterrupt",
     "evalue": "",
     "output_type": "error",
     "traceback": [
      "\u001b[0;31m---------------------------------------------------------------------------\u001b[0m",
      "\u001b[0;31mKeyboardInterrupt\u001b[0m                         Traceback (most recent call last)",
      "\u001b[0;32m<ipython-input-68-72962585d03e>\u001b[0m in \u001b[0;36m<module>\u001b[0;34m\u001b[0m\n\u001b[1;32m      5\u001b[0m             \u001b[0mvalidation_data\u001b[0m\u001b[0;34m=\u001b[0m\u001b[0mvalidation_generator\u001b[0m\u001b[0;34m,\u001b[0m\u001b[0;34m\u001b[0m\u001b[0;34m\u001b[0m\u001b[0m\n\u001b[1;32m      6\u001b[0m             \u001b[0mworkers\u001b[0m\u001b[0;34m=\u001b[0m\u001b[0;36m8\u001b[0m\u001b[0;34m,\u001b[0m\u001b[0;34m\u001b[0m\u001b[0;34m\u001b[0m\u001b[0m\n\u001b[0;32m----> 7\u001b[0;31m             \u001b[0muse_multiprocessing\u001b[0m\u001b[0;34m=\u001b[0m\u001b[0;32mTrue\u001b[0m\u001b[0;34m,\u001b[0m\u001b[0;34m\u001b[0m\u001b[0;34m\u001b[0m\u001b[0m\n\u001b[0m\u001b[1;32m      8\u001b[0m             )\n",
      "\u001b[0;32m~/anaconda3/envs/KerasGPU/lib/python3.7/site-packages/tensorflow/python/keras/engine/training.py\u001b[0m in \u001b[0;36mfit_generator\u001b[0;34m(self, generator, steps_per_epoch, epochs, verbose, callbacks, validation_data, validation_steps, class_weight, max_queue_size, workers, use_multiprocessing, shuffle, initial_epoch)\u001b[0m\n\u001b[1;32m   1424\u001b[0m         \u001b[0muse_multiprocessing\u001b[0m\u001b[0;34m=\u001b[0m\u001b[0muse_multiprocessing\u001b[0m\u001b[0;34m,\u001b[0m\u001b[0;34m\u001b[0m\u001b[0;34m\u001b[0m\u001b[0m\n\u001b[1;32m   1425\u001b[0m         \u001b[0mshuffle\u001b[0m\u001b[0;34m=\u001b[0m\u001b[0mshuffle\u001b[0m\u001b[0;34m,\u001b[0m\u001b[0;34m\u001b[0m\u001b[0;34m\u001b[0m\u001b[0m\n\u001b[0;32m-> 1426\u001b[0;31m         initial_epoch=initial_epoch)\n\u001b[0m\u001b[1;32m   1427\u001b[0m \u001b[0;34m\u001b[0m\u001b[0m\n\u001b[1;32m   1428\u001b[0m   def evaluate_generator(self,\n",
      "\u001b[0;32m~/anaconda3/envs/KerasGPU/lib/python3.7/site-packages/tensorflow/python/keras/engine/training_generator.py\u001b[0m in \u001b[0;36mmodel_iteration\u001b[0;34m(model, data, steps_per_epoch, epochs, verbose, callbacks, validation_data, validation_steps, class_weight, max_queue_size, workers, use_multiprocessing, shuffle, initial_epoch, mode, batch_size, **kwargs)\u001b[0m\n\u001b[1;32m    189\u001b[0m       \u001b[0mprogbar\u001b[0m\u001b[0;34m.\u001b[0m\u001b[0mon_batch_begin\u001b[0m\u001b[0;34m(\u001b[0m\u001b[0mstep\u001b[0m\u001b[0;34m,\u001b[0m \u001b[0mbatch_logs\u001b[0m\u001b[0;34m)\u001b[0m\u001b[0;34m\u001b[0m\u001b[0;34m\u001b[0m\u001b[0m\n\u001b[1;32m    190\u001b[0m \u001b[0;34m\u001b[0m\u001b[0m\n\u001b[0;32m--> 191\u001b[0;31m       \u001b[0mbatch_outs\u001b[0m \u001b[0;34m=\u001b[0m \u001b[0mbatch_function\u001b[0m\u001b[0;34m(\u001b[0m\u001b[0;34m*\u001b[0m\u001b[0mbatch_data\u001b[0m\u001b[0;34m)\u001b[0m\u001b[0;34m\u001b[0m\u001b[0;34m\u001b[0m\u001b[0m\n\u001b[0m\u001b[1;32m    192\u001b[0m       \u001b[0;32mif\u001b[0m \u001b[0;32mnot\u001b[0m \u001b[0misinstance\u001b[0m\u001b[0;34m(\u001b[0m\u001b[0mbatch_outs\u001b[0m\u001b[0;34m,\u001b[0m \u001b[0mlist\u001b[0m\u001b[0;34m)\u001b[0m\u001b[0;34m:\u001b[0m\u001b[0;34m\u001b[0m\u001b[0;34m\u001b[0m\u001b[0m\n\u001b[1;32m    193\u001b[0m         \u001b[0mbatch_outs\u001b[0m \u001b[0;34m=\u001b[0m \u001b[0;34m[\u001b[0m\u001b[0mbatch_outs\u001b[0m\u001b[0;34m]\u001b[0m\u001b[0;34m\u001b[0m\u001b[0;34m\u001b[0m\u001b[0m\n",
      "\u001b[0;32m~/anaconda3/envs/KerasGPU/lib/python3.7/site-packages/tensorflow/python/keras/engine/training.py\u001b[0m in \u001b[0;36mtrain_on_batch\u001b[0;34m(self, x, y, sample_weight, class_weight, reset_metrics)\u001b[0m\n\u001b[1;32m   1189\u001b[0m       \u001b[0;32melse\u001b[0m\u001b[0;34m:\u001b[0m\u001b[0;34m\u001b[0m\u001b[0;34m\u001b[0m\u001b[0m\n\u001b[1;32m   1190\u001b[0m         \u001b[0mself\u001b[0m\u001b[0;34m.\u001b[0m\u001b[0m_make_fit_function\u001b[0m\u001b[0;34m(\u001b[0m\u001b[0;34m)\u001b[0m\u001b[0;34m\u001b[0m\u001b[0;34m\u001b[0m\u001b[0m\n\u001b[0;32m-> 1191\u001b[0;31m         \u001b[0moutputs\u001b[0m \u001b[0;34m=\u001b[0m \u001b[0mself\u001b[0m\u001b[0;34m.\u001b[0m\u001b[0m_fit_function\u001b[0m\u001b[0;34m(\u001b[0m\u001b[0mins\u001b[0m\u001b[0;34m)\u001b[0m  \u001b[0;31m# pylint: disable=not-callable\u001b[0m\u001b[0;34m\u001b[0m\u001b[0;34m\u001b[0m\u001b[0m\n\u001b[0m\u001b[1;32m   1192\u001b[0m \u001b[0;34m\u001b[0m\u001b[0m\n\u001b[1;32m   1193\u001b[0m     \u001b[0;32mif\u001b[0m \u001b[0mreset_metrics\u001b[0m\u001b[0;34m:\u001b[0m\u001b[0;34m\u001b[0m\u001b[0;34m\u001b[0m\u001b[0m\n",
      "\u001b[0;32m~/anaconda3/envs/KerasGPU/lib/python3.7/site-packages/tensorflow/python/keras/backend.py\u001b[0m in \u001b[0;36m__call__\u001b[0;34m(self, inputs)\u001b[0m\n\u001b[1;32m   3074\u001b[0m \u001b[0;34m\u001b[0m\u001b[0m\n\u001b[1;32m   3075\u001b[0m     fetched = self._callable_fn(*array_vals,\n\u001b[0;32m-> 3076\u001b[0;31m                                 run_metadata=self.run_metadata)\n\u001b[0m\u001b[1;32m   3077\u001b[0m     \u001b[0mself\u001b[0m\u001b[0;34m.\u001b[0m\u001b[0m_call_fetch_callbacks\u001b[0m\u001b[0;34m(\u001b[0m\u001b[0mfetched\u001b[0m\u001b[0;34m[\u001b[0m\u001b[0;34m-\u001b[0m\u001b[0mlen\u001b[0m\u001b[0;34m(\u001b[0m\u001b[0mself\u001b[0m\u001b[0;34m.\u001b[0m\u001b[0m_fetches\u001b[0m\u001b[0;34m)\u001b[0m\u001b[0;34m:\u001b[0m\u001b[0;34m]\u001b[0m\u001b[0;34m)\u001b[0m\u001b[0;34m\u001b[0m\u001b[0;34m\u001b[0m\u001b[0m\n\u001b[1;32m   3078\u001b[0m     return nest.pack_sequence_as(self._outputs_structure,\n",
      "\u001b[0;32m~/anaconda3/envs/KerasGPU/lib/python3.7/site-packages/tensorflow/python/client/session.py\u001b[0m in \u001b[0;36m__call__\u001b[0;34m(self, *args, **kwargs)\u001b[0m\n\u001b[1;32m   1437\u001b[0m           ret = tf_session.TF_SessionRunCallable(\n\u001b[1;32m   1438\u001b[0m               \u001b[0mself\u001b[0m\u001b[0;34m.\u001b[0m\u001b[0m_session\u001b[0m\u001b[0;34m.\u001b[0m\u001b[0m_session\u001b[0m\u001b[0;34m,\u001b[0m \u001b[0mself\u001b[0m\u001b[0;34m.\u001b[0m\u001b[0m_handle\u001b[0m\u001b[0;34m,\u001b[0m \u001b[0margs\u001b[0m\u001b[0;34m,\u001b[0m \u001b[0mstatus\u001b[0m\u001b[0;34m,\u001b[0m\u001b[0;34m\u001b[0m\u001b[0;34m\u001b[0m\u001b[0m\n\u001b[0;32m-> 1439\u001b[0;31m               run_metadata_ptr)\n\u001b[0m\u001b[1;32m   1440\u001b[0m         \u001b[0;32mif\u001b[0m \u001b[0mrun_metadata\u001b[0m\u001b[0;34m:\u001b[0m\u001b[0;34m\u001b[0m\u001b[0;34m\u001b[0m\u001b[0m\n\u001b[1;32m   1441\u001b[0m           \u001b[0mproto_data\u001b[0m \u001b[0;34m=\u001b[0m \u001b[0mtf_session\u001b[0m\u001b[0;34m.\u001b[0m\u001b[0mTF_GetBuffer\u001b[0m\u001b[0;34m(\u001b[0m\u001b[0mrun_metadata_ptr\u001b[0m\u001b[0;34m)\u001b[0m\u001b[0;34m\u001b[0m\u001b[0;34m\u001b[0m\u001b[0m\n",
      "\u001b[0;31mKeyboardInterrupt\u001b[0m: "
     ]
    },
    {
     "name": "stderr",
     "output_type": "stream",
     "text": [
      "  File \"/home/norvilr/anaconda3/envs/KerasGPU/lib/python3.7/site-packages/PIL/Image.py\", line 1817, in resize\n",
      "    self.load()\n",
      "  File \"/home/norvilr/anaconda3/envs/KerasGPU/lib/python3.7/site-packages/PIL/Image.py\", line 1817, in resize\n",
      "    self.load()\n",
      "  File \"/home/norvilr/anaconda3/envs/KerasGPU/lib/python3.7/multiprocessing/pool.py\", line 121, in worker\n",
      "    result = (True, func(*args, **kwds))\n",
      "  File \"/home/norvilr/anaconda3/envs/KerasGPU/lib/python3.7/site-packages/PIL/ImageFile.py\", line 242, in load\n",
      "    n, err_code = decoder.decode(b)\n",
      "  File \"/home/norvilr/anaconda3/envs/KerasGPU/lib/python3.7/site-packages/PIL/ImageFile.py\", line 242, in load\n",
      "    n, err_code = decoder.decode(b)\n",
      "  File \"/home/norvilr/anaconda3/envs/KerasGPU/lib/python3.7/site-packages/tensorflow/python/keras/utils/data_utils.py\", line 445, in get_index\n",
      "    return _SHARED_SEQUENCES[uid][i]\n",
      "KeyboardInterrupt\n",
      "KeyboardInterrupt\n",
      "  File \"/home/norvilr/anaconda3/envs/KerasGPU/lib/python3.7/site-packages/keras_preprocessing/image/iterator.py\", line 65, in __getitem__\n",
      "    return self._get_batches_of_transformed_samples(index_array)\n",
      "  File \"/home/norvilr/anaconda3/envs/KerasGPU/lib/python3.7/site-packages/keras_preprocessing/image/iterator.py\", line 234, in _get_batches_of_transformed_samples\n",
      "    x = self.image_data_generator.apply_transform(x, params)\n",
      "  File \"/home/norvilr/anaconda3/envs/KerasGPU/lib/python3.7/site-packages/keras_preprocessing/image/image_data_generator.py\", line 853, in apply_transform\n",
      "    order=self.interpolation_order)\n",
      "  File \"/home/norvilr/anaconda3/envs/KerasGPU/lib/python3.7/site-packages/keras_preprocessing/image/affine_transformations.py\", line 330, in apply_affine_transform\n",
      "    cval=cval) for x_channel in x]\n",
      "  File \"/home/norvilr/anaconda3/envs/KerasGPU/lib/python3.7/site-packages/keras_preprocessing/image/affine_transformations.py\", line 330, in <listcomp>\n",
      "    cval=cval) for x_channel in x]\n",
      "  File \"/home/norvilr/anaconda3/envs/KerasGPU/lib/python3.7/site-packages/scipy/ndimage/interpolation.py\", line 480, in affine_transform\n",
      "    output, order, mode, cval, None, None)\n",
      "KeyboardInterrupt\n",
      "  File \"/home/norvilr/anaconda3/envs/KerasGPU/lib/python3.7/site-packages/keras_preprocessing/image/affine_transformations.py\", line 330, in apply_affine_transform\n",
      "    cval=cval) for x_channel in x]\n",
      "  File \"/home/norvilr/anaconda3/envs/KerasGPU/lib/python3.7/site-packages/keras_preprocessing/image/affine_transformations.py\", line 330, in <listcomp>\n",
      "    cval=cval) for x_channel in x]\n",
      "  File \"/home/norvilr/anaconda3/envs/KerasGPU/lib/python3.7/site-packages/scipy/ndimage/interpolation.py\", line 480, in affine_transform\n",
      "    output, order, mode, cval, None, None)\n",
      "KeyboardInterrupt\n",
      "Process ForkPoolWorker-75:\n",
      "Traceback (most recent call last):\n",
      "  File \"/home/norvilr/anaconda3/envs/KerasGPU/lib/python3.7/multiprocessing/process.py\", line 297, in _bootstrap\n",
      "    self.run()\n",
      "  File \"/home/norvilr/anaconda3/envs/KerasGPU/lib/python3.7/multiprocessing/process.py\", line 99, in run\n",
      "    self._target(*self._args, **self._kwargs)\n",
      "  File \"/home/norvilr/anaconda3/envs/KerasGPU/lib/python3.7/multiprocessing/pool.py\", line 121, in worker\n",
      "    result = (True, func(*args, **kwds))\n",
      "  File \"/home/norvilr/anaconda3/envs/KerasGPU/lib/python3.7/site-packages/tensorflow/python/keras/utils/data_utils.py\", line 445, in get_index\n",
      "    return _SHARED_SEQUENCES[uid][i]\n",
      "  File \"/home/norvilr/anaconda3/envs/KerasGPU/lib/python3.7/site-packages/keras_preprocessing/image/iterator.py\", line 65, in __getitem__\n",
      "    return self._get_batches_of_transformed_samples(index_array)\n",
      "  File \"/home/norvilr/anaconda3/envs/KerasGPU/lib/python3.7/site-packages/keras_preprocessing/image/iterator.py\", line 234, in _get_batches_of_transformed_samples\n",
      "    x = self.image_data_generator.apply_transform(x, params)\n",
      "  File \"/home/norvilr/anaconda3/envs/KerasGPU/lib/python3.7/site-packages/keras_preprocessing/image/image_data_generator.py\", line 853, in apply_transform\n",
      "    order=self.interpolation_order)\n",
      "  File \"/home/norvilr/anaconda3/envs/KerasGPU/lib/python3.7/site-packages/keras_preprocessing/image/affine_transformations.py\", line 330, in apply_affine_transform\n",
      "    cval=cval) for x_channel in x]\n",
      "  File \"/home/norvilr/anaconda3/envs/KerasGPU/lib/python3.7/site-packages/keras_preprocessing/image/affine_transformations.py\", line 330, in <listcomp>\n",
      "    cval=cval) for x_channel in x]\n",
      "  File \"/home/norvilr/anaconda3/envs/KerasGPU/lib/python3.7/site-packages/scipy/ndimage/interpolation.py\", line 480, in affine_transform\n",
      "    output, order, mode, cval, None, None)\n",
      "KeyboardInterrupt\n",
      "Process ForkPoolWorker-74:\n",
      "Traceback (most recent call last):\n",
      "  File \"/home/norvilr/anaconda3/envs/KerasGPU/lib/python3.7/multiprocessing/process.py\", line 297, in _bootstrap\n",
      "    self.run()\n",
      "  File \"/home/norvilr/anaconda3/envs/KerasGPU/lib/python3.7/multiprocessing/process.py\", line 99, in run\n",
      "    self._target(*self._args, **self._kwargs)\n",
      "  File \"/home/norvilr/anaconda3/envs/KerasGPU/lib/python3.7/multiprocessing/pool.py\", line 121, in worker\n",
      "    result = (True, func(*args, **kwds))\n",
      "  File \"/home/norvilr/anaconda3/envs/KerasGPU/lib/python3.7/site-packages/tensorflow/python/keras/utils/data_utils.py\", line 445, in get_index\n",
      "    return _SHARED_SEQUENCES[uid][i]\n",
      "Process ForkPoolWorker-73:\n",
      "  File \"/home/norvilr/anaconda3/envs/KerasGPU/lib/python3.7/site-packages/keras_preprocessing/image/iterator.py\", line 65, in __getitem__\n",
      "    return self._get_batches_of_transformed_samples(index_array)\n",
      "  File \"/home/norvilr/anaconda3/envs/KerasGPU/lib/python3.7/site-packages/keras_preprocessing/image/iterator.py\", line 234, in _get_batches_of_transformed_samples\n",
      "    x = self.image_data_generator.apply_transform(x, params)\n",
      "  File \"/home/norvilr/anaconda3/envs/KerasGPU/lib/python3.7/site-packages/keras_preprocessing/image/image_data_generator.py\", line 853, in apply_transform\n",
      "    order=self.interpolation_order)\n",
      "  File \"/home/norvilr/anaconda3/envs/KerasGPU/lib/python3.7/site-packages/keras_preprocessing/image/affine_transformations.py\", line 330, in apply_affine_transform\n",
      "    cval=cval) for x_channel in x]\n",
      "Traceback (most recent call last):\n",
      "  File \"/home/norvilr/anaconda3/envs/KerasGPU/lib/python3.7/site-packages/keras_preprocessing/image/affine_transformations.py\", line 330, in <listcomp>\n",
      "    cval=cval) for x_channel in x]\n",
      "  File \"/home/norvilr/anaconda3/envs/KerasGPU/lib/python3.7/multiprocessing/process.py\", line 297, in _bootstrap\n",
      "    self.run()\n",
      "  File \"/home/norvilr/anaconda3/envs/KerasGPU/lib/python3.7/site-packages/scipy/ndimage/interpolation.py\", line 480, in affine_transform\n",
      "    output, order, mode, cval, None, None)\n",
      "  File \"/home/norvilr/anaconda3/envs/KerasGPU/lib/python3.7/multiprocessing/process.py\", line 99, in run\n",
      "    self._target(*self._args, **self._kwargs)\n",
      "KeyboardInterrupt\n",
      "  File \"/home/norvilr/anaconda3/envs/KerasGPU/lib/python3.7/multiprocessing/pool.py\", line 110, in worker\n",
      "    task = get()\n",
      "  File \"/home/norvilr/anaconda3/envs/KerasGPU/lib/python3.7/multiprocessing/queues.py\", line 352, in get\n",
      "    res = self._reader.recv_bytes()\n",
      "  File \"/home/norvilr/anaconda3/envs/KerasGPU/lib/python3.7/multiprocessing/connection.py\", line 216, in recv_bytes\n",
      "    buf = self._recv_bytes(maxlength)\n",
      "  File \"/home/norvilr/anaconda3/envs/KerasGPU/lib/python3.7/multiprocessing/connection.py\", line 407, in _recv_bytes\n",
      "    buf = self._recv(4)\n",
      "  File \"/home/norvilr/anaconda3/envs/KerasGPU/lib/python3.7/multiprocessing/connection.py\", line 379, in _recv\n",
      "    chunk = read(handle, remaining)\n",
      "KeyboardInterrupt\n"
     ]
    }
   ],
   "source": [
    "fit_stats = model.fit_generator(\n",
    "            train_generator,\n",
    "            epochs = 24,\n",
    "            steps_per_epoch=len(train)//batch_size,\n",
    "            validation_data=validation_generator,\n",
    "            workers=8,\n",
    "            use_multiprocessing=True,\n",
    "            )"
   ]
  },
  {
   "cell_type": "code",
   "execution_count": null,
   "metadata": {},
   "outputs": [],
   "source": []
  },
  {
   "cell_type": "code",
   "execution_count": null,
   "metadata": {},
   "outputs": [],
   "source": []
  },
  {
   "cell_type": "code",
   "execution_count": null,
   "metadata": {},
   "outputs": [],
   "source": []
  },
  {
   "cell_type": "code",
   "execution_count": null,
   "metadata": {},
   "outputs": [],
   "source": []
  },
  {
   "cell_type": "code",
   "execution_count": null,
   "metadata": {},
   "outputs": [],
   "source": []
  }
 ],
 "metadata": {
  "kernelspec": {
   "display_name": "Python 3",
   "language": "python",
   "name": "python3"
  },
  "language_info": {
   "codemirror_mode": {
    "name": "ipython",
    "version": 3
   },
   "file_extension": ".py",
   "mimetype": "text/x-python",
   "name": "python",
   "nbconvert_exporter": "python",
   "pygments_lexer": "ipython3",
   "version": "3.7.3"
  }
 },
 "nbformat": 4,
 "nbformat_minor": 2
}
