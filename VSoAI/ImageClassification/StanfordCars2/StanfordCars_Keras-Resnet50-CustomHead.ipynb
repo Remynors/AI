{
 "cells": [
  {
   "cell_type": "code",
   "execution_count": 1,
   "metadata": {},
   "outputs": [],
   "source": [
    "%reload_ext autoreload\n",
    "%autoreload 2\n",
    "%matplotlib inline"
   ]
  },
  {
   "cell_type": "code",
   "execution_count": 2,
   "metadata": {
    "scrolled": true
   },
   "outputs": [
    {
     "name": "stdout",
     "output_type": "stream",
     "text": [
      "sklearn:  0.20.3\n",
      "Python:  3.7.3 (default, Mar 27 2019, 22:11:17) \n",
      "[GCC 7.3.0]\n"
     ]
    }
   ],
   "source": [
    "import sklearn\n",
    "print(\"sklearn: \",sklearn.__version__)\n",
    "import sys\n",
    "print(\"Python: \",sys.version)"
   ]
  },
  {
   "cell_type": "code",
   "execution_count": 3,
   "metadata": {},
   "outputs": [
    {
     "name": "stdout",
     "output_type": "stream",
     "text": [
      "Tensorfow:  1.13.1\n",
      "Tensorflow Keras:  2.2.4-tf\n"
     ]
    }
   ],
   "source": [
    "import tensorflow as tf\n",
    "from tensorflow.keras import layers\n",
    "from tensorflow import keras\n",
    "\n",
    "print(\"Tensorfow: \", tf.VERSION)\n",
    "print(\"Tensorflow Keras: \",tf.keras.__version__)"
   ]
  },
  {
   "cell_type": "code",
   "execution_count": 4,
   "metadata": {},
   "outputs": [],
   "source": [
    "from __future__ import print_function, division\n",
    "\n",
    "import numpy as np\n",
    "import pandas as pd\n",
    "import matplotlib.pyplot as plt\n",
    "import time\n",
    "import os\n",
    "import copy\n",
    "import scipy.io\n",
    "from PIL import Image\n",
    "\n",
    "plt.ion()   # interactive mode"
   ]
  },
  {
   "cell_type": "code",
   "execution_count": 5,
   "metadata": {},
   "outputs": [
    {
     "name": "stdout",
     "output_type": "stream",
     "text": [
      "Wed Jun  5 22:55:03 2019       \r\n",
      "+-----------------------------------------------------------------------------+\r\n",
      "| NVIDIA-SMI 415.27       Driver Version: 415.27       CUDA Version: 10.0     |\r\n",
      "|-------------------------------+----------------------+----------------------+\r\n",
      "| GPU  Name        Persistence-M| Bus-Id        Disp.A | Volatile Uncorr. ECC |\r\n",
      "| Fan  Temp  Perf  Pwr:Usage/Cap|         Memory-Usage | GPU-Util  Compute M. |\r\n",
      "|===============================+======================+======================|\r\n",
      "|   0  GeForce GTX 108...  Off  | 00000000:01:00.0  On |                  N/A |\r\n",
      "|  0%   47C    P8    19W / 250W |    614MiB / 11178MiB |      0%      Default |\r\n",
      "+-------------------------------+----------------------+----------------------+\r\n",
      "                                                                               \r\n",
      "+-----------------------------------------------------------------------------+\r\n",
      "| Processes:                                                       GPU Memory |\r\n",
      "|  GPU       PID   Type   Process name                             Usage      |\r\n",
      "|=============================================================================|\r\n",
      "|    0      3073      G   /usr/lib/xorg/Xorg                           202MiB |\r\n",
      "|    0      3246      G   /usr/bin/gnome-shell                         153MiB |\r\n",
      "|    0      4377      G   /usr/lib/firefox/firefox                     255MiB |\r\n",
      "+-----------------------------------------------------------------------------+\r\n"
     ]
    }
   ],
   "source": [
    "!nvidia-smi"
   ]
  },
  {
   "cell_type": "code",
   "execution_count": 6,
   "metadata": {},
   "outputs": [],
   "source": [
    "PATH = '../../../../../data/StanfordCars'"
   ]
  },
  {
   "cell_type": "code",
   "execution_count": 7,
   "metadata": {},
   "outputs": [
    {
     "name": "stdout",
     "output_type": "stream",
     "text": [
      "['cars_train', 'cars_annos.mat', 'devkit', 'train', 'cars_test', 'test', 'models', '__MACOSX', 'car_devkit.tgz']\n"
     ]
    }
   ],
   "source": [
    "import os\n",
    "print(os.listdir(PATH))"
   ]
  },
  {
   "cell_type": "code",
   "execution_count": 8,
   "metadata": {},
   "outputs": [],
   "source": [
    "path_train = f'{PATH}/cars_train'\n",
    "path_test = f'{PATH}/cars_test'"
   ]
  },
  {
   "cell_type": "code",
   "execution_count": 9,
   "metadata": {},
   "outputs": [
    {
     "data": {
      "image/png": "[encoded data removed]",
      "text/plain": [
       "<Figure size 432x288 with 1 Axes>"
      ]
     },
     "metadata": {
      "needs_background": "light"
     },
     "output_type": "display_data"
    }
   ],
   "source": [
    "pic = f'{path_train}/00001.jpg'\n",
    "img = plt.imread(pic)\n",
    "plt.imshow(img);"
   ]
  },
  {
   "cell_type": "code",
   "execution_count": 10,
   "metadata": {},
   "outputs": [
    {
     "name": "stdout",
     "output_type": "stream",
     "text": [
      "['README.txt', 'eval_train.m', 'cars_meta.mat', 'cars_train_annos.mat', 'train_perfect_preds.txt', 'cars_test_annos.mat']\n"
     ]
    }
   ],
   "source": [
    "print(os.listdir(f'{PATH}/devkit'))"
   ]
  },
  {
   "cell_type": "code",
   "execution_count": 11,
   "metadata": {},
   "outputs": [],
   "source": [
    "#load cars class labels matlab file\n",
    "class_annos = scipy.io.loadmat(f'{PATH}/devkit/cars_meta.mat')"
   ]
  },
  {
   "cell_type": "code",
   "execution_count": 12,
   "metadata": {
    "scrolled": true
   },
   "outputs": [
    {
     "data": {
      "text/plain": [
       "{'__header__': b'MATLAB 5.0 MAT-file, Platform: GLNXA64, Created on: Sat Dec 14 14:13:07 2013',\n",
       " '__version__': '1.0',\n",
       " '__globals__': [],\n",
       " 'class_names': array([[array(['AM General Hummer SUV 2000'], dtype='<U26'),\n",
       "         array(['Acura RL Sedan 2012'], dtype='<U19'),\n",
       "         array(['Acura TL Sedan 2012'], dtype='<U19'),\n",
       "         array(['Acura TL Type-S 2008'], dtype='<U20'),\n",
       "         array(['Acura TSX Sedan 2012'], dtype='<U20'),\n",
       "         array(['Acura Integra Type R 2001'], dtype='<U25'),\n",
       "         array(['Acura ZDX Hatchback 2012'], dtype='<U24'),\n",
       "         array(['Aston Martin V8 Vantage Convertible 2012'], dtype='<U40'),\n",
       "         array(['Aston Martin V8 Vantage Coupe 2012'], dtype='<U34'),\n",
       "         array(['Aston Martin Virage Convertible 2012'], dtype='<U36'),\n",
       "         array(['Aston Martin Virage Coupe 2012'], dtype='<U30'),\n",
       "         array(['Audi RS 4 Convertible 2008'], dtype='<U26'),\n",
       "         array(['Audi A5 Coupe 2012'], dtype='<U18'),\n",
       "         array(['Audi TTS Coupe 2012'], dtype='<U19'),\n",
       "         array(['Audi R8 Coupe 2012'], dtype='<U18'),\n",
       "         array(['Audi V8 Sedan 1994'], dtype='<U18'),\n",
       "         array(['Audi 100 Sedan 1994'], dtype='<U19'),\n",
       "         array(['Audi 100 Wagon 1994'], dtype='<U19'),\n",
       "         array(['Audi TT Hatchback 2011'], dtype='<U22'),\n",
       "         array(['Audi S6 Sedan 2011'], dtype='<U18'),\n",
       "         array(['Audi S5 Convertible 2012'], dtype='<U24'),\n",
       "         array(['Audi S5 Coupe 2012'], dtype='<U18'),\n",
       "         array(['Audi S4 Sedan 2012'], dtype='<U18'),\n",
       "         array(['Audi S4 Sedan 2007'], dtype='<U18'),\n",
       "         array(['Audi TT RS Coupe 2012'], dtype='<U21'),\n",
       "         array(['BMW ActiveHybrid 5 Sedan 2012'], dtype='<U29'),\n",
       "         array(['BMW 1 Series Convertible 2012'], dtype='<U29'),\n",
       "         array(['BMW 1 Series Coupe 2012'], dtype='<U23'),\n",
       "         array(['BMW 3 Series Sedan 2012'], dtype='<U23'),\n",
       "         array(['BMW 3 Series Wagon 2012'], dtype='<U23'),\n",
       "         array(['BMW 6 Series Convertible 2007'], dtype='<U29'),\n",
       "         array(['BMW X5 SUV 2007'], dtype='<U15'),\n",
       "         array(['BMW X6 SUV 2012'], dtype='<U15'),\n",
       "         array(['BMW M3 Coupe 2012'], dtype='<U17'),\n",
       "         array(['BMW M5 Sedan 2010'], dtype='<U17'),\n",
       "         array(['BMW M6 Convertible 2010'], dtype='<U23'),\n",
       "         array(['BMW X3 SUV 2012'], dtype='<U15'),\n",
       "         array(['BMW Z4 Convertible 2012'], dtype='<U23'),\n",
       "         array(['Bentley Continental Supersports Conv. Convertible 2012'],\n",
       "       dtype='<U54'),\n",
       "         array(['Bentley Arnage Sedan 2009'], dtype='<U25'),\n",
       "         array(['Bentley Mulsanne Sedan 2011'], dtype='<U27'),\n",
       "         array(['Bentley Continental GT Coupe 2012'], dtype='<U33'),\n",
       "         array(['Bentley Continental GT Coupe 2007'], dtype='<U33'),\n",
       "         array(['Bentley Continental Flying Spur Sedan 2007'], dtype='<U42'),\n",
       "         array(['Bugatti Veyron 16.4 Convertible 2009'], dtype='<U36'),\n",
       "         array(['Bugatti Veyron 16.4 Coupe 2009'], dtype='<U30'),\n",
       "         array(['Buick Regal GS 2012'], dtype='<U19'),\n",
       "         array(['Buick Rainier SUV 2007'], dtype='<U22'),\n",
       "         array(['Buick Verano Sedan 2012'], dtype='<U23'),\n",
       "         array(['Buick Enclave SUV 2012'], dtype='<U22'),\n",
       "         array(['Cadillac CTS-V Sedan 2012'], dtype='<U25'),\n",
       "         array(['Cadillac SRX SUV 2012'], dtype='<U21'),\n",
       "         array(['Cadillac Escalade EXT Crew Cab 2007'], dtype='<U35'),\n",
       "         array(['Chevrolet Silverado 1500 Hybrid Crew Cab 2012'], dtype='<U45'),\n",
       "         array(['Chevrolet Corvette Convertible 2012'], dtype='<U35'),\n",
       "         array(['Chevrolet Corvette ZR1 2012'], dtype='<U27'),\n",
       "         array(['Chevrolet Corvette Ron Fellows Edition Z06 2007'], dtype='<U47'),\n",
       "         array(['Chevrolet Traverse SUV 2012'], dtype='<U27'),\n",
       "         array(['Chevrolet Camaro Convertible 2012'], dtype='<U33'),\n",
       "         array(['Chevrolet HHR SS 2010'], dtype='<U21'),\n",
       "         array(['Chevrolet Impala Sedan 2007'], dtype='<U27'),\n",
       "         array(['Chevrolet Tahoe Hybrid SUV 2012'], dtype='<U31'),\n",
       "         array(['Chevrolet Sonic Sedan 2012'], dtype='<U26'),\n",
       "         array(['Chevrolet Express Cargo Van 2007'], dtype='<U32'),\n",
       "         array(['Chevrolet Avalanche Crew Cab 2012'], dtype='<U33'),\n",
       "         array(['Chevrolet Cobalt SS 2010'], dtype='<U24'),\n",
       "         array(['Chevrolet Malibu Hybrid Sedan 2010'], dtype='<U34'),\n",
       "         array(['Chevrolet TrailBlazer SS 2009'], dtype='<U29'),\n",
       "         array(['Chevrolet Silverado 2500HD Regular Cab 2012'], dtype='<U43'),\n",
       "         array(['Chevrolet Silverado 1500 Classic Extended Cab 2007'], dtype='<U50'),\n",
       "         array(['Chevrolet Express Van 2007'], dtype='<U26'),\n",
       "         array(['Chevrolet Monte Carlo Coupe 2007'], dtype='<U32'),\n",
       "         array(['Chevrolet Malibu Sedan 2007'], dtype='<U27'),\n",
       "         array(['Chevrolet Silverado 1500 Extended Cab 2012'], dtype='<U42'),\n",
       "         array(['Chevrolet Silverado 1500 Regular Cab 2012'], dtype='<U41'),\n",
       "         array(['Chrysler Aspen SUV 2009'], dtype='<U23'),\n",
       "         array(['Chrysler Sebring Convertible 2010'], dtype='<U33'),\n",
       "         array(['Chrysler Town and Country Minivan 2012'], dtype='<U38'),\n",
       "         array(['Chrysler 300 SRT-8 2010'], dtype='<U23'),\n",
       "         array(['Chrysler Crossfire Convertible 2008'], dtype='<U35'),\n",
       "         array(['Chrysler PT Cruiser Convertible 2008'], dtype='<U36'),\n",
       "         array(['Daewoo Nubira Wagon 2002'], dtype='<U24'),\n",
       "         array(['Dodge Caliber Wagon 2012'], dtype='<U24'),\n",
       "         array(['Dodge Caliber Wagon 2007'], dtype='<U24'),\n",
       "         array(['Dodge Caravan Minivan 1997'], dtype='<U26'),\n",
       "         array(['Dodge Ram Pickup 3500 Crew Cab 2010'], dtype='<U35'),\n",
       "         array(['Dodge Ram Pickup 3500 Quad Cab 2009'], dtype='<U35'),\n",
       "         array(['Dodge Sprinter Cargo Van 2009'], dtype='<U29'),\n",
       "         array(['Dodge Journey SUV 2012'], dtype='<U22'),\n",
       "         array(['Dodge Dakota Crew Cab 2010'], dtype='<U26'),\n",
       "         array(['Dodge Dakota Club Cab 2007'], dtype='<U26'),\n",
       "         array(['Dodge Magnum Wagon 2008'], dtype='<U23'),\n",
       "         array(['Dodge Challenger SRT8 2011'], dtype='<U26'),\n",
       "         array(['Dodge Durango SUV 2012'], dtype='<U22'),\n",
       "         array(['Dodge Durango SUV 2007'], dtype='<U22'),\n",
       "         array(['Dodge Charger Sedan 2012'], dtype='<U24'),\n",
       "         array(['Dodge Charger SRT-8 2009'], dtype='<U24'),\n",
       "         array(['Eagle Talon Hatchback 1998'], dtype='<U26'),\n",
       "         array(['FIAT 500 Abarth 2012'], dtype='<U20'),\n",
       "         array(['FIAT 500 Convertible 2012'], dtype='<U25'),\n",
       "         array(['Ferrari FF Coupe 2012'], dtype='<U21'),\n",
       "         array(['Ferrari California Convertible 2012'], dtype='<U35'),\n",
       "         array(['Ferrari 458 Italia Convertible 2012'], dtype='<U35'),\n",
       "         array(['Ferrari 458 Italia Coupe 2012'], dtype='<U29'),\n",
       "         array(['Fisker Karma Sedan 2012'], dtype='<U23'),\n",
       "         array(['Ford F-450 Super Duty Crew Cab 2012'], dtype='<U35'),\n",
       "         array(['Ford Mustang Convertible 2007'], dtype='<U29'),\n",
       "         array(['Ford Freestar Minivan 2007'], dtype='<U26'),\n",
       "         array(['Ford Expedition EL SUV 2009'], dtype='<U27'),\n",
       "         array(['Ford Edge SUV 2012'], dtype='<U18'),\n",
       "         array(['Ford Ranger SuperCab 2011'], dtype='<U25'),\n",
       "         array(['Ford GT Coupe 2006'], dtype='<U18'),\n",
       "         array(['Ford F-150 Regular Cab 2012'], dtype='<U27'),\n",
       "         array(['Ford F-150 Regular Cab 2007'], dtype='<U27'),\n",
       "         array(['Ford Focus Sedan 2007'], dtype='<U21'),\n",
       "         array(['Ford E-Series Wagon Van 2012'], dtype='<U28'),\n",
       "         array(['Ford Fiesta Sedan 2012'], dtype='<U22'),\n",
       "         array(['GMC Terrain SUV 2012'], dtype='<U20'),\n",
       "         array(['GMC Savana Van 2012'], dtype='<U19'),\n",
       "         array(['GMC Yukon Hybrid SUV 2012'], dtype='<U25'),\n",
       "         array(['GMC Acadia SUV 2012'], dtype='<U19'),\n",
       "         array(['GMC Canyon Extended Cab 2012'], dtype='<U28'),\n",
       "         array(['Geo Metro Convertible 1993'], dtype='<U26'),\n",
       "         array(['HUMMER H3T Crew Cab 2010'], dtype='<U24'),\n",
       "         array(['HUMMER H2 SUT Crew Cab 2009'], dtype='<U27'),\n",
       "         array(['Honda Odyssey Minivan 2012'], dtype='<U26'),\n",
       "         array(['Honda Odyssey Minivan 2007'], dtype='<U26'),\n",
       "         array(['Honda Accord Coupe 2012'], dtype='<U23'),\n",
       "         array(['Honda Accord Sedan 2012'], dtype='<U23'),\n",
       "         array(['Hyundai Veloster Hatchback 2012'], dtype='<U31'),\n",
       "         array(['Hyundai Santa Fe SUV 2012'], dtype='<U25'),\n",
       "         array(['Hyundai Tucson SUV 2012'], dtype='<U23'),\n",
       "         array(['Hyundai Veracruz SUV 2012'], dtype='<U25'),\n",
       "         array(['Hyundai Sonata Hybrid Sedan 2012'], dtype='<U32'),\n",
       "         array(['Hyundai Elantra Sedan 2007'], dtype='<U26'),\n",
       "         array(['Hyundai Accent Sedan 2012'], dtype='<U25'),\n",
       "         array(['Hyundai Genesis Sedan 2012'], dtype='<U26'),\n",
       "         array(['Hyundai Sonata Sedan 2012'], dtype='<U25'),\n",
       "         array(['Hyundai Elantra Touring Hatchback 2012'], dtype='<U38'),\n",
       "         array(['Hyundai Azera Sedan 2012'], dtype='<U24'),\n",
       "         array(['Infiniti G Coupe IPL 2012'], dtype='<U25'),\n",
       "         array(['Infiniti QX56 SUV 2011'], dtype='<U22'),\n",
       "         array(['Isuzu Ascender SUV 2008'], dtype='<U23'),\n",
       "         array(['Jaguar XK XKR 2012'], dtype='<U18'),\n",
       "         array(['Jeep Patriot SUV 2012'], dtype='<U21'),\n",
       "         array(['Jeep Wrangler SUV 2012'], dtype='<U22'),\n",
       "         array(['Jeep Liberty SUV 2012'], dtype='<U21'),\n",
       "         array(['Jeep Grand Cherokee SUV 2012'], dtype='<U28'),\n",
       "         array(['Jeep Compass SUV 2012'], dtype='<U21'),\n",
       "         array(['Lamborghini Reventon Coupe 2008'], dtype='<U31'),\n",
       "         array(['Lamborghini Aventador Coupe 2012'], dtype='<U32'),\n",
       "         array(['Lamborghini Gallardo LP 570-4 Superleggera 2012'], dtype='<U47'),\n",
       "         array(['Lamborghini Diablo Coupe 2001'], dtype='<U29'),\n",
       "         array(['Land Rover Range Rover SUV 2012'], dtype='<U31'),\n",
       "         array(['Land Rover LR2 SUV 2012'], dtype='<U23'),\n",
       "         array(['Lincoln Town Car Sedan 2011'], dtype='<U27'),\n",
       "         array(['MINI Cooper Roadster Convertible 2012'], dtype='<U37'),\n",
       "         array(['Maybach Landaulet Convertible 2012'], dtype='<U34'),\n",
       "         array(['Mazda Tribute SUV 2011'], dtype='<U22'),\n",
       "         array(['McLaren MP4-12C Coupe 2012'], dtype='<U26'),\n",
       "         array(['Mercedes-Benz 300-Class Convertible 1993'], dtype='<U40'),\n",
       "         array(['Mercedes-Benz C-Class Sedan 2012'], dtype='<U32'),\n",
       "         array(['Mercedes-Benz SL-Class Coupe 2009'], dtype='<U33'),\n",
       "         array(['Mercedes-Benz E-Class Sedan 2012'], dtype='<U32'),\n",
       "         array(['Mercedes-Benz S-Class Sedan 2012'], dtype='<U32'),\n",
       "         array(['Mercedes-Benz Sprinter Van 2012'], dtype='<U31'),\n",
       "         array(['Mitsubishi Lancer Sedan 2012'], dtype='<U28'),\n",
       "         array(['Nissan Leaf Hatchback 2012'], dtype='<U26'),\n",
       "         array(['Nissan NV Passenger Van 2012'], dtype='<U28'),\n",
       "         array(['Nissan Juke Hatchback 2012'], dtype='<U26'),\n",
       "         array(['Nissan 240SX Coupe 1998'], dtype='<U23'),\n",
       "         array(['Plymouth Neon Coupe 1999'], dtype='<U24'),\n",
       "         array(['Porsche Panamera Sedan 2012'], dtype='<U27'),\n",
       "         array(['Ram C/V Cargo Van Minivan 2012'], dtype='<U30'),\n",
       "         array(['Rolls-Royce Phantom Drophead Coupe Convertible 2012'],\n",
       "       dtype='<U51'),\n",
       "         array(['Rolls-Royce Ghost Sedan 2012'], dtype='<U28'),\n",
       "         array(['Rolls-Royce Phantom Sedan 2012'], dtype='<U30'),\n",
       "         array(['Scion xD Hatchback 2012'], dtype='<U23'),\n",
       "         array(['Spyker C8 Convertible 2009'], dtype='<U26'),\n",
       "         array(['Spyker C8 Coupe 2009'], dtype='<U20'),\n",
       "         array(['Suzuki Aerio Sedan 2007'], dtype='<U23'),\n",
       "         array(['Suzuki Kizashi Sedan 2012'], dtype='<U25'),\n",
       "         array(['Suzuki SX4 Hatchback 2012'], dtype='<U25'),\n",
       "         array(['Suzuki SX4 Sedan 2012'], dtype='<U21'),\n",
       "         array(['Tesla Model S Sedan 2012'], dtype='<U24'),\n",
       "         array(['Toyota Sequoia SUV 2012'], dtype='<U23'),\n",
       "         array(['Toyota Camry Sedan 2012'], dtype='<U23'),\n",
       "         array(['Toyota Corolla Sedan 2012'], dtype='<U25'),\n",
       "         array(['Toyota 4Runner SUV 2012'], dtype='<U23'),\n",
       "         array(['Volkswagen Golf Hatchback 2012'], dtype='<U30'),\n",
       "         array(['Volkswagen Golf Hatchback 1991'], dtype='<U30'),\n",
       "         array(['Volkswagen Beetle Hatchback 2012'], dtype='<U32'),\n",
       "         array(['Volvo C30 Hatchback 2012'], dtype='<U24'),\n",
       "         array(['Volvo 240 Sedan 1993'], dtype='<U20'),\n",
       "         array(['Volvo XC90 SUV 2007'], dtype='<U19'),\n",
       "         array(['smart fortwo Convertible 2012'], dtype='<U29')]],\n",
       "       dtype=object)}"
      ]
     },
     "execution_count": 12,
     "metadata": {},
     "output_type": "execute_result"
    }
   ],
   "source": [
    "class_annos"
   ]
  },
  {
   "cell_type": "code",
   "execution_count": 13,
   "metadata": {},
   "outputs": [
    {
     "data": {
      "text/plain": [
       "'Audi R8 Coupe 2012'"
      ]
     },
     "execution_count": 13,
     "metadata": {},
     "output_type": "execute_result"
    }
   ],
   "source": [
    "class_annos[\"class_names\"][0][14][0]"
   ]
  },
  {
   "cell_type": "code",
   "execution_count": 14,
   "metadata": {},
   "outputs": [],
   "source": [
    "#load train annotiation file\n",
    "train_annos = scipy.io.loadmat(f'{PATH}/devkit/cars_train_annos.mat')"
   ]
  },
  {
   "cell_type": "code",
   "execution_count": 15,
   "metadata": {},
   "outputs": [
    {
     "data": {
      "text/plain": [
       "{'__header__': b'MATLAB 5.0 MAT-file, Platform: GLNXA64, Created on: Sat Dec 14 14:13:07 2013',\n",
       " '__version__': '1.0',\n",
       " '__globals__': [],\n",
       " 'annotations': array([[(array([[39]], dtype=uint8), array([[116]], dtype=uint8), array([[569]], dtype=uint16), array([[375]], dtype=uint16), array([[14]], dtype=uint8), array(['00001.jpg'], dtype='<U9')),\n",
       "         (array([[36]], dtype=uint8), array([[116]], dtype=uint8), array([[868]], dtype=uint16), array([[587]], dtype=uint16), array([[3]], dtype=uint8), array(['00002.jpg'], dtype='<U9')),\n",
       "         (array([[85]], dtype=uint8), array([[109]], dtype=uint8), array([[601]], dtype=uint16), array([[381]], dtype=uint16), array([[91]], dtype=uint8), array(['00003.jpg'], dtype='<U9')),\n",
       "         ...,\n",
       "         (array([[26]], dtype=uint8), array([[246]], dtype=uint8), array([[660]], dtype=uint16), array([[449]], dtype=uint16), array([[163]], dtype=uint8), array(['08142.jpg'], dtype='<U9')),\n",
       "         (array([[78]], dtype=uint8), array([[526]], dtype=uint16), array([[1489]], dtype=uint16), array([[908]], dtype=uint16), array([[112]], dtype=uint8), array(['08143.jpg'], dtype='<U9')),\n",
       "         (array([[20]], dtype=uint8), array([[240]], dtype=uint8), array([[862]], dtype=uint16), array([[677]], dtype=uint16), array([[17]], dtype=uint8), array(['08144.jpg'], dtype='<U9'))]],\n",
       "       dtype=[('bbox_x1', 'O'), ('bbox_y1', 'O'), ('bbox_x2', 'O'), ('bbox_y2', 'O'), ('class', 'O'), ('fname', 'O')])}"
      ]
     },
     "execution_count": 15,
     "metadata": {},
     "output_type": "execute_result"
    }
   ],
   "source": [
    "# matlab file decoding mask inside 'annotations' array\n",
    "# dtype=[('bbox_x1', 'O'), ('bbox_y1', 'O'), ('bbox_x2', 'O'), ('bbox_y2', 'O'), ('class', 'O'), ('fname', 'O')])}\n",
    "train_annos"
   ]
  },
  {
   "cell_type": "code",
   "execution_count": 16,
   "metadata": {
    "scrolled": true
   },
   "outputs": [
    {
     "data": {
      "text/plain": [
       "14"
      ]
     },
     "execution_count": 16,
     "metadata": {},
     "output_type": "execute_result"
    }
   ],
   "source": [
    "# extract item 0 class\n",
    "train_annos[\"annotations\"][0][0][4][0][0]"
   ]
  },
  {
   "cell_type": "code",
   "execution_count": 17,
   "metadata": {},
   "outputs": [
    {
     "data": {
      "text/plain": [
       "'00001.jpg'"
      ]
     },
     "execution_count": 17,
     "metadata": {},
     "output_type": "execute_result"
    }
   ],
   "source": [
    "# extract itme 0 file name\n",
    "train_annos[\"annotations\"][0][0][5][0]"
   ]
  },
  {
   "cell_type": "code",
   "execution_count": 18,
   "metadata": {},
   "outputs": [
    {
     "name": "stdout",
     "output_type": "stream",
     "text": [
      "Total number of data items in dataset: 8144\n"
     ]
    }
   ],
   "source": [
    "total_set = len(train_annos[\"annotations\"][0])\n",
    "print(f'Total number of data items in dataset: {total_set}')"
   ]
  },
  {
   "cell_type": "code",
   "execution_count": 19,
   "metadata": {},
   "outputs": [
    {
     "name": "stdout",
     "output_type": "stream",
     "text": [
      "Total number of classes: 196\n"
     ]
    }
   ],
   "source": [
    "classes_total = len(class_annos[\"class_names\"][0])\n",
    "print(f'Total number of classes: {classes_total}')"
   ]
  },
  {
   "cell_type": "code",
   "execution_count": 20,
   "metadata": {
    "scrolled": true
   },
   "outputs": [
    {
     "data": {
      "text/plain": [
       "[['cars_train/00001.jpg', 14],\n",
       " ['cars_train/00002.jpg', 3],\n",
       " ['cars_train/00003.jpg', 91],\n",
       " ['cars_train/00004.jpg', 134],\n",
       " ['cars_train/00005.jpg', 106]]"
      ]
     },
     "execution_count": 20,
     "metadata": {},
     "output_type": "execute_result"
    }
   ],
   "source": [
    "# loop to extract file name and class number into list\n",
    "#                                                     fname                                    class\n",
    "classes = [[f'cars_train/{train_annos[\"annotations\"][0][i][5][0]}',train_annos[\"annotations\"][0][i][4][0][0]] for i in range(total_set)]\n",
    "classes[:5]"
   ]
  },
  {
   "cell_type": "code",
   "execution_count": 21,
   "metadata": {
    "scrolled": false
   },
   "outputs": [
    {
     "data": {
      "text/html": [
       "<div>\n",
       "<style scoped>\n",
       "    .dataframe tbody tr th:only-of-type {\n",
       "        vertical-align: middle;\n",
       "    }\n",
       "\n",
       "    .dataframe tbody tr th {\n",
       "        vertical-align: top;\n",
       "    }\n",
       "\n",
       "    .dataframe thead th {\n",
       "        text-align: right;\n",
       "    }\n",
       "</style>\n",
       "<table border=\"1\" class=\"dataframe\">\n",
       "  <thead>\n",
       "    <tr style=\"text-align: right;\">\n",
       "      <th></th>\n",
       "      <th>name</th>\n",
       "      <th>label</th>\n",
       "    </tr>\n",
       "  </thead>\n",
       "  <tbody>\n",
       "    <tr>\n",
       "      <th>0</th>\n",
       "      <td>cars_train/00001.jpg</td>\n",
       "      <td>14</td>\n",
       "    </tr>\n",
       "    <tr>\n",
       "      <th>1</th>\n",
       "      <td>cars_train/00002.jpg</td>\n",
       "      <td>3</td>\n",
       "    </tr>\n",
       "    <tr>\n",
       "      <th>2</th>\n",
       "      <td>cars_train/00003.jpg</td>\n",
       "      <td>91</td>\n",
       "    </tr>\n",
       "    <tr>\n",
       "      <th>3</th>\n",
       "      <td>cars_train/00004.jpg</td>\n",
       "      <td>134</td>\n",
       "    </tr>\n",
       "    <tr>\n",
       "      <th>4</th>\n",
       "      <td>cars_train/00005.jpg</td>\n",
       "      <td>106</td>\n",
       "    </tr>\n",
       "  </tbody>\n",
       "</table>\n",
       "</div>"
      ],
      "text/plain": [
       "                   name  label\n",
       "0  cars_train/00001.jpg     14\n",
       "1  cars_train/00002.jpg      3\n",
       "2  cars_train/00003.jpg     91\n",
       "3  cars_train/00004.jpg    134\n",
       "4  cars_train/00005.jpg    106"
      ]
     },
     "execution_count": 21,
     "metadata": {},
     "output_type": "execute_result"
    }
   ],
   "source": [
    "# Create the pandas DataFrame from list\n",
    "df = pd.DataFrame(classes, columns = ['name', 'label']) \n",
    "df.head()"
   ]
  },
  {
   "cell_type": "code",
   "execution_count": 22,
   "metadata": {},
   "outputs": [
    {
     "data": {
      "text/plain": [
       "(0, 195)"
      ]
     },
     "execution_count": 22,
     "metadata": {},
     "output_type": "execute_result"
    }
   ],
   "source": [
    "# transform class number from [1..196] to [0..195]\n",
    "df['label'] = df['label']-1\n",
    "df['label'].min(), df['label'].max()"
   ]
  },
  {
   "cell_type": "code",
   "execution_count": 23,
   "metadata": {},
   "outputs": [
    {
     "data": {
      "text/html": [
       "<div>\n",
       "<style scoped>\n",
       "    .dataframe tbody tr th:only-of-type {\n",
       "        vertical-align: middle;\n",
       "    }\n",
       "\n",
       "    .dataframe tbody tr th {\n",
       "        vertical-align: top;\n",
       "    }\n",
       "\n",
       "    .dataframe thead th {\n",
       "        text-align: right;\n",
       "    }\n",
       "</style>\n",
       "<table border=\"1\" class=\"dataframe\">\n",
       "  <thead>\n",
       "    <tr style=\"text-align: right;\">\n",
       "      <th></th>\n",
       "      <th>name</th>\n",
       "      <th>label</th>\n",
       "    </tr>\n",
       "  </thead>\n",
       "  <tbody>\n",
       "    <tr>\n",
       "      <th>0</th>\n",
       "      <td>cars_train/00001.jpg</td>\n",
       "      <td>13</td>\n",
       "    </tr>\n",
       "    <tr>\n",
       "      <th>1</th>\n",
       "      <td>cars_train/00002.jpg</td>\n",
       "      <td>2</td>\n",
       "    </tr>\n",
       "    <tr>\n",
       "      <th>2</th>\n",
       "      <td>cars_train/00003.jpg</td>\n",
       "      <td>90</td>\n",
       "    </tr>\n",
       "    <tr>\n",
       "      <th>3</th>\n",
       "      <td>cars_train/00004.jpg</td>\n",
       "      <td>133</td>\n",
       "    </tr>\n",
       "    <tr>\n",
       "      <th>4</th>\n",
       "      <td>cars_train/00005.jpg</td>\n",
       "      <td>105</td>\n",
       "    </tr>\n",
       "  </tbody>\n",
       "</table>\n",
       "</div>"
      ],
      "text/plain": [
       "                   name  label\n",
       "0  cars_train/00001.jpg     13\n",
       "1  cars_train/00002.jpg      2\n",
       "2  cars_train/00003.jpg     90\n",
       "3  cars_train/00004.jpg    133\n",
       "4  cars_train/00005.jpg    105"
      ]
     },
     "execution_count": 23,
     "metadata": {},
     "output_type": "execute_result"
    }
   ],
   "source": [
    "df.head()"
   ]
  },
  {
   "cell_type": "code",
   "execution_count": 24,
   "metadata": {},
   "outputs": [
    {
     "data": {
      "text/plain": [
       "196"
      ]
     },
     "execution_count": 24,
     "metadata": {},
     "output_type": "execute_result"
    }
   ],
   "source": [
    "# verify number of unique classes\n",
    "len(df['label'].unique())"
   ]
  },
  {
   "cell_type": "code",
   "execution_count": 25,
   "metadata": {},
   "outputs": [
    {
     "data": {
      "text/plain": [
       "196"
      ]
     },
     "execution_count": 25,
     "metadata": {},
     "output_type": "execute_result"
    }
   ],
   "source": [
    "# verify length of car class annotations in cars_meta.mat\n",
    "total_labels = len(class_annos[\"class_names\"][0])\n",
    "total_labels"
   ]
  },
  {
   "cell_type": "code",
   "execution_count": 26,
   "metadata": {
    "scrolled": true
   },
   "outputs": [
    {
     "data": {
      "text/plain": [
       "{'__header__': b'MATLAB 5.0 MAT-file, Platform: GLNXA64, Created on: Sat Dec 14 14:13:07 2013',\n",
       " '__version__': '1.0',\n",
       " '__globals__': [],\n",
       " 'class_names': array([[array(['AM General Hummer SUV 2000'], dtype='<U26'),\n",
       "         array(['Acura RL Sedan 2012'], dtype='<U19'),\n",
       "         array(['Acura TL Sedan 2012'], dtype='<U19'),\n",
       "         array(['Acura TL Type-S 2008'], dtype='<U20'),\n",
       "         array(['Acura TSX Sedan 2012'], dtype='<U20'),\n",
       "         array(['Acura Integra Type R 2001'], dtype='<U25'),\n",
       "         array(['Acura ZDX Hatchback 2012'], dtype='<U24'),\n",
       "         array(['Aston Martin V8 Vantage Convertible 2012'], dtype='<U40'),\n",
       "         array(['Aston Martin V8 Vantage Coupe 2012'], dtype='<U34'),\n",
       "         array(['Aston Martin Virage Convertible 2012'], dtype='<U36'),\n",
       "         array(['Aston Martin Virage Coupe 2012'], dtype='<U30'),\n",
       "         array(['Audi RS 4 Convertible 2008'], dtype='<U26'),\n",
       "         array(['Audi A5 Coupe 2012'], dtype='<U18'),\n",
       "         array(['Audi TTS Coupe 2012'], dtype='<U19'),\n",
       "         array(['Audi R8 Coupe 2012'], dtype='<U18'),\n",
       "         array(['Audi V8 Sedan 1994'], dtype='<U18'),\n",
       "         array(['Audi 100 Sedan 1994'], dtype='<U19'),\n",
       "         array(['Audi 100 Wagon 1994'], dtype='<U19'),\n",
       "         array(['Audi TT Hatchback 2011'], dtype='<U22'),\n",
       "         array(['Audi S6 Sedan 2011'], dtype='<U18'),\n",
       "         array(['Audi S5 Convertible 2012'], dtype='<U24'),\n",
       "         array(['Audi S5 Coupe 2012'], dtype='<U18'),\n",
       "         array(['Audi S4 Sedan 2012'], dtype='<U18'),\n",
       "         array(['Audi S4 Sedan 2007'], dtype='<U18'),\n",
       "         array(['Audi TT RS Coupe 2012'], dtype='<U21'),\n",
       "         array(['BMW ActiveHybrid 5 Sedan 2012'], dtype='<U29'),\n",
       "         array(['BMW 1 Series Convertible 2012'], dtype='<U29'),\n",
       "         array(['BMW 1 Series Coupe 2012'], dtype='<U23'),\n",
       "         array(['BMW 3 Series Sedan 2012'], dtype='<U23'),\n",
       "         array(['BMW 3 Series Wagon 2012'], dtype='<U23'),\n",
       "         array(['BMW 6 Series Convertible 2007'], dtype='<U29'),\n",
       "         array(['BMW X5 SUV 2007'], dtype='<U15'),\n",
       "         array(['BMW X6 SUV 2012'], dtype='<U15'),\n",
       "         array(['BMW M3 Coupe 2012'], dtype='<U17'),\n",
       "         array(['BMW M5 Sedan 2010'], dtype='<U17'),\n",
       "         array(['BMW M6 Convertible 2010'], dtype='<U23'),\n",
       "         array(['BMW X3 SUV 2012'], dtype='<U15'),\n",
       "         array(['BMW Z4 Convertible 2012'], dtype='<U23'),\n",
       "         array(['Bentley Continental Supersports Conv. Convertible 2012'],\n",
       "       dtype='<U54'),\n",
       "         array(['Bentley Arnage Sedan 2009'], dtype='<U25'),\n",
       "         array(['Bentley Mulsanne Sedan 2011'], dtype='<U27'),\n",
       "         array(['Bentley Continental GT Coupe 2012'], dtype='<U33'),\n",
       "         array(['Bentley Continental GT Coupe 2007'], dtype='<U33'),\n",
       "         array(['Bentley Continental Flying Spur Sedan 2007'], dtype='<U42'),\n",
       "         array(['Bugatti Veyron 16.4 Convertible 2009'], dtype='<U36'),\n",
       "         array(['Bugatti Veyron 16.4 Coupe 2009'], dtype='<U30'),\n",
       "         array(['Buick Regal GS 2012'], dtype='<U19'),\n",
       "         array(['Buick Rainier SUV 2007'], dtype='<U22'),\n",
       "         array(['Buick Verano Sedan 2012'], dtype='<U23'),\n",
       "         array(['Buick Enclave SUV 2012'], dtype='<U22'),\n",
       "         array(['Cadillac CTS-V Sedan 2012'], dtype='<U25'),\n",
       "         array(['Cadillac SRX SUV 2012'], dtype='<U21'),\n",
       "         array(['Cadillac Escalade EXT Crew Cab 2007'], dtype='<U35'),\n",
       "         array(['Chevrolet Silverado 1500 Hybrid Crew Cab 2012'], dtype='<U45'),\n",
       "         array(['Chevrolet Corvette Convertible 2012'], dtype='<U35'),\n",
       "         array(['Chevrolet Corvette ZR1 2012'], dtype='<U27'),\n",
       "         array(['Chevrolet Corvette Ron Fellows Edition Z06 2007'], dtype='<U47'),\n",
       "         array(['Chevrolet Traverse SUV 2012'], dtype='<U27'),\n",
       "         array(['Chevrolet Camaro Convertible 2012'], dtype='<U33'),\n",
       "         array(['Chevrolet HHR SS 2010'], dtype='<U21'),\n",
       "         array(['Chevrolet Impala Sedan 2007'], dtype='<U27'),\n",
       "         array(['Chevrolet Tahoe Hybrid SUV 2012'], dtype='<U31'),\n",
       "         array(['Chevrolet Sonic Sedan 2012'], dtype='<U26'),\n",
       "         array(['Chevrolet Express Cargo Van 2007'], dtype='<U32'),\n",
       "         array(['Chevrolet Avalanche Crew Cab 2012'], dtype='<U33'),\n",
       "         array(['Chevrolet Cobalt SS 2010'], dtype='<U24'),\n",
       "         array(['Chevrolet Malibu Hybrid Sedan 2010'], dtype='<U34'),\n",
       "         array(['Chevrolet TrailBlazer SS 2009'], dtype='<U29'),\n",
       "         array(['Chevrolet Silverado 2500HD Regular Cab 2012'], dtype='<U43'),\n",
       "         array(['Chevrolet Silverado 1500 Classic Extended Cab 2007'], dtype='<U50'),\n",
       "         array(['Chevrolet Express Van 2007'], dtype='<U26'),\n",
       "         array(['Chevrolet Monte Carlo Coupe 2007'], dtype='<U32'),\n",
       "         array(['Chevrolet Malibu Sedan 2007'], dtype='<U27'),\n",
       "         array(['Chevrolet Silverado 1500 Extended Cab 2012'], dtype='<U42'),\n",
       "         array(['Chevrolet Silverado 1500 Regular Cab 2012'], dtype='<U41'),\n",
       "         array(['Chrysler Aspen SUV 2009'], dtype='<U23'),\n",
       "         array(['Chrysler Sebring Convertible 2010'], dtype='<U33'),\n",
       "         array(['Chrysler Town and Country Minivan 2012'], dtype='<U38'),\n",
       "         array(['Chrysler 300 SRT-8 2010'], dtype='<U23'),\n",
       "         array(['Chrysler Crossfire Convertible 2008'], dtype='<U35'),\n",
       "         array(['Chrysler PT Cruiser Convertible 2008'], dtype='<U36'),\n",
       "         array(['Daewoo Nubira Wagon 2002'], dtype='<U24'),\n",
       "         array(['Dodge Caliber Wagon 2012'], dtype='<U24'),\n",
       "         array(['Dodge Caliber Wagon 2007'], dtype='<U24'),\n",
       "         array(['Dodge Caravan Minivan 1997'], dtype='<U26'),\n",
       "         array(['Dodge Ram Pickup 3500 Crew Cab 2010'], dtype='<U35'),\n",
       "         array(['Dodge Ram Pickup 3500 Quad Cab 2009'], dtype='<U35'),\n",
       "         array(['Dodge Sprinter Cargo Van 2009'], dtype='<U29'),\n",
       "         array(['Dodge Journey SUV 2012'], dtype='<U22'),\n",
       "         array(['Dodge Dakota Crew Cab 2010'], dtype='<U26'),\n",
       "         array(['Dodge Dakota Club Cab 2007'], dtype='<U26'),\n",
       "         array(['Dodge Magnum Wagon 2008'], dtype='<U23'),\n",
       "         array(['Dodge Challenger SRT8 2011'], dtype='<U26'),\n",
       "         array(['Dodge Durango SUV 2012'], dtype='<U22'),\n",
       "         array(['Dodge Durango SUV 2007'], dtype='<U22'),\n",
       "         array(['Dodge Charger Sedan 2012'], dtype='<U24'),\n",
       "         array(['Dodge Charger SRT-8 2009'], dtype='<U24'),\n",
       "         array(['Eagle Talon Hatchback 1998'], dtype='<U26'),\n",
       "         array(['FIAT 500 Abarth 2012'], dtype='<U20'),\n",
       "         array(['FIAT 500 Convertible 2012'], dtype='<U25'),\n",
       "         array(['Ferrari FF Coupe 2012'], dtype='<U21'),\n",
       "         array(['Ferrari California Convertible 2012'], dtype='<U35'),\n",
       "         array(['Ferrari 458 Italia Convertible 2012'], dtype='<U35'),\n",
       "         array(['Ferrari 458 Italia Coupe 2012'], dtype='<U29'),\n",
       "         array(['Fisker Karma Sedan 2012'], dtype='<U23'),\n",
       "         array(['Ford F-450 Super Duty Crew Cab 2012'], dtype='<U35'),\n",
       "         array(['Ford Mustang Convertible 2007'], dtype='<U29'),\n",
       "         array(['Ford Freestar Minivan 2007'], dtype='<U26'),\n",
       "         array(['Ford Expedition EL SUV 2009'], dtype='<U27'),\n",
       "         array(['Ford Edge SUV 2012'], dtype='<U18'),\n",
       "         array(['Ford Ranger SuperCab 2011'], dtype='<U25'),\n",
       "         array(['Ford GT Coupe 2006'], dtype='<U18'),\n",
       "         array(['Ford F-150 Regular Cab 2012'], dtype='<U27'),\n",
       "         array(['Ford F-150 Regular Cab 2007'], dtype='<U27'),\n",
       "         array(['Ford Focus Sedan 2007'], dtype='<U21'),\n",
       "         array(['Ford E-Series Wagon Van 2012'], dtype='<U28'),\n",
       "         array(['Ford Fiesta Sedan 2012'], dtype='<U22'),\n",
       "         array(['GMC Terrain SUV 2012'], dtype='<U20'),\n",
       "         array(['GMC Savana Van 2012'], dtype='<U19'),\n",
       "         array(['GMC Yukon Hybrid SUV 2012'], dtype='<U25'),\n",
       "         array(['GMC Acadia SUV 2012'], dtype='<U19'),\n",
       "         array(['GMC Canyon Extended Cab 2012'], dtype='<U28'),\n",
       "         array(['Geo Metro Convertible 1993'], dtype='<U26'),\n",
       "         array(['HUMMER H3T Crew Cab 2010'], dtype='<U24'),\n",
       "         array(['HUMMER H2 SUT Crew Cab 2009'], dtype='<U27'),\n",
       "         array(['Honda Odyssey Minivan 2012'], dtype='<U26'),\n",
       "         array(['Honda Odyssey Minivan 2007'], dtype='<U26'),\n",
       "         array(['Honda Accord Coupe 2012'], dtype='<U23'),\n",
       "         array(['Honda Accord Sedan 2012'], dtype='<U23'),\n",
       "         array(['Hyundai Veloster Hatchback 2012'], dtype='<U31'),\n",
       "         array(['Hyundai Santa Fe SUV 2012'], dtype='<U25'),\n",
       "         array(['Hyundai Tucson SUV 2012'], dtype='<U23'),\n",
       "         array(['Hyundai Veracruz SUV 2012'], dtype='<U25'),\n",
       "         array(['Hyundai Sonata Hybrid Sedan 2012'], dtype='<U32'),\n",
       "         array(['Hyundai Elantra Sedan 2007'], dtype='<U26'),\n",
       "         array(['Hyundai Accent Sedan 2012'], dtype='<U25'),\n",
       "         array(['Hyundai Genesis Sedan 2012'], dtype='<U26'),\n",
       "         array(['Hyundai Sonata Sedan 2012'], dtype='<U25'),\n",
       "         array(['Hyundai Elantra Touring Hatchback 2012'], dtype='<U38'),\n",
       "         array(['Hyundai Azera Sedan 2012'], dtype='<U24'),\n",
       "         array(['Infiniti G Coupe IPL 2012'], dtype='<U25'),\n",
       "         array(['Infiniti QX56 SUV 2011'], dtype='<U22'),\n",
       "         array(['Isuzu Ascender SUV 2008'], dtype='<U23'),\n",
       "         array(['Jaguar XK XKR 2012'], dtype='<U18'),\n",
       "         array(['Jeep Patriot SUV 2012'], dtype='<U21'),\n",
       "         array(['Jeep Wrangler SUV 2012'], dtype='<U22'),\n",
       "         array(['Jeep Liberty SUV 2012'], dtype='<U21'),\n",
       "         array(['Jeep Grand Cherokee SUV 2012'], dtype='<U28'),\n",
       "         array(['Jeep Compass SUV 2012'], dtype='<U21'),\n",
       "         array(['Lamborghini Reventon Coupe 2008'], dtype='<U31'),\n",
       "         array(['Lamborghini Aventador Coupe 2012'], dtype='<U32'),\n",
       "         array(['Lamborghini Gallardo LP 570-4 Superleggera 2012'], dtype='<U47'),\n",
       "         array(['Lamborghini Diablo Coupe 2001'], dtype='<U29'),\n",
       "         array(['Land Rover Range Rover SUV 2012'], dtype='<U31'),\n",
       "         array(['Land Rover LR2 SUV 2012'], dtype='<U23'),\n",
       "         array(['Lincoln Town Car Sedan 2011'], dtype='<U27'),\n",
       "         array(['MINI Cooper Roadster Convertible 2012'], dtype='<U37'),\n",
       "         array(['Maybach Landaulet Convertible 2012'], dtype='<U34'),\n",
       "         array(['Mazda Tribute SUV 2011'], dtype='<U22'),\n",
       "         array(['McLaren MP4-12C Coupe 2012'], dtype='<U26'),\n",
       "         array(['Mercedes-Benz 300-Class Convertible 1993'], dtype='<U40'),\n",
       "         array(['Mercedes-Benz C-Class Sedan 2012'], dtype='<U32'),\n",
       "         array(['Mercedes-Benz SL-Class Coupe 2009'], dtype='<U33'),\n",
       "         array(['Mercedes-Benz E-Class Sedan 2012'], dtype='<U32'),\n",
       "         array(['Mercedes-Benz S-Class Sedan 2012'], dtype='<U32'),\n",
       "         array(['Mercedes-Benz Sprinter Van 2012'], dtype='<U31'),\n",
       "         array(['Mitsubishi Lancer Sedan 2012'], dtype='<U28'),\n",
       "         array(['Nissan Leaf Hatchback 2012'], dtype='<U26'),\n",
       "         array(['Nissan NV Passenger Van 2012'], dtype='<U28'),\n",
       "         array(['Nissan Juke Hatchback 2012'], dtype='<U26'),\n",
       "         array(['Nissan 240SX Coupe 1998'], dtype='<U23'),\n",
       "         array(['Plymouth Neon Coupe 1999'], dtype='<U24'),\n",
       "         array(['Porsche Panamera Sedan 2012'], dtype='<U27'),\n",
       "         array(['Ram C/V Cargo Van Minivan 2012'], dtype='<U30'),\n",
       "         array(['Rolls-Royce Phantom Drophead Coupe Convertible 2012'],\n",
       "       dtype='<U51'),\n",
       "         array(['Rolls-Royce Ghost Sedan 2012'], dtype='<U28'),\n",
       "         array(['Rolls-Royce Phantom Sedan 2012'], dtype='<U30'),\n",
       "         array(['Scion xD Hatchback 2012'], dtype='<U23'),\n",
       "         array(['Spyker C8 Convertible 2009'], dtype='<U26'),\n",
       "         array(['Spyker C8 Coupe 2009'], dtype='<U20'),\n",
       "         array(['Suzuki Aerio Sedan 2007'], dtype='<U23'),\n",
       "         array(['Suzuki Kizashi Sedan 2012'], dtype='<U25'),\n",
       "         array(['Suzuki SX4 Hatchback 2012'], dtype='<U25'),\n",
       "         array(['Suzuki SX4 Sedan 2012'], dtype='<U21'),\n",
       "         array(['Tesla Model S Sedan 2012'], dtype='<U24'),\n",
       "         array(['Toyota Sequoia SUV 2012'], dtype='<U23'),\n",
       "         array(['Toyota Camry Sedan 2012'], dtype='<U23'),\n",
       "         array(['Toyota Corolla Sedan 2012'], dtype='<U25'),\n",
       "         array(['Toyota 4Runner SUV 2012'], dtype='<U23'),\n",
       "         array(['Volkswagen Golf Hatchback 2012'], dtype='<U30'),\n",
       "         array(['Volkswagen Golf Hatchback 1991'], dtype='<U30'),\n",
       "         array(['Volkswagen Beetle Hatchback 2012'], dtype='<U32'),\n",
       "         array(['Volvo C30 Hatchback 2012'], dtype='<U24'),\n",
       "         array(['Volvo 240 Sedan 1993'], dtype='<U20'),\n",
       "         array(['Volvo XC90 SUV 2007'], dtype='<U19'),\n",
       "         array(['smart fortwo Convertible 2012'], dtype='<U29')]],\n",
       "       dtype=object)}"
      ]
     },
     "execution_count": 26,
     "metadata": {},
     "output_type": "execute_result"
    }
   ],
   "source": [
    "class_annos"
   ]
  },
  {
   "cell_type": "code",
   "execution_count": 27,
   "metadata": {
    "scrolled": true
   },
   "outputs": [
    {
     "data": {
      "text/plain": [
       "(['AM General Hummer SUV 2000',\n",
       "  'Acura RL Sedan 2012',\n",
       "  'Acura TL Sedan 2012',\n",
       "  'Acura TL Type-S 2008',\n",
       "  'Acura TSX Sedan 2012'],\n",
       " 196)"
      ]
     },
     "execution_count": 27,
     "metadata": {},
     "output_type": "execute_result"
    }
   ],
   "source": [
    "# extract class label strings into list\n",
    "labels = [class_annos[\"class_names\"][0][i][0] for i in range(total_labels)]\n",
    "labels[:5], len(labels)"
   ]
  },
  {
   "cell_type": "code",
   "execution_count": 28,
   "metadata": {
    "scrolled": true
   },
   "outputs": [
    {
     "name": "stdout",
     "output_type": "stream",
     "text": [
      " dataframe shape: (196, 1)\n"
     ]
    },
    {
     "data": {
      "text/html": [
       "<div>\n",
       "<style scoped>\n",
       "    .dataframe tbody tr th:only-of-type {\n",
       "        vertical-align: middle;\n",
       "    }\n",
       "\n",
       "    .dataframe tbody tr th {\n",
       "        vertical-align: top;\n",
       "    }\n",
       "\n",
       "    .dataframe thead th {\n",
       "        text-align: right;\n",
       "    }\n",
       "</style>\n",
       "<table border=\"1\" class=\"dataframe\">\n",
       "  <thead>\n",
       "    <tr style=\"text-align: right;\">\n",
       "      <th></th>\n",
       "      <th>0</th>\n",
       "    </tr>\n",
       "  </thead>\n",
       "  <tbody>\n",
       "    <tr>\n",
       "      <th>0</th>\n",
       "      <td>AM General Hummer SUV 2000</td>\n",
       "    </tr>\n",
       "    <tr>\n",
       "      <th>1</th>\n",
       "      <td>Acura RL Sedan 2012</td>\n",
       "    </tr>\n",
       "    <tr>\n",
       "      <th>2</th>\n",
       "      <td>Acura TL Sedan 2012</td>\n",
       "    </tr>\n",
       "    <tr>\n",
       "      <th>3</th>\n",
       "      <td>Acura TL Type-S 2008</td>\n",
       "    </tr>\n",
       "    <tr>\n",
       "      <th>4</th>\n",
       "      <td>Acura TSX Sedan 2012</td>\n",
       "    </tr>\n",
       "  </tbody>\n",
       "</table>\n",
       "</div>"
      ],
      "text/plain": [
       "                            0\n",
       "0  AM General Hummer SUV 2000\n",
       "1         Acura RL Sedan 2012\n",
       "2         Acura TL Sedan 2012\n",
       "3        Acura TL Type-S 2008\n",
       "4        Acura TSX Sedan 2012"
      ]
     },
     "execution_count": 28,
     "metadata": {},
     "output_type": "execute_result"
    }
   ],
   "source": [
    "# creating datafreame form list\n",
    "df_label = pd.DataFrame(labels)\n",
    "print(f' dataframe shape: {df_label.shape}')\n",
    "df_label.head()"
   ]
  },
  {
   "cell_type": "code",
   "execution_count": 29,
   "metadata": {},
   "outputs": [],
   "source": [
    "# create data frame new_labels of class labels sorted according to class numbers\n",
    "new_labels = pd.DataFrame(df_label[0][df['label']])"
   ]
  },
  {
   "cell_type": "code",
   "execution_count": 30,
   "metadata": {},
   "outputs": [
    {
     "data": {
      "text/html": [
       "<div>\n",
       "<style scoped>\n",
       "    .dataframe tbody tr th:only-of-type {\n",
       "        vertical-align: middle;\n",
       "    }\n",
       "\n",
       "    .dataframe tbody tr th {\n",
       "        vertical-align: top;\n",
       "    }\n",
       "\n",
       "    .dataframe thead th {\n",
       "        text-align: right;\n",
       "    }\n",
       "</style>\n",
       "<table border=\"1\" class=\"dataframe\">\n",
       "  <thead>\n",
       "    <tr style=\"text-align: right;\">\n",
       "      <th></th>\n",
       "      <th>0</th>\n",
       "    </tr>\n",
       "  </thead>\n",
       "  <tbody>\n",
       "    <tr>\n",
       "      <th>13</th>\n",
       "      <td>Audi TTS Coupe 2012</td>\n",
       "    </tr>\n",
       "    <tr>\n",
       "      <th>2</th>\n",
       "      <td>Acura TL Sedan 2012</td>\n",
       "    </tr>\n",
       "    <tr>\n",
       "      <th>90</th>\n",
       "      <td>Dodge Dakota Club Cab 2007</td>\n",
       "    </tr>\n",
       "    <tr>\n",
       "      <th>133</th>\n",
       "      <td>Hyundai Sonata Hybrid Sedan 2012</td>\n",
       "    </tr>\n",
       "    <tr>\n",
       "      <th>105</th>\n",
       "      <td>Ford F-450 Super Duty Crew Cab 2012</td>\n",
       "    </tr>\n",
       "  </tbody>\n",
       "</table>\n",
       "</div>"
      ],
      "text/plain": [
       "                                       0\n",
       "13                   Audi TTS Coupe 2012\n",
       "2                    Acura TL Sedan 2012\n",
       "90            Dodge Dakota Club Cab 2007\n",
       "133     Hyundai Sonata Hybrid Sedan 2012\n",
       "105  Ford F-450 Super Duty Crew Cab 2012"
      ]
     },
     "execution_count": 30,
     "metadata": {},
     "output_type": "execute_result"
    }
   ],
   "source": [
    "new_labels.head()"
   ]
  },
  {
   "cell_type": "code",
   "execution_count": 31,
   "metadata": {},
   "outputs": [
    {
     "data": {
      "text/html": [
       "<div>\n",
       "<style scoped>\n",
       "    .dataframe tbody tr th:only-of-type {\n",
       "        vertical-align: middle;\n",
       "    }\n",
       "\n",
       "    .dataframe tbody tr th {\n",
       "        vertical-align: top;\n",
       "    }\n",
       "\n",
       "    .dataframe thead th {\n",
       "        text-align: right;\n",
       "    }\n",
       "</style>\n",
       "<table border=\"1\" class=\"dataframe\">\n",
       "  <thead>\n",
       "    <tr style=\"text-align: right;\">\n",
       "      <th></th>\n",
       "      <th>0</th>\n",
       "    </tr>\n",
       "  </thead>\n",
       "  <tbody>\n",
       "    <tr>\n",
       "      <th>0</th>\n",
       "      <td>Audi TTS Coupe 2012</td>\n",
       "    </tr>\n",
       "    <tr>\n",
       "      <th>1</th>\n",
       "      <td>Acura TL Sedan 2012</td>\n",
       "    </tr>\n",
       "    <tr>\n",
       "      <th>2</th>\n",
       "      <td>Dodge Dakota Club Cab 2007</td>\n",
       "    </tr>\n",
       "    <tr>\n",
       "      <th>3</th>\n",
       "      <td>Hyundai Sonata Hybrid Sedan 2012</td>\n",
       "    </tr>\n",
       "    <tr>\n",
       "      <th>4</th>\n",
       "      <td>Ford F-450 Super Duty Crew Cab 2012</td>\n",
       "    </tr>\n",
       "  </tbody>\n",
       "</table>\n",
       "</div>"
      ],
      "text/plain": [
       "                                     0\n",
       "0                  Audi TTS Coupe 2012\n",
       "1                  Acura TL Sedan 2012\n",
       "2           Dodge Dakota Club Cab 2007\n",
       "3     Hyundai Sonata Hybrid Sedan 2012\n",
       "4  Ford F-450 Super Duty Crew Cab 2012"
      ]
     },
     "execution_count": 31,
     "metadata": {},
     "output_type": "execute_result"
    }
   ],
   "source": [
    "# reset index\n",
    "new_labels.reset_index(inplace=True)\n",
    "new_labels=new_labels.drop(columns='index', axis=1)\n",
    "new_labels.head()"
   ]
  },
  {
   "cell_type": "code",
   "execution_count": 32,
   "metadata": {
    "scrolled": false
   },
   "outputs": [
    {
     "data": {
      "text/html": [
       "<div>\n",
       "<style scoped>\n",
       "    .dataframe tbody tr th:only-of-type {\n",
       "        vertical-align: middle;\n",
       "    }\n",
       "\n",
       "    .dataframe tbody tr th {\n",
       "        vertical-align: top;\n",
       "    }\n",
       "\n",
       "    .dataframe thead th {\n",
       "        text-align: right;\n",
       "    }\n",
       "</style>\n",
       "<table border=\"1\" class=\"dataframe\">\n",
       "  <thead>\n",
       "    <tr style=\"text-align: right;\">\n",
       "      <th></th>\n",
       "      <th>name</th>\n",
       "      <th>label</th>\n",
       "    </tr>\n",
       "  </thead>\n",
       "  <tbody>\n",
       "    <tr>\n",
       "      <th>0</th>\n",
       "      <td>cars_train/00001.jpg</td>\n",
       "      <td>Audi TTS Coupe 2012</td>\n",
       "    </tr>\n",
       "    <tr>\n",
       "      <th>1</th>\n",
       "      <td>cars_train/00002.jpg</td>\n",
       "      <td>Acura TL Sedan 2012</td>\n",
       "    </tr>\n",
       "    <tr>\n",
       "      <th>2</th>\n",
       "      <td>cars_train/00003.jpg</td>\n",
       "      <td>Dodge Dakota Club Cab 2007</td>\n",
       "    </tr>\n",
       "    <tr>\n",
       "      <th>3</th>\n",
       "      <td>cars_train/00004.jpg</td>\n",
       "      <td>Hyundai Sonata Hybrid Sedan 2012</td>\n",
       "    </tr>\n",
       "    <tr>\n",
       "      <th>4</th>\n",
       "      <td>cars_train/00005.jpg</td>\n",
       "      <td>Ford F-450 Super Duty Crew Cab 2012</td>\n",
       "    </tr>\n",
       "  </tbody>\n",
       "</table>\n",
       "</div>"
      ],
      "text/plain": [
       "                   name                                label\n",
       "0  cars_train/00001.jpg                  Audi TTS Coupe 2012\n",
       "1  cars_train/00002.jpg                  Acura TL Sedan 2012\n",
       "2  cars_train/00003.jpg           Dodge Dakota Club Cab 2007\n",
       "3  cars_train/00004.jpg     Hyundai Sonata Hybrid Sedan 2012\n",
       "4  cars_train/00005.jpg  Ford F-450 Super Duty Crew Cab 2012"
      ]
     },
     "execution_count": 32,
     "metadata": {},
     "output_type": "execute_result"
    }
   ],
   "source": [
    "# reaplace integer class numbers with string  class labels\n",
    "df['label'] = new_labels\n",
    "df.head()"
   ]
  },
  {
   "cell_type": "code",
   "execution_count": 33,
   "metadata": {},
   "outputs": [
    {
     "data": {
      "text/plain": [
       "((8144,), (8144,))"
      ]
     },
     "execution_count": 33,
     "metadata": {},
     "output_type": "execute_result"
    }
   ],
   "source": [
    "# e.g. itterating through df['name']\n",
    "# for indx, row in df.iterrows():\n",
    "#     print(row['name'])\n",
    "\n",
    "# create python data dictionary {}, path/file and image size(x,y)\n",
    "# ps very long processing time\n",
    "e_d = {f'{PATH}/{row[\"name\"]}': Image.open(f'{PATH}/{row[\"name\"]}').size for ind, row in df.iterrows()}\n",
    "#transform to list\n",
    "row_sz, col_sz = list(zip(*e_d.values()))\n",
    "# and to numpy\n",
    "row_sz = np.array(row_sz); col_sz = np.array(col_sz)\n",
    "row_sz.shape, col_sz.shape"
   ]
  },
  {
   "cell_type": "code",
   "execution_count": 34,
   "metadata": {
    "scrolled": true
   },
   "outputs": [
    {
     "data": {
      "image/png": "[encoded data removed]",
      "text/plain": [
       "<Figure size 432x288 with 1 Axes>"
      ]
     },
     "metadata": {
      "needs_background": "light"
     },
     "output_type": "display_data"
    }
   ],
   "source": [
    "plt.hist(row_sz);"
   ]
  },
  {
   "cell_type": "code",
   "execution_count": 35,
   "metadata": {
    "scrolled": true
   },
   "outputs": [
    {
     "data": {
      "image/png": "[encoded data removed]",
      "text/plain": [
       "<Figure size 432x288 with 1 Axes>"
      ]
     },
     "metadata": {
      "needs_background": "light"
     },
     "output_type": "display_data"
    }
   ],
   "source": [
    "plt.hist(col_sz);"
   ]
  },
  {
   "cell_type": "code",
   "execution_count": 36,
   "metadata": {},
   "outputs": [],
   "source": [
    "# histogram of all classes\n",
    "# TODO"
   ]
  },
  {
   "cell_type": "code",
   "execution_count": 37,
   "metadata": {},
   "outputs": [
    {
     "data": {
      "text/plain": [
       "False"
      ]
     },
     "execution_count": 37,
     "metadata": {},
     "output_type": "execute_result"
    }
   ],
   "source": [
    "# check for NoN values\n",
    "df['label'].isnull().any()"
   ]
  },
  {
   "cell_type": "code",
   "execution_count": 38,
   "metadata": {},
   "outputs": [],
   "source": [
    "# split dataframe into train and test\n",
    "import random\n",
    "np.random.seed(42)\n",
    "\n",
    "def splitDF(df, train_ratio):\n",
    "    df['random_number'] = np.random.rand(len(df))\n",
    "\n",
    "    train = df[df['random_number'] <= train_ratio]\n",
    "    test = df[df['random_number'] > train_ratio]\n",
    "    return (train, test)"
   ]
  },
  {
   "cell_type": "code",
   "execution_count": 39,
   "metadata": {},
   "outputs": [],
   "source": [
    "train, test = splitDF(df,0.8)"
   ]
  },
  {
   "cell_type": "code",
   "execution_count": 40,
   "metadata": {},
   "outputs": [
    {
     "data": {
      "text/plain": [
       "(6526, 1618)"
      ]
     },
     "execution_count": 40,
     "metadata": {},
     "output_type": "execute_result"
    }
   ],
   "source": [
    "len(train), len(test)"
   ]
  },
  {
   "cell_type": "code",
   "execution_count": 41,
   "metadata": {},
   "outputs": [
    {
     "data": {
      "text/html": [
       "<div>\n",
       "<style scoped>\n",
       "    .dataframe tbody tr th:only-of-type {\n",
       "        vertical-align: middle;\n",
       "    }\n",
       "\n",
       "    .dataframe tbody tr th {\n",
       "        vertical-align: top;\n",
       "    }\n",
       "\n",
       "    .dataframe thead th {\n",
       "        text-align: right;\n",
       "    }\n",
       "</style>\n",
       "<table border=\"1\" class=\"dataframe\">\n",
       "  <thead>\n",
       "    <tr style=\"text-align: right;\">\n",
       "      <th></th>\n",
       "      <th>name</th>\n",
       "      <th>label</th>\n",
       "      <th>random_number</th>\n",
       "    </tr>\n",
       "  </thead>\n",
       "  <tbody>\n",
       "    <tr>\n",
       "      <th>0</th>\n",
       "      <td>cars_train/00001.jpg</td>\n",
       "      <td>Audi TTS Coupe 2012</td>\n",
       "      <td>0.374540</td>\n",
       "    </tr>\n",
       "    <tr>\n",
       "      <th>2</th>\n",
       "      <td>cars_train/00003.jpg</td>\n",
       "      <td>Dodge Dakota Club Cab 2007</td>\n",
       "      <td>0.731994</td>\n",
       "    </tr>\n",
       "    <tr>\n",
       "      <th>3</th>\n",
       "      <td>cars_train/00004.jpg</td>\n",
       "      <td>Hyundai Sonata Hybrid Sedan 2012</td>\n",
       "      <td>0.598658</td>\n",
       "    </tr>\n",
       "    <tr>\n",
       "      <th>4</th>\n",
       "      <td>cars_train/00005.jpg</td>\n",
       "      <td>Ford F-450 Super Duty Crew Cab 2012</td>\n",
       "      <td>0.156019</td>\n",
       "    </tr>\n",
       "    <tr>\n",
       "      <th>5</th>\n",
       "      <td>cars_train/00006.jpg</td>\n",
       "      <td>Geo Metro Convertible 1993</td>\n",
       "      <td>0.155995</td>\n",
       "    </tr>\n",
       "    <tr>\n",
       "      <th>6</th>\n",
       "      <td>cars_train/00007.jpg</td>\n",
       "      <td>Dodge Journey SUV 2012</td>\n",
       "      <td>0.058084</td>\n",
       "    </tr>\n",
       "    <tr>\n",
       "      <th>8</th>\n",
       "      <td>cars_train/00009.jpg</td>\n",
       "      <td>Mitsubishi Lancer Sedan 2012</td>\n",
       "      <td>0.601115</td>\n",
       "    </tr>\n",
       "    <tr>\n",
       "      <th>9</th>\n",
       "      <td>cars_train/00010.jpg</td>\n",
       "      <td>Chevrolet Traverse SUV 2012</td>\n",
       "      <td>0.708073</td>\n",
       "    </tr>\n",
       "    <tr>\n",
       "      <th>10</th>\n",
       "      <td>cars_train/00011.jpg</td>\n",
       "      <td>Buick Verano Sedan 2012</td>\n",
       "      <td>0.020584</td>\n",
       "    </tr>\n",
       "    <tr>\n",
       "      <th>13</th>\n",
       "      <td>cars_train/00014.jpg</td>\n",
       "      <td>Dodge Caravan Minivan 1997</td>\n",
       "      <td>0.212339</td>\n",
       "    </tr>\n",
       "  </tbody>\n",
       "</table>\n",
       "</div>"
      ],
      "text/plain": [
       "                    name                                label  random_number\n",
       "0   cars_train/00001.jpg                  Audi TTS Coupe 2012       0.374540\n",
       "2   cars_train/00003.jpg           Dodge Dakota Club Cab 2007       0.731994\n",
       "3   cars_train/00004.jpg     Hyundai Sonata Hybrid Sedan 2012       0.598658\n",
       "4   cars_train/00005.jpg  Ford F-450 Super Duty Crew Cab 2012       0.156019\n",
       "5   cars_train/00006.jpg           Geo Metro Convertible 1993       0.155995\n",
       "6   cars_train/00007.jpg               Dodge Journey SUV 2012       0.058084\n",
       "8   cars_train/00009.jpg         Mitsubishi Lancer Sedan 2012       0.601115\n",
       "9   cars_train/00010.jpg          Chevrolet Traverse SUV 2012       0.708073\n",
       "10  cars_train/00011.jpg              Buick Verano Sedan 2012       0.020584\n",
       "13  cars_train/00014.jpg           Dodge Caravan Minivan 1997       0.212339"
      ]
     },
     "execution_count": 41,
     "metadata": {},
     "output_type": "execute_result"
    }
   ],
   "source": [
    "train.head(10)"
   ]
  },
  {
   "cell_type": "code",
   "execution_count": 42,
   "metadata": {},
   "outputs": [
    {
     "data": {
      "text/html": [
       "<div>\n",
       "<style scoped>\n",
       "    .dataframe tbody tr th:only-of-type {\n",
       "        vertical-align: middle;\n",
       "    }\n",
       "\n",
       "    .dataframe tbody tr th {\n",
       "        vertical-align: top;\n",
       "    }\n",
       "\n",
       "    .dataframe thead th {\n",
       "        text-align: right;\n",
       "    }\n",
       "</style>\n",
       "<table border=\"1\" class=\"dataframe\">\n",
       "  <thead>\n",
       "    <tr style=\"text-align: right;\">\n",
       "      <th></th>\n",
       "      <th>name</th>\n",
       "      <th>label</th>\n",
       "      <th>random_number</th>\n",
       "    </tr>\n",
       "  </thead>\n",
       "  <tbody>\n",
       "    <tr>\n",
       "      <th>1</th>\n",
       "      <td>cars_train/00002.jpg</td>\n",
       "      <td>Acura TL Sedan 2012</td>\n",
       "      <td>0.950714</td>\n",
       "    </tr>\n",
       "    <tr>\n",
       "      <th>7</th>\n",
       "      <td>cars_train/00008.jpg</td>\n",
       "      <td>Dodge Charger Sedan 2012</td>\n",
       "      <td>0.866176</td>\n",
       "    </tr>\n",
       "    <tr>\n",
       "      <th>11</th>\n",
       "      <td>cars_train/00012.jpg</td>\n",
       "      <td>Toyota Sequoia SUV 2012</td>\n",
       "      <td>0.969910</td>\n",
       "    </tr>\n",
       "    <tr>\n",
       "      <th>12</th>\n",
       "      <td>cars_train/00013.jpg</td>\n",
       "      <td>Hyundai Elantra Sedan 2007</td>\n",
       "      <td>0.832443</td>\n",
       "    </tr>\n",
       "    <tr>\n",
       "      <th>33</th>\n",
       "      <td>cars_train/00034.jpg</td>\n",
       "      <td>Hyundai Veracruz SUV 2012</td>\n",
       "      <td>0.948886</td>\n",
       "    </tr>\n",
       "  </tbody>\n",
       "</table>\n",
       "</div>"
      ],
      "text/plain": [
       "                    name                       label  random_number\n",
       "1   cars_train/00002.jpg         Acura TL Sedan 2012       0.950714\n",
       "7   cars_train/00008.jpg    Dodge Charger Sedan 2012       0.866176\n",
       "11  cars_train/00012.jpg     Toyota Sequoia SUV 2012       0.969910\n",
       "12  cars_train/00013.jpg  Hyundai Elantra Sedan 2007       0.832443\n",
       "33  cars_train/00034.jpg   Hyundai Veracruz SUV 2012       0.948886"
      ]
     },
     "execution_count": 42,
     "metadata": {},
     "output_type": "execute_result"
    }
   ],
   "source": [
    "test.head()"
   ]
  },
  {
   "cell_type": "code",
   "execution_count": 43,
   "metadata": {},
   "outputs": [],
   "source": [
    "Data_DIR = '/home/norvilr/ml/data/StanfordCars'\n",
    "Model_DIR = '/home/norvilr/ml/github/AI/VSoAI/ImageClassification/StanfordCars2'"
   ]
  },
  {
   "cell_type": "markdown",
   "metadata": {},
   "source": [
    "#create folders based on class labels and copy files\n",
    "#run just once, to create folders and copy files"
   ]
  },
  {
   "cell_type": "markdown",
   "metadata": {},
   "source": [
    "os.getcwd() "
   ]
  },
  {
   "cell_type": "markdown",
   "metadata": {},
   "source": [
    "def createClassFolders():\n",
    "    for folder in df['label']:\n",
    "        if not os.path.exists(folder):\n",
    "            os.makedirs(folder)   "
   ]
  },
  {
   "cell_type": "markdown",
   "metadata": {},
   "source": [
    "if os.getcwd()  != Data_DIR:\n",
    "    os.chdir(Data_DIR)\n",
    "!ls"
   ]
  },
  {
   "cell_type": "markdown",
   "metadata": {},
   "source": [
    "if not os.path.exists('train'):\n",
    "    os.makedirs('train')    \n",
    "if not os.path.exists('test'):\n",
    "    os.makedirs('test')\n",
    "print(os.listdir())    "
   ]
  },
  {
   "cell_type": "markdown",
   "metadata": {},
   "source": [
    "if os.path.exists('train'):\n",
    "    os.chdir('train')\n",
    "    createClassFolders()\n",
    "if os.path.exists('../test'):\n",
    "    os.chdir('../test')\n",
    "    createClassFolders()    \n",
    "os.chdir('../')    "
   ]
  },
  {
   "cell_type": "markdown",
   "metadata": {},
   "source": [
    "print( 'created class subdirectories in train: ')\n",
    "!find train -mindepth 1 -type d | wc -l\n",
    "print( 'created class subdirectories in train: ')\n",
    "!find test -mindepth 1 -type d | wc -l"
   ]
  },
  {
   "cell_type": "markdown",
   "metadata": {},
   "source": [
    "#copy files into train subdirs\n",
    "for index, row in train.iterrows():\n",
    "    cmd = f'cp -f {row[\"name\"]} train/\"{row[\"label\"]}\"/'\n",
    "    os.popen(cmd) "
   ]
  },
  {
   "cell_type": "markdown",
   "metadata": {},
   "source": [
    "#copy files into test subdirs\n",
    "for index, row in test.iterrows():\n",
    "    cmd = f'cp -f {row[\"name\"]} test/\"{row[\"label\"]}\"/'\n",
    "    os.popen(cmd) "
   ]
  },
  {
   "cell_type": "markdown",
   "metadata": {},
   "source": [
    "#return to jupyter notebook directory\n",
    "if os.getcwd()  != Model_DIR:\n",
    "    os.chdir(Model_DIR)\n",
    "!ls"
   ]
  },
  {
   "cell_type": "code",
   "execution_count": 44,
   "metadata": {},
   "outputs": [],
   "source": [
    "train_dir = 'train'\n",
    "val_dir = 'test'\n",
    "\n",
    "batch_size = 16\n",
    "image_size = 224"
   ]
  },
  {
   "cell_type": "code",
   "execution_count": 56,
   "metadata": {},
   "outputs": [],
   "source": [
    "## KERAS code\n",
    "from tensorflow.keras.applications import ResNet50\n",
    "from tensorflow.keras.models import Sequential\n",
    "from tensorflow.keras.layers import Dense, Flatten, Activation, GlobalAveragePooling2D, Dropout, Concatenate, Lambda, ZeroPadding2D\n",
    "from tensorflow.keras.layers import BatchNormalization\n",
    "from tensorflow.keras import optimizers"
   ]
  },
  {
   "cell_type": "code",
   "execution_count": 52,
   "metadata": {},
   "outputs": [],
   "source": [
    "num_classes = len(labels)"
   ]
  },
  {
   "cell_type": "code",
   "execution_count": 53,
   "metadata": {},
   "outputs": [],
   "source": [
    "# net = Sequential()\n",
    "# net.add(ResNet50(include_top=False, pooling='avg', weights='imagenet'))\n",
    "# net.add(Dense(num_classes, activation='softmax'))"
   ]
  },
  {
   "cell_type": "code",
   "execution_count": 65,
   "metadata": {},
   "outputs": [
    {
     "name": "stdout",
     "output_type": "stream",
     "text": [
      "__________________________________________________________________________________________________\n",
      "Layer (type)                    Output Shape         Param #     Connected to                     \n",
      "==================================================================================================\n",
      "input_3 (InputLayer)            (None, None, None, 3 0                                            \n",
      "__________________________________________________________________________________________________\n",
      "conv1_pad (ZeroPadding2D)       (None, None, None, 3 0           input_3[0][0]                    \n",
      "__________________________________________________________________________________________________\n",
      "conv1 (Conv2D)                  (None, None, None, 6 9472        conv1_pad[0][0]                  \n",
      "__________________________________________________________________________________________________\n",
      "bn_conv1 (BatchNormalizationV1) (None, None, None, 6 256         conv1[0][0]                      \n",
      "__________________________________________________________________________________________________\n",
      "activation_100 (Activation)     (None, None, None, 6 0           bn_conv1[0][0]                   \n",
      "__________________________________________________________________________________________________\n",
      "pool1_pad (ZeroPadding2D)       (None, None, None, 6 0           activation_100[0][0]             \n",
      "__________________________________________________________________________________________________\n",
      "max_pooling2d_2 (MaxPooling2D)  (None, None, None, 6 0           pool1_pad[0][0]                  \n",
      "__________________________________________________________________________________________________\n",
      "res2a_branch2a (Conv2D)         (None, None, None, 6 4160        max_pooling2d_2[0][0]            \n",
      "__________________________________________________________________________________________________\n",
      "bn2a_branch2a (BatchNormalizati (None, None, None, 6 256         res2a_branch2a[0][0]             \n",
      "__________________________________________________________________________________________________\n",
      "activation_101 (Activation)     (None, None, None, 6 0           bn2a_branch2a[0][0]              \n",
      "__________________________________________________________________________________________________\n",
      "res2a_branch2b (Conv2D)         (None, None, None, 6 36928       activation_101[0][0]             \n",
      "__________________________________________________________________________________________________\n",
      "bn2a_branch2b (BatchNormalizati (None, None, None, 6 256         res2a_branch2b[0][0]             \n",
      "__________________________________________________________________________________________________\n",
      "activation_102 (Activation)     (None, None, None, 6 0           bn2a_branch2b[0][0]              \n",
      "__________________________________________________________________________________________________\n",
      "res2a_branch2c (Conv2D)         (None, None, None, 2 16640       activation_102[0][0]             \n",
      "__________________________________________________________________________________________________\n",
      "res2a_branch1 (Conv2D)          (None, None, None, 2 16640       max_pooling2d_2[0][0]            \n",
      "__________________________________________________________________________________________________\n",
      "bn2a_branch2c (BatchNormalizati (None, None, None, 2 1024        res2a_branch2c[0][0]             \n",
      "__________________________________________________________________________________________________\n",
      "bn2a_branch1 (BatchNormalizatio (None, None, None, 2 1024        res2a_branch1[0][0]              \n",
      "__________________________________________________________________________________________________\n",
      "add_32 (Add)                    (None, None, None, 2 0           bn2a_branch2c[0][0]              \n",
      "                                                                 bn2a_branch1[0][0]               \n",
      "__________________________________________________________________________________________________\n",
      "activation_103 (Activation)     (None, None, None, 2 0           add_32[0][0]                     \n",
      "__________________________________________________________________________________________________\n",
      "res2b_branch2a (Conv2D)         (None, None, None, 6 16448       activation_103[0][0]             \n",
      "__________________________________________________________________________________________________\n",
      "bn2b_branch2a (BatchNormalizati (None, None, None, 6 256         res2b_branch2a[0][0]             \n",
      "__________________________________________________________________________________________________\n",
      "activation_104 (Activation)     (None, None, None, 6 0           bn2b_branch2a[0][0]              \n",
      "__________________________________________________________________________________________________\n",
      "res2b_branch2b (Conv2D)         (None, None, None, 6 36928       activation_104[0][0]             \n",
      "__________________________________________________________________________________________________\n",
      "bn2b_branch2b (BatchNormalizati (None, None, None, 6 256         res2b_branch2b[0][0]             \n",
      "__________________________________________________________________________________________________\n",
      "activation_105 (Activation)     (None, None, None, 6 0           bn2b_branch2b[0][0]              \n",
      "__________________________________________________________________________________________________\n",
      "res2b_branch2c (Conv2D)         (None, None, None, 2 16640       activation_105[0][0]             \n",
      "__________________________________________________________________________________________________\n",
      "bn2b_branch2c (BatchNormalizati (None, None, None, 2 1024        res2b_branch2c[0][0]             \n",
      "__________________________________________________________________________________________________\n",
      "add_33 (Add)                    (None, None, None, 2 0           bn2b_branch2c[0][0]              \n",
      "                                                                 activation_103[0][0]             \n",
      "__________________________________________________________________________________________________\n",
      "activation_106 (Activation)     (None, None, None, 2 0           add_33[0][0]                     \n",
      "__________________________________________________________________________________________________\n",
      "res2c_branch2a (Conv2D)         (None, None, None, 6 16448       activation_106[0][0]             \n",
      "__________________________________________________________________________________________________\n",
      "bn2c_branch2a (BatchNormalizati (None, None, None, 6 256         res2c_branch2a[0][0]             \n",
      "__________________________________________________________________________________________________\n",
      "activation_107 (Activation)     (None, None, None, 6 0           bn2c_branch2a[0][0]              \n",
      "__________________________________________________________________________________________________\n",
      "res2c_branch2b (Conv2D)         (None, None, None, 6 36928       activation_107[0][0]             \n",
      "__________________________________________________________________________________________________\n",
      "bn2c_branch2b (BatchNormalizati (None, None, None, 6 256         res2c_branch2b[0][0]             \n",
      "__________________________________________________________________________________________________\n",
      "activation_108 (Activation)     (None, None, None, 6 0           bn2c_branch2b[0][0]              \n",
      "__________________________________________________________________________________________________\n",
      "res2c_branch2c (Conv2D)         (None, None, None, 2 16640       activation_108[0][0]             \n",
      "__________________________________________________________________________________________________\n",
      "bn2c_branch2c (BatchNormalizati (None, None, None, 2 1024        res2c_branch2c[0][0]             \n",
      "__________________________________________________________________________________________________\n",
      "add_34 (Add)                    (None, None, None, 2 0           bn2c_branch2c[0][0]              \n",
      "                                                                 activation_106[0][0]             \n",
      "__________________________________________________________________________________________________\n",
      "activation_109 (Activation)     (None, None, None, 2 0           add_34[0][0]                     \n",
      "__________________________________________________________________________________________________\n",
      "res3a_branch2a (Conv2D)         (None, None, None, 1 32896       activation_109[0][0]             \n",
      "__________________________________________________________________________________________________\n",
      "bn3a_branch2a (BatchNormalizati (None, None, None, 1 512         res3a_branch2a[0][0]             \n",
      "__________________________________________________________________________________________________\n",
      "activation_110 (Activation)     (None, None, None, 1 0           bn3a_branch2a[0][0]              \n",
      "__________________________________________________________________________________________________\n",
      "res3a_branch2b (Conv2D)         (None, None, None, 1 147584      activation_110[0][0]             \n",
      "__________________________________________________________________________________________________\n",
      "bn3a_branch2b (BatchNormalizati (None, None, None, 1 512         res3a_branch2b[0][0]             \n",
      "__________________________________________________________________________________________________\n",
      "activation_111 (Activation)     (None, None, None, 1 0           bn3a_branch2b[0][0]              \n",
      "__________________________________________________________________________________________________\n",
      "res3a_branch2c (Conv2D)         (None, None, None, 5 66048       activation_111[0][0]             \n",
      "__________________________________________________________________________________________________\n",
      "res3a_branch1 (Conv2D)          (None, None, None, 5 131584      activation_109[0][0]             \n",
      "__________________________________________________________________________________________________\n",
      "bn3a_branch2c (BatchNormalizati (None, None, None, 5 2048        res3a_branch2c[0][0]             \n",
      "__________________________________________________________________________________________________\n",
      "bn3a_branch1 (BatchNormalizatio (None, None, None, 5 2048        res3a_branch1[0][0]              \n",
      "__________________________________________________________________________________________________\n",
      "add_35 (Add)                    (None, None, None, 5 0           bn3a_branch2c[0][0]              \n",
      "                                                                 bn3a_branch1[0][0]               \n",
      "__________________________________________________________________________________________________\n",
      "activation_112 (Activation)     (None, None, None, 5 0           add_35[0][0]                     \n",
      "__________________________________________________________________________________________________\n",
      "res3b_branch2a (Conv2D)         (None, None, None, 1 65664       activation_112[0][0]             \n",
      "__________________________________________________________________________________________________\n",
      "bn3b_branch2a (BatchNormalizati (None, None, None, 1 512         res3b_branch2a[0][0]             \n",
      "__________________________________________________________________________________________________\n",
      "activation_113 (Activation)     (None, None, None, 1 0           bn3b_branch2a[0][0]              \n",
      "__________________________________________________________________________________________________\n",
      "res3b_branch2b (Conv2D)         (None, None, None, 1 147584      activation_113[0][0]             \n",
      "__________________________________________________________________________________________________\n",
      "bn3b_branch2b (BatchNormalizati (None, None, None, 1 512         res3b_branch2b[0][0]             \n",
      "__________________________________________________________________________________________________\n",
      "activation_114 (Activation)     (None, None, None, 1 0           bn3b_branch2b[0][0]              \n",
      "__________________________________________________________________________________________________\n",
      "res3b_branch2c (Conv2D)         (None, None, None, 5 66048       activation_114[0][0]             \n",
      "__________________________________________________________________________________________________\n",
      "bn3b_branch2c (BatchNormalizati (None, None, None, 5 2048        res3b_branch2c[0][0]             \n",
      "__________________________________________________________________________________________________\n",
      "add_36 (Add)                    (None, None, None, 5 0           bn3b_branch2c[0][0]              \n",
      "                                                                 activation_112[0][0]             \n",
      "__________________________________________________________________________________________________\n",
      "activation_115 (Activation)     (None, None, None, 5 0           add_36[0][0]                     \n",
      "__________________________________________________________________________________________________\n",
      "res3c_branch2a (Conv2D)         (None, None, None, 1 65664       activation_115[0][0]             \n",
      "__________________________________________________________________________________________________\n",
      "bn3c_branch2a (BatchNormalizati (None, None, None, 1 512         res3c_branch2a[0][0]             \n",
      "__________________________________________________________________________________________________\n",
      "activation_116 (Activation)     (None, None, None, 1 0           bn3c_branch2a[0][0]              \n",
      "__________________________________________________________________________________________________\n",
      "res3c_branch2b (Conv2D)         (None, None, None, 1 147584      activation_116[0][0]             \n",
      "__________________________________________________________________________________________________\n",
      "bn3c_branch2b (BatchNormalizati (None, None, None, 1 512         res3c_branch2b[0][0]             \n",
      "__________________________________________________________________________________________________\n",
      "activation_117 (Activation)     (None, None, None, 1 0           bn3c_branch2b[0][0]              \n",
      "__________________________________________________________________________________________________\n",
      "res3c_branch2c (Conv2D)         (None, None, None, 5 66048       activation_117[0][0]             \n",
      "__________________________________________________________________________________________________\n",
      "bn3c_branch2c (BatchNormalizati (None, None, None, 5 2048        res3c_branch2c[0][0]             \n",
      "__________________________________________________________________________________________________\n",
      "add_37 (Add)                    (None, None, None, 5 0           bn3c_branch2c[0][0]              \n",
      "                                                                 activation_115[0][0]             \n",
      "__________________________________________________________________________________________________\n",
      "activation_118 (Activation)     (None, None, None, 5 0           add_37[0][0]                     \n",
      "__________________________________________________________________________________________________\n",
      "res3d_branch2a (Conv2D)         (None, None, None, 1 65664       activation_118[0][0]             \n",
      "__________________________________________________________________________________________________\n",
      "bn3d_branch2a (BatchNormalizati (None, None, None, 1 512         res3d_branch2a[0][0]             \n",
      "__________________________________________________________________________________________________\n",
      "activation_119 (Activation)     (None, None, None, 1 0           bn3d_branch2a[0][0]              \n",
      "__________________________________________________________________________________________________\n",
      "res3d_branch2b (Conv2D)         (None, None, None, 1 147584      activation_119[0][0]             \n",
      "__________________________________________________________________________________________________\n",
      "bn3d_branch2b (BatchNormalizati (None, None, None, 1 512         res3d_branch2b[0][0]             \n",
      "__________________________________________________________________________________________________\n",
      "activation_120 (Activation)     (None, None, None, 1 0           bn3d_branch2b[0][0]              \n",
      "__________________________________________________________________________________________________\n",
      "res3d_branch2c (Conv2D)         (None, None, None, 5 66048       activation_120[0][0]             \n",
      "__________________________________________________________________________________________________\n",
      "bn3d_branch2c (BatchNormalizati (None, None, None, 5 2048        res3d_branch2c[0][0]             \n",
      "__________________________________________________________________________________________________\n",
      "add_38 (Add)                    (None, None, None, 5 0           bn3d_branch2c[0][0]              \n",
      "                                                                 activation_118[0][0]             \n",
      "__________________________________________________________________________________________________\n",
      "activation_121 (Activation)     (None, None, None, 5 0           add_38[0][0]                     \n",
      "__________________________________________________________________________________________________\n",
      "res4a_branch2a (Conv2D)         (None, None, None, 2 131328      activation_121[0][0]             \n",
      "__________________________________________________________________________________________________\n",
      "bn4a_branch2a (BatchNormalizati (None, None, None, 2 1024        res4a_branch2a[0][0]             \n",
      "__________________________________________________________________________________________________\n",
      "activation_122 (Activation)     (None, None, None, 2 0           bn4a_branch2a[0][0]              \n",
      "__________________________________________________________________________________________________\n",
      "res4a_branch2b (Conv2D)         (None, None, None, 2 590080      activation_122[0][0]             \n",
      "__________________________________________________________________________________________________\n",
      "bn4a_branch2b (BatchNormalizati (None, None, None, 2 1024        res4a_branch2b[0][0]             \n",
      "__________________________________________________________________________________________________\n",
      "activation_123 (Activation)     (None, None, None, 2 0           bn4a_branch2b[0][0]              \n",
      "__________________________________________________________________________________________________\n",
      "res4a_branch2c (Conv2D)         (None, None, None, 1 263168      activation_123[0][0]             \n",
      "__________________________________________________________________________________________________\n",
      "res4a_branch1 (Conv2D)          (None, None, None, 1 525312      activation_121[0][0]             \n",
      "__________________________________________________________________________________________________\n",
      "bn4a_branch2c (BatchNormalizati (None, None, None, 1 4096        res4a_branch2c[0][0]             \n",
      "__________________________________________________________________________________________________\n",
      "bn4a_branch1 (BatchNormalizatio (None, None, None, 1 4096        res4a_branch1[0][0]              \n",
      "__________________________________________________________________________________________________\n",
      "add_39 (Add)                    (None, None, None, 1 0           bn4a_branch2c[0][0]              \n",
      "                                                                 bn4a_branch1[0][0]               \n",
      "__________________________________________________________________________________________________\n",
      "activation_124 (Activation)     (None, None, None, 1 0           add_39[0][0]                     \n",
      "__________________________________________________________________________________________________\n",
      "res4b_branch2a (Conv2D)         (None, None, None, 2 262400      activation_124[0][0]             \n",
      "__________________________________________________________________________________________________\n",
      "bn4b_branch2a (BatchNormalizati (None, None, None, 2 1024        res4b_branch2a[0][0]             \n",
      "__________________________________________________________________________________________________\n",
      "activation_125 (Activation)     (None, None, None, 2 0           bn4b_branch2a[0][0]              \n",
      "__________________________________________________________________________________________________\n",
      "res4b_branch2b (Conv2D)         (None, None, None, 2 590080      activation_125[0][0]             \n",
      "__________________________________________________________________________________________________\n",
      "bn4b_branch2b (BatchNormalizati (None, None, None, 2 1024        res4b_branch2b[0][0]             \n",
      "__________________________________________________________________________________________________\n",
      "activation_126 (Activation)     (None, None, None, 2 0           bn4b_branch2b[0][0]              \n",
      "__________________________________________________________________________________________________\n",
      "res4b_branch2c (Conv2D)         (None, None, None, 1 263168      activation_126[0][0]             \n",
      "__________________________________________________________________________________________________\n",
      "bn4b_branch2c (BatchNormalizati (None, None, None, 1 4096        res4b_branch2c[0][0]             \n",
      "__________________________________________________________________________________________________\n",
      "add_40 (Add)                    (None, None, None, 1 0           bn4b_branch2c[0][0]              \n",
      "                                                                 activation_124[0][0]             \n",
      "__________________________________________________________________________________________________\n",
      "activation_127 (Activation)     (None, None, None, 1 0           add_40[0][0]                     \n",
      "__________________________________________________________________________________________________\n",
      "res4c_branch2a (Conv2D)         (None, None, None, 2 262400      activation_127[0][0]             \n",
      "__________________________________________________________________________________________________\n",
      "bn4c_branch2a (BatchNormalizati (None, None, None, 2 1024        res4c_branch2a[0][0]             \n",
      "__________________________________________________________________________________________________\n",
      "activation_128 (Activation)     (None, None, None, 2 0           bn4c_branch2a[0][0]              \n",
      "__________________________________________________________________________________________________\n",
      "res4c_branch2b (Conv2D)         (None, None, None, 2 590080      activation_128[0][0]             \n",
      "__________________________________________________________________________________________________\n",
      "bn4c_branch2b (BatchNormalizati (None, None, None, 2 1024        res4c_branch2b[0][0]             \n",
      "__________________________________________________________________________________________________\n",
      "activation_129 (Activation)     (None, None, None, 2 0           bn4c_branch2b[0][0]              \n",
      "__________________________________________________________________________________________________\n",
      "res4c_branch2c (Conv2D)         (None, None, None, 1 263168      activation_129[0][0]             \n",
      "__________________________________________________________________________________________________\n",
      "bn4c_branch2c (BatchNormalizati (None, None, None, 1 4096        res4c_branch2c[0][0]             \n",
      "__________________________________________________________________________________________________\n",
      "add_41 (Add)                    (None, None, None, 1 0           bn4c_branch2c[0][0]              \n",
      "                                                                 activation_127[0][0]             \n",
      "__________________________________________________________________________________________________\n",
      "activation_130 (Activation)     (None, None, None, 1 0           add_41[0][0]                     \n",
      "__________________________________________________________________________________________________\n",
      "res4d_branch2a (Conv2D)         (None, None, None, 2 262400      activation_130[0][0]             \n",
      "__________________________________________________________________________________________________\n",
      "bn4d_branch2a (BatchNormalizati (None, None, None, 2 1024        res4d_branch2a[0][0]             \n",
      "__________________________________________________________________________________________________\n",
      "activation_131 (Activation)     (None, None, None, 2 0           bn4d_branch2a[0][0]              \n",
      "__________________________________________________________________________________________________\n",
      "res4d_branch2b (Conv2D)         (None, None, None, 2 590080      activation_131[0][0]             \n",
      "__________________________________________________________________________________________________\n",
      "bn4d_branch2b (BatchNormalizati (None, None, None, 2 1024        res4d_branch2b[0][0]             \n",
      "__________________________________________________________________________________________________\n",
      "activation_132 (Activation)     (None, None, None, 2 0           bn4d_branch2b[0][0]              \n",
      "__________________________________________________________________________________________________\n",
      "res4d_branch2c (Conv2D)         (None, None, None, 1 263168      activation_132[0][0]             \n",
      "__________________________________________________________________________________________________\n",
      "bn4d_branch2c (BatchNormalizati (None, None, None, 1 4096        res4d_branch2c[0][0]             \n",
      "__________________________________________________________________________________________________\n",
      "add_42 (Add)                    (None, None, None, 1 0           bn4d_branch2c[0][0]              \n",
      "                                                                 activation_130[0][0]             \n",
      "__________________________________________________________________________________________________\n",
      "activation_133 (Activation)     (None, None, None, 1 0           add_42[0][0]                     \n",
      "__________________________________________________________________________________________________\n",
      "res4e_branch2a (Conv2D)         (None, None, None, 2 262400      activation_133[0][0]             \n",
      "__________________________________________________________________________________________________\n",
      "bn4e_branch2a (BatchNormalizati (None, None, None, 2 1024        res4e_branch2a[0][0]             \n",
      "__________________________________________________________________________________________________\n",
      "activation_134 (Activation)     (None, None, None, 2 0           bn4e_branch2a[0][0]              \n",
      "__________________________________________________________________________________________________\n",
      "res4e_branch2b (Conv2D)         (None, None, None, 2 590080      activation_134[0][0]             \n",
      "__________________________________________________________________________________________________\n",
      "bn4e_branch2b (BatchNormalizati (None, None, None, 2 1024        res4e_branch2b[0][0]             \n",
      "__________________________________________________________________________________________________\n",
      "activation_135 (Activation)     (None, None, None, 2 0           bn4e_branch2b[0][0]              \n",
      "__________________________________________________________________________________________________\n",
      "res4e_branch2c (Conv2D)         (None, None, None, 1 263168      activation_135[0][0]             \n",
      "__________________________________________________________________________________________________\n",
      "bn4e_branch2c (BatchNormalizati (None, None, None, 1 4096        res4e_branch2c[0][0]             \n",
      "__________________________________________________________________________________________________\n",
      "add_43 (Add)                    (None, None, None, 1 0           bn4e_branch2c[0][0]              \n",
      "                                                                 activation_133[0][0]             \n",
      "__________________________________________________________________________________________________\n",
      "activation_136 (Activation)     (None, None, None, 1 0           add_43[0][0]                     \n",
      "__________________________________________________________________________________________________\n",
      "res4f_branch2a (Conv2D)         (None, None, None, 2 262400      activation_136[0][0]             \n",
      "__________________________________________________________________________________________________\n",
      "bn4f_branch2a (BatchNormalizati (None, None, None, 2 1024        res4f_branch2a[0][0]             \n",
      "__________________________________________________________________________________________________\n",
      "activation_137 (Activation)     (None, None, None, 2 0           bn4f_branch2a[0][0]              \n",
      "__________________________________________________________________________________________________\n",
      "res4f_branch2b (Conv2D)         (None, None, None, 2 590080      activation_137[0][0]             \n",
      "__________________________________________________________________________________________________\n",
      "bn4f_branch2b (BatchNormalizati (None, None, None, 2 1024        res4f_branch2b[0][0]             \n",
      "__________________________________________________________________________________________________\n",
      "activation_138 (Activation)     (None, None, None, 2 0           bn4f_branch2b[0][0]              \n",
      "__________________________________________________________________________________________________\n",
      "res4f_branch2c (Conv2D)         (None, None, None, 1 263168      activation_138[0][0]             \n",
      "__________________________________________________________________________________________________\n",
      "bn4f_branch2c (BatchNormalizati (None, None, None, 1 4096        res4f_branch2c[0][0]             \n",
      "__________________________________________________________________________________________________\n",
      "add_44 (Add)                    (None, None, None, 1 0           bn4f_branch2c[0][0]              \n",
      "                                                                 activation_136[0][0]             \n",
      "__________________________________________________________________________________________________\n",
      "activation_139 (Activation)     (None, None, None, 1 0           add_44[0][0]                     \n",
      "__________________________________________________________________________________________________\n",
      "res5a_branch2a (Conv2D)         (None, None, None, 5 524800      activation_139[0][0]             \n",
      "__________________________________________________________________________________________________\n",
      "bn5a_branch2a (BatchNormalizati (None, None, None, 5 2048        res5a_branch2a[0][0]             \n",
      "__________________________________________________________________________________________________\n",
      "activation_140 (Activation)     (None, None, None, 5 0           bn5a_branch2a[0][0]              \n",
      "__________________________________________________________________________________________________\n",
      "res5a_branch2b (Conv2D)         (None, None, None, 5 2359808     activation_140[0][0]             \n",
      "__________________________________________________________________________________________________\n",
      "bn5a_branch2b (BatchNormalizati (None, None, None, 5 2048        res5a_branch2b[0][0]             \n",
      "__________________________________________________________________________________________________\n",
      "activation_141 (Activation)     (None, None, None, 5 0           bn5a_branch2b[0][0]              \n",
      "__________________________________________________________________________________________________\n",
      "res5a_branch2c (Conv2D)         (None, None, None, 2 1050624     activation_141[0][0]             \n",
      "__________________________________________________________________________________________________\n",
      "res5a_branch1 (Conv2D)          (None, None, None, 2 2099200     activation_139[0][0]             \n",
      "__________________________________________________________________________________________________\n",
      "bn5a_branch2c (BatchNormalizati (None, None, None, 2 8192        res5a_branch2c[0][0]             \n",
      "__________________________________________________________________________________________________\n",
      "bn5a_branch1 (BatchNormalizatio (None, None, None, 2 8192        res5a_branch1[0][0]              \n",
      "__________________________________________________________________________________________________\n",
      "add_45 (Add)                    (None, None, None, 2 0           bn5a_branch2c[0][0]              \n",
      "                                                                 bn5a_branch1[0][0]               \n",
      "__________________________________________________________________________________________________\n",
      "activation_142 (Activation)     (None, None, None, 2 0           add_45[0][0]                     \n",
      "__________________________________________________________________________________________________\n",
      "res5b_branch2a (Conv2D)         (None, None, None, 5 1049088     activation_142[0][0]             \n",
      "__________________________________________________________________________________________________\n",
      "bn5b_branch2a (BatchNormalizati (None, None, None, 5 2048        res5b_branch2a[0][0]             \n",
      "__________________________________________________________________________________________________\n",
      "activation_143 (Activation)     (None, None, None, 5 0           bn5b_branch2a[0][0]              \n",
      "__________________________________________________________________________________________________\n",
      "res5b_branch2b (Conv2D)         (None, None, None, 5 2359808     activation_143[0][0]             \n",
      "__________________________________________________________________________________________________\n",
      "bn5b_branch2b (BatchNormalizati (None, None, None, 5 2048        res5b_branch2b[0][0]             \n",
      "__________________________________________________________________________________________________\n",
      "activation_144 (Activation)     (None, None, None, 5 0           bn5b_branch2b[0][0]              \n",
      "__________________________________________________________________________________________________\n",
      "res5b_branch2c (Conv2D)         (None, None, None, 2 1050624     activation_144[0][0]             \n",
      "__________________________________________________________________________________________________\n",
      "bn5b_branch2c (BatchNormalizati (None, None, None, 2 8192        res5b_branch2c[0][0]             \n",
      "__________________________________________________________________________________________________\n",
      "add_46 (Add)                    (None, None, None, 2 0           bn5b_branch2c[0][0]              \n",
      "                                                                 activation_142[0][0]             \n",
      "__________________________________________________________________________________________________\n",
      "activation_145 (Activation)     (None, None, None, 2 0           add_46[0][0]                     \n",
      "__________________________________________________________________________________________________\n",
      "res5c_branch2a (Conv2D)         (None, None, None, 5 1049088     activation_145[0][0]             \n",
      "__________________________________________________________________________________________________\n",
      "bn5c_branch2a (BatchNormalizati (None, None, None, 5 2048        res5c_branch2a[0][0]             \n",
      "__________________________________________________________________________________________________\n",
      "activation_146 (Activation)     (None, None, None, 5 0           bn5c_branch2a[0][0]              \n",
      "__________________________________________________________________________________________________\n",
      "res5c_branch2b (Conv2D)         (None, None, None, 5 2359808     activation_146[0][0]             \n",
      "__________________________________________________________________________________________________\n",
      "bn5c_branch2b (BatchNormalizati (None, None, None, 5 2048        res5c_branch2b[0][0]             \n",
      "__________________________________________________________________________________________________\n",
      "activation_147 (Activation)     (None, None, None, 5 0           bn5c_branch2b[0][0]              \n",
      "__________________________________________________________________________________________________\n",
      "res5c_branch2c (Conv2D)         (None, None, None, 2 1050624     activation_147[0][0]             \n",
      "__________________________________________________________________________________________________\n",
      "bn5c_branch2c (BatchNormalizati (None, None, None, 2 8192        res5c_branch2c[0][0]             \n",
      "__________________________________________________________________________________________________\n",
      "add_47 (Add)                    (None, None, None, 2 0           bn5c_branch2c[0][0]              \n",
      "                                                                 activation_145[0][0]             \n",
      "__________________________________________________________________________________________________\n",
      "activation_148 (Activation)     (None, None, None, 2 0           add_47[0][0]                     \n",
      "__________________________________________________________________________________________________\n",
      "global_average_pooling2d_4 (Glo (None, 2048)         0           activation_148[0][0]             \n",
      "==================================================================================================\n",
      "Total params: 23,587,712\n",
      "Trainable params: 23,534,592\n",
      "Non-trainable params: 53,120\n",
      "__________________________________________________________________________________________________\n"
     ]
    }
   ],
   "source": [
    "base_model = ResNet50(include_top=False,\n",
    "                  pooling='avg',\n",
    "                  weights = 'imagenet')\n",
    "base_model.summary()"
   ]
  },
  {
   "cell_type": "code",
   "execution_count": 67,
   "metadata": {},
   "outputs": [],
   "source": [
    "net = Sequential()\n",
    "net.add(base_model)\n",
    "#net.add(GlobalAveragePooling2D())\n",
    "net.add(Flatten())\n",
    "net.add(BatchNormalization())\n",
    "net.add(Activation('relu'))\n",
    "net.add(Dropout(0.25))\n",
    "net.add(Dense(512))\n",
    "net.add(Activation('relu'))\n",
    "net.add(BatchNormalization())\n",
    "net.add(Dropout(0.5))\n",
    "net.add(Dense(num_classes,activation='softmax'))"
   ]
  },
  {
   "cell_type": "code",
   "execution_count": 68,
   "metadata": {},
   "outputs": [
    {
     "name": "stdout",
     "output_type": "stream",
     "text": [
      "_________________________________________________________________\n",
      "Layer (type)                 Output Shape              Param #   \n",
      "=================================================================\n",
      "resnet50 (Model)             (None, 2048)              23587712  \n",
      "_________________________________________________________________\n",
      "flatten_3 (Flatten)          (None, 2048)              0         \n",
      "_________________________________________________________________\n",
      "batch_normalization_v1_3 (Ba (None, 2048)              8192      \n",
      "_________________________________________________________________\n",
      "activation_149 (Activation)  (None, 2048)              0         \n",
      "_________________________________________________________________\n",
      "dropout_2 (Dropout)          (None, 2048)              0         \n",
      "_________________________________________________________________\n",
      "dense_2 (Dense)              (None, 512)               1049088   \n",
      "_________________________________________________________________\n",
      "activation_150 (Activation)  (None, 512)               0         \n",
      "_________________________________________________________________\n",
      "batch_normalization_v1_4 (Ba (None, 512)               2048      \n",
      "_________________________________________________________________\n",
      "dropout_3 (Dropout)          (None, 512)               0         \n",
      "_________________________________________________________________\n",
      "dense_3 (Dense)              (None, 196)               100548    \n",
      "=================================================================\n",
      "Total params: 24,747,588\n",
      "Trainable params: 24,689,348\n",
      "Non-trainable params: 58,240\n",
      "_________________________________________________________________\n"
     ]
    }
   ],
   "source": [
    "net.summary()"
   ]
  },
  {
   "cell_type": "code",
   "execution_count": 69,
   "metadata": {},
   "outputs": [],
   "source": [
    "#net.layers[0].trainable = False\n",
    "\n",
    "sgd = optimizers.SGD(lr=0.001, decay=1e-6, momentum=0.9, nesterov=True)\n",
    "net.compile(optimizer=sgd, loss='categorical_crossentropy', metrics=['accuracy'])"
   ]
  },
  {
   "cell_type": "code",
   "execution_count": 70,
   "metadata": {},
   "outputs": [],
   "source": [
    "from tensorflow.keras.applications.resnet50 import preprocess_input\n",
    "from tensorflow.keras.preprocessing.image import ImageDataGenerator\n",
    "\n",
    "# Specify the values for all arguments to data_generator_with_aug.\n",
    "data_generator_with_aug = ImageDataGenerator(preprocessing_function=preprocess_input,\n",
    "                                              horizontal_flip = True,\n",
    "                                              rotation_range=10,\n",
    "                                              shear_range=0.2,\n",
    "                                              zoom_range=0.2,\n",
    "                                              width_shift_range = 0.1,\n",
    "                                              height_shift_range = 0.1)\n",
    "            \n",
    "data_generator_no_aug = ImageDataGenerator(preprocessing_function=preprocess_input)"
   ]
  },
  {
   "cell_type": "code",
   "execution_count": 71,
   "metadata": {},
   "outputs": [
    {
     "name": "stdout",
     "output_type": "stream",
     "text": [
      "Found 6571 images belonging to 196 classes.\n",
      "Found 1573 images belonging to 196 classes.\n"
     ]
    }
   ],
   "source": [
    "train_generator = data_generator_with_aug.flow_from_directory(\n",
    "                                          directory   = Data_DIR+'/'+train_dir,\n",
    "                                          target_size = (image_size, image_size),\n",
    "                                          batch_size  = batch_size,\n",
    "                                          class_mode  = 'categorical')\n",
    "\n",
    "validation_generator = data_generator_no_aug.flow_from_directory(\n",
    "                                             directory   = Data_DIR+'/'+val_dir,\n",
    "                                             target_size = (image_size, image_size),\n",
    "                                             class_mode  = 'categorical')\n"
   ]
  },
  {
   "cell_type": "code",
   "execution_count": 72,
   "metadata": {},
   "outputs": [
    {
     "name": "stdout",
     "output_type": "stream",
     "text": [
      "Epoch 1/24\n",
      "50/50 [==============================] - 5s 101ms/step - loss: 5.3686 - acc: 0.0165\n",
      "411/411 [==============================] - 61s 147ms/step - loss: 6.2478 - acc: 0.0062 - val_loss: 5.3686 - val_acc: 0.0165\n",
      "Epoch 2/24\n",
      "50/50 [==============================] - 4s 83ms/step - loss: 15.7121 - acc: 0.0051\n",
      "411/411 [==============================] - 57s 138ms/step - loss: 5.9685 - acc: 0.0079 - val_loss: 15.7121 - val_acc: 0.0051\n",
      "Epoch 3/24\n",
      "50/50 [==============================] - 4s 83ms/step - loss: 5.3235 - acc: 0.0203\n",
      "411/411 [==============================] - 57s 138ms/step - loss: 5.8100 - acc: 0.0116 - val_loss: 5.3235 - val_acc: 0.0203\n",
      "Epoch 4/24\n",
      "50/50 [==============================] - 4s 85ms/step - loss: 5.3044 - acc: 0.0261\n",
      "411/411 [==============================] - 57s 138ms/step - loss: 5.6655 - acc: 0.0114 - val_loss: 5.3044 - val_acc: 0.0261\n",
      "Epoch 5/24\n",
      "50/50 [==============================] - 4s 83ms/step - loss: 5.2311 - acc: 0.0305\n",
      "411/411 [==============================] - 57s 138ms/step - loss: 5.5019 - acc: 0.0187 - val_loss: 5.2311 - val_acc: 0.0305\n",
      "Epoch 6/24\n",
      "50/50 [==============================] - 4s 89ms/step - loss: 6.2054 - acc: 0.0432\n",
      "411/411 [==============================] - 57s 139ms/step - loss: 5.3260 - acc: 0.0272 - val_loss: 6.2054 - val_acc: 0.0432\n",
      "Epoch 7/24\n",
      "50/50 [==============================] - 4s 84ms/step - loss: 5.0590 - acc: 0.0750\n",
      "411/411 [==============================] - 57s 138ms/step - loss: 5.0892 - acc: 0.0432 - val_loss: 5.0590 - val_acc: 0.0750\n",
      "Epoch 8/24\n",
      "50/50 [==============================] - 4s 84ms/step - loss: 4.5740 - acc: 0.0947\n",
      "411/411 [==============================] - 57s 139ms/step - loss: 4.8146 - acc: 0.0598 - val_loss: 4.5740 - val_acc: 0.0947\n",
      "Epoch 9/24\n",
      "50/50 [==============================] - 4s 86ms/step - loss: 5.0131 - acc: 0.1322\n",
      "411/411 [==============================] - 57s 139ms/step - loss: 4.5239 - acc: 0.0852 - val_loss: 5.0131 - val_acc: 0.1322\n",
      "Epoch 10/24\n",
      "50/50 [==============================] - 4s 83ms/step - loss: 4.0706 - acc: 0.1837\n",
      "411/411 [==============================] - 57s 138ms/step - loss: 4.1573 - acc: 0.1303 - val_loss: 4.0706 - val_acc: 0.1837\n",
      "Epoch 11/24\n",
      "50/50 [==============================] - 4s 82ms/step - loss: 3.3519 - acc: 0.2435\n",
      "411/411 [==============================] - 57s 138ms/step - loss: 3.7067 - acc: 0.1861 - val_loss: 3.3519 - val_acc: 0.2435\n",
      "Epoch 12/24\n",
      "50/50 [==============================] - 4s 81ms/step - loss: 3.0417 - acc: 0.2835\n",
      "411/411 [==============================] - 57s 139ms/step - loss: 3.2899 - acc: 0.2546 - val_loss: 3.0417 - val_acc: 0.2835\n",
      "Epoch 13/24\n",
      "50/50 [==============================] - 4s 83ms/step - loss: 2.7630 - acc: 0.3420\n",
      "411/411 [==============================] - 57s 138ms/step - loss: 2.9005 - acc: 0.3147 - val_loss: 2.7630 - val_acc: 0.3420\n",
      "Epoch 14/24\n",
      "50/50 [==============================] - 4s 82ms/step - loss: 2.5464 - acc: 0.4120: 3s - loss: 2.4354 - acc: 0.43 - ET\n",
      "411/411 [==============================] - 57s 138ms/step - loss: 2.5132 - acc: 0.3812 - val_loss: 2.5464 - val_acc: 0.4120\n",
      "Epoch 15/24\n",
      "50/50 [==============================] - 4s 84ms/step - loss: 2.1862 - acc: 0.4501\n",
      "411/411 [==============================] - 57s 138ms/step - loss: 2.1618 - acc: 0.4558 - val_loss: 2.1862 - val_acc: 0.4501\n",
      "Epoch 16/24\n",
      "50/50 [==============================] - 4s 82ms/step - loss: 2.7057 - acc: 0.4514\n",
      "411/411 [==============================] - 57s 138ms/step - loss: 1.8864 - acc: 0.5182 - val_loss: 2.7057 - val_acc: 0.4514\n",
      "Epoch 17/24\n",
      "50/50 [==============================] - 4s 84ms/step - loss: 1.7320 - acc: 0.5404\n",
      "411/411 [==============================] - 57s 138ms/step - loss: 1.5920 - acc: 0.5821 - val_loss: 1.7320 - val_acc: 0.5404\n",
      "Epoch 18/24\n",
      "50/50 [==============================] - 4s 84ms/step - loss: 1.8783 - acc: 0.5925\n",
      "411/411 [==============================] - 57s 138ms/step - loss: 1.3700 - acc: 0.6338 - val_loss: 1.8783 - val_acc: 0.5925\n",
      "Epoch 19/24\n",
      "50/50 [==============================] - 4s 82ms/step - loss: 1.5757 - acc: 0.6198\n",
      "411/411 [==============================] - 57s 139ms/step - loss: 1.2173 - acc: 0.6787 - val_loss: 1.5757 - val_acc: 0.6198\n",
      "Epoch 20/24\n",
      "50/50 [==============================] - 4s 85ms/step - loss: 1.4671 - acc: 0.6116\n",
      "411/411 [==============================] - 57s 139ms/step - loss: 1.0698 - acc: 0.7113 - val_loss: 1.4671 - val_acc: 0.6116\n",
      "Epoch 21/24\n",
      "50/50 [==============================] - 4s 87ms/step - loss: 1.2359 - acc: 0.6771\n",
      "411/411 [==============================] - 57s 139ms/step - loss: 0.9397 - acc: 0.7428 - val_loss: 1.2359 - val_acc: 0.6771\n",
      "Epoch 22/24\n",
      "50/50 [==============================] - 4s 87ms/step - loss: 1.1591 - acc: 0.6777\n",
      "411/411 [==============================] - 57s 139ms/step - loss: 0.8121 - acc: 0.7748 - val_loss: 1.1591 - val_acc: 0.6777\n",
      "Epoch 23/24\n",
      "50/50 [==============================] - 4s 84ms/step - loss: 1.3395 - acc: 0.6618\n",
      "411/411 [==============================] - 57s 138ms/step - loss: 0.7193 - acc: 0.8019 - val_loss: 1.3395 - val_acc: 0.6618\n",
      "Epoch 24/24\n",
      "50/50 [==============================] - 4s 86ms/step - loss: 1.1023 - acc: 0.6974\n",
      "411/411 [==============================] - 57s 138ms/step - loss: 0.6240 - acc: 0.8309 - val_loss: 1.1023 - val_acc: 0.6974\n"
     ]
    }
   ],
   "source": [
    "fit_stats = net.fit_generator(\n",
    "            train_generator,\n",
    "            epochs = 24,\n",
    "            steps_per_epoch=len(train)//batch_size,\n",
    "            validation_data=validation_generator,\n",
    "            workers=8,\n",
    "            use_multiprocessing=True,\n",
    "            )"
   ]
  },
  {
   "cell_type": "code",
   "execution_count": 73,
   "metadata": {},
   "outputs": [
    {
     "name": "stdout",
     "output_type": "stream",
     "text": [
      "Found 6571 images belonging to 196 classes.\n",
      "Found 1573 images belonging to 196 classes.\n"
     ]
    }
   ],
   "source": [
    "image_size = 299\n",
    "batch_size = 12\n",
    "\n",
    "sgd = optimizers.SGD(lr=0.001, decay=1e-6, momentum=0.9, nesterov=True)\n",
    "net.compile(optimizer=sgd, loss='categorical_crossentropy', metrics=['accuracy'])\n",
    "\n",
    "train_generator = data_generator_with_aug.flow_from_directory(\n",
    "                                          directory   = Data_DIR+'/'+train_dir,\n",
    "                                          target_size = (image_size, image_size),\n",
    "                                          batch_size  = batch_size,\n",
    "                                          class_mode  = 'categorical')\n",
    "\n",
    "validation_generator = data_generator_no_aug.flow_from_directory(\n",
    "                                             directory   = Data_DIR+'/'+val_dir,\n",
    "                                             target_size = (image_size, image_size),\n",
    "                                             class_mode  = 'categorical')"
   ]
  },
  {
   "cell_type": "code",
   "execution_count": 74,
   "metadata": {},
   "outputs": [
    {
     "name": "stdout",
     "output_type": "stream",
     "text": [
      "Epoch 1/24\n",
      "50/50 [==============================] - 9s 190ms/step - loss: 1.3052 - acc: 0.6605\n",
      "548/548 [==============================] - 109s 199ms/step - loss: 0.8115 - acc: 0.7748 - val_loss: 1.3052 - val_acc: 0.6605\n",
      "Epoch 2/24\n",
      "50/50 [==============================] - 8s 153ms/step - loss: 1.1126 - acc: 0.7069\n",
      "548/548 [==============================] - 103s 188ms/step - loss: 0.6010 - acc: 0.8324 - val_loss: 1.1126 - val_acc: 0.7069\n",
      "Epoch 3/24\n",
      "50/50 [==============================] - 8s 151ms/step - loss: 0.8675 - acc: 0.7603\n",
      "548/548 [==============================] - 103s 188ms/step - loss: 0.5604 - acc: 0.8416 - val_loss: 0.8675 - val_acc: 0.7603\n",
      "Epoch 4/24\n",
      "50/50 [==============================] - 8s 157ms/step - loss: 0.8373 - acc: 0.7832\n",
      "548/548 [==============================] - 103s 189ms/step - loss: 0.4893 - acc: 0.8632 - val_loss: 0.8373 - val_acc: 0.7832\n",
      "Epoch 5/24\n",
      "50/50 [==============================] - 8s 154ms/step - loss: 0.9319 - acc: 0.7578\n",
      "548/548 [==============================] - 103s 188ms/step - loss: 0.4235 - acc: 0.8804 - val_loss: 0.9319 - val_acc: 0.7578\n",
      "Epoch 6/24\n",
      "50/50 [==============================] - 8s 157ms/step - loss: 0.8579 - acc: 0.7794\n",
      "548/548 [==============================] - 104s 189ms/step - loss: 0.3659 - acc: 0.9014 - val_loss: 0.8579 - val_acc: 0.7794\n",
      "Epoch 7/24\n",
      "50/50 [==============================] - 8s 154ms/step - loss: 0.8804 - acc: 0.7711\n",
      "548/548 [==============================] - 103s 188ms/step - loss: 0.3290 - acc: 0.9073 - val_loss: 0.8804 - val_acc: 0.7711\n",
      "Epoch 8/24\n",
      "50/50 [==============================] - 8s 151ms/step - loss: 0.8183 - acc: 0.7902\n",
      "548/548 [==============================] - 103s 188ms/step - loss: 0.3012 - acc: 0.9172 - val_loss: 0.8183 - val_acc: 0.7902\n",
      "Epoch 9/24\n",
      "50/50 [==============================] - 8s 151ms/step - loss: 0.7770 - acc: 0.8017\n",
      "548/548 [==============================] - 103s 188ms/step - loss: 0.2905 - acc: 0.9187 - val_loss: 0.7770 - val_acc: 0.8017\n",
      "Epoch 10/24\n",
      "50/50 [==============================] - 8s 155ms/step - loss: 0.7882 - acc: 0.7959\n",
      "548/548 [==============================] - 103s 188ms/step - loss: 0.2240 - acc: 0.9381 - val_loss: 0.7882 - val_acc: 0.7959\n",
      "Epoch 11/24\n",
      "50/50 [==============================] - 8s 158ms/step - loss: 0.7780 - acc: 0.8048\n",
      "548/548 [==============================] - 103s 189ms/step - loss: 0.2158 - acc: 0.9429 - val_loss: 0.7780 - val_acc: 0.8048\n",
      "Epoch 12/24\n",
      "50/50 [==============================] - 8s 151ms/step - loss: 0.7372 - acc: 0.7966\n",
      "548/548 [==============================] - 103s 188ms/step - loss: 0.1831 - acc: 0.9495 - val_loss: 0.7372 - val_acc: 0.7966\n",
      "Epoch 13/24\n",
      "50/50 [==============================] - 7s 149ms/step - loss: 0.6917 - acc: 0.8175\n",
      "548/548 [==============================] - 103s 188ms/step - loss: 0.1812 - acc: 0.9556 - val_loss: 0.6917 - val_acc: 0.8175\n",
      "Epoch 14/24\n",
      "50/50 [==============================] - 8s 154ms/step - loss: 0.6860 - acc: 0.8220\n",
      "548/548 [==============================] - 103s 188ms/step - loss: 0.1651 - acc: 0.9565 - val_loss: 0.6860 - val_acc: 0.8220\n",
      "Epoch 15/24\n",
      "50/50 [==============================] - 8s 153ms/step - loss: 0.6500 - acc: 0.8366\n",
      "548/548 [==============================] - 103s 188ms/step - loss: 0.1518 - acc: 0.9594 - val_loss: 0.6500 - val_acc: 0.8366\n",
      "Epoch 16/24\n",
      "50/50 [==============================] - 8s 150ms/step - loss: 0.6184 - acc: 0.8347\n",
      "548/548 [==============================] - 103s 188ms/step - loss: 0.1366 - acc: 0.9676 - val_loss: 0.6184 - val_acc: 0.8347\n",
      "Epoch 17/24\n",
      "50/50 [==============================] - 8s 153ms/step - loss: 0.7213 - acc: 0.8214\n",
      "548/548 [==============================] - 103s 188ms/step - loss: 0.1361 - acc: 0.9638 - val_loss: 0.7213 - val_acc: 0.8214\n",
      "Epoch 18/24\n",
      "50/50 [==============================] - 8s 156ms/step - loss: 0.7648 - acc: 0.8118\n",
      "548/548 [==============================] - 103s 189ms/step - loss: 0.1311 - acc: 0.9667 - val_loss: 0.7648 - val_acc: 0.8118\n",
      "Epoch 19/24\n",
      "50/50 [==============================] - 8s 152ms/step - loss: 0.7256 - acc: 0.8201\n",
      "548/548 [==============================] - 103s 188ms/step - loss: 0.1191 - acc: 0.9694 - val_loss: 0.7256 - val_acc: 0.8201\n",
      "Epoch 20/24\n",
      "50/50 [==============================] - 8s 151ms/step - loss: 0.6213 - acc: 0.8347\n",
      "548/548 [==============================] - 103s 188ms/step - loss: 0.1176 - acc: 0.9691 - val_loss: 0.6213 - val_acc: 0.8347\n",
      "Epoch 21/24\n",
      "50/50 [==============================] - 8s 157ms/step - loss: 0.6480 - acc: 0.8353\n",
      "548/548 [==============================] - 103s 188ms/step - loss: 0.1022 - acc: 0.9744 - val_loss: 0.6480 - val_acc: 0.8353\n",
      "Epoch 22/24\n",
      "50/50 [==============================] - 7s 149ms/step - loss: 0.6471 - acc: 0.8385\n",
      "548/548 [==============================] - 103s 188ms/step - loss: 0.0958 - acc: 0.9761 - val_loss: 0.6471 - val_acc: 0.8385\n",
      "Epoch 23/24\n",
      "50/50 [==============================] - 8s 155ms/step - loss: 0.6670 - acc: 0.8366\n",
      "548/548 [==============================] - 103s 188ms/step - loss: 0.0942 - acc: 0.9766 - val_loss: 0.6670 - val_acc: 0.8366\n",
      "Epoch 24/24\n",
      "50/50 [==============================] - 8s 155ms/step - loss: 0.7092 - acc: 0.8277\n",
      "548/548 [==============================] - 103s 188ms/step - loss: 0.0914 - acc: 0.9776 - val_loss: 0.7092 - val_acc: 0.8277\n"
     ]
    }
   ],
   "source": [
    "fit_stats = net.fit_generator(\n",
    "            train_generator,\n",
    "            epochs = 24,\n",
    "            steps_per_epoch=len(train)//batch_size,\n",
    "            validation_data=validation_generator,\n",
    "            workers=8,\n",
    "            use_multiprocessing=True,\n",
    "            )"
   ]
  },
  {
   "cell_type": "code",
   "execution_count": 75,
   "metadata": {},
   "outputs": [
    {
     "name": "stdout",
     "output_type": "stream",
     "text": [
      "Epoch 1/24\n",
      "50/50 [==============================] - 9s 178ms/step - loss: 0.5892 - acc: 0.8519\n",
      "548/548 [==============================] - 107s 196ms/step - loss: 0.0751 - acc: 0.9825 - val_loss: 0.5892 - val_acc: 0.8519\n",
      "Epoch 2/24\n",
      "50/50 [==============================] - 8s 152ms/step - loss: 0.5567 - acc: 0.8570\n",
      "548/548 [==============================] - 103s 188ms/step - loss: 0.0655 - acc: 0.9848 - val_loss: 0.5567 - val_acc: 0.8570\n",
      "Epoch 3/24\n",
      "50/50 [==============================] - 8s 154ms/step - loss: 0.5437 - acc: 0.8608\n",
      "548/548 [==============================] - 103s 188ms/step - loss: 0.0617 - acc: 0.9857 - val_loss: 0.5437 - val_acc: 0.8608\n",
      "Epoch 4/24\n",
      "50/50 [==============================] - 8s 159ms/step - loss: 0.5666 - acc: 0.8620\n",
      "548/548 [==============================] - 103s 189ms/step - loss: 0.0611 - acc: 0.9852 - val_loss: 0.5666 - val_acc: 0.8620\n",
      "Epoch 5/24\n",
      "50/50 [==============================] - 8s 156ms/step - loss: 0.5388 - acc: 0.8601\n",
      "548/548 [==============================] - 103s 188ms/step - loss: 0.0521 - acc: 0.9883 - val_loss: 0.5388 - val_acc: 0.8601\n",
      "Epoch 6/24\n",
      "50/50 [==============================] - 8s 157ms/step - loss: 0.5392 - acc: 0.8608\n",
      "548/548 [==============================] - 103s 188ms/step - loss: 0.0553 - acc: 0.9884 - val_loss: 0.5392 - val_acc: 0.8608\n",
      "Epoch 7/24\n",
      "50/50 [==============================] - 8s 158ms/step - loss: 0.5299 - acc: 0.8652\n",
      "548/548 [==============================] - 103s 189ms/step - loss: 0.0509 - acc: 0.9893 - val_loss: 0.5299 - val_acc: 0.8652\n",
      "Epoch 8/24\n",
      "50/50 [==============================] - 8s 154ms/step - loss: 0.5223 - acc: 0.8659\n",
      "548/548 [==============================] - 103s 188ms/step - loss: 0.0450 - acc: 0.9901 - val_loss: 0.5223 - val_acc: 0.8659\n",
      "Epoch 9/24\n",
      "50/50 [==============================] - 8s 155ms/step - loss: 0.5298 - acc: 0.8640\n",
      "548/548 [==============================] - 103s 188ms/step - loss: 0.0511 - acc: 0.9868 - val_loss: 0.5298 - val_acc: 0.8640\n",
      "Epoch 10/24\n",
      "50/50 [==============================] - 8s 154ms/step - loss: 0.5237 - acc: 0.8659\n",
      "548/548 [==============================] - 103s 188ms/step - loss: 0.0445 - acc: 0.9912 - val_loss: 0.5237 - val_acc: 0.8659\n",
      "Epoch 11/24\n",
      "50/50 [==============================] - 8s 154ms/step - loss: 0.5170 - acc: 0.8678\n",
      "548/548 [==============================] - 103s 188ms/step - loss: 0.0429 - acc: 0.9916 - val_loss: 0.5170 - val_acc: 0.8678\n",
      "Epoch 12/24\n",
      "50/50 [==============================] - 8s 156ms/step - loss: 0.5501 - acc: 0.8665\n",
      "548/548 [==============================] - 103s 188ms/step - loss: 0.0450 - acc: 0.9913 - val_loss: 0.5501 - val_acc: 0.8665\n",
      "Epoch 13/24\n",
      "50/50 [==============================] - 8s 158ms/step - loss: 0.5695 - acc: 0.8671\n",
      "548/548 [==============================] - 103s 189ms/step - loss: 0.0427 - acc: 0.9907 - val_loss: 0.5695 - val_acc: 0.8671\n",
      "Epoch 14/24\n",
      "50/50 [==============================] - 8s 156ms/step - loss: 0.5344 - acc: 0.8652\n",
      "548/548 [==============================] - 103s 188ms/step - loss: 0.0399 - acc: 0.9919 - val_loss: 0.5344 - val_acc: 0.8652\n",
      "Epoch 15/24\n",
      "50/50 [==============================] - 8s 159ms/step - loss: 0.5295 - acc: 0.8646\n",
      "548/548 [==============================] - 103s 188ms/step - loss: 0.0470 - acc: 0.9909 - val_loss: 0.5295 - val_acc: 0.8646\n",
      "Epoch 16/24\n",
      "50/50 [==============================] - 8s 155ms/step - loss: 0.5248 - acc: 0.8684\n",
      "548/548 [==============================] - 103s 188ms/step - loss: 0.0417 - acc: 0.9913 - val_loss: 0.5248 - val_acc: 0.8684\n",
      "Epoch 17/24\n",
      "50/50 [==============================] - 8s 150ms/step - loss: 0.5255 - acc: 0.8671\n",
      "548/548 [==============================] - 103s 188ms/step - loss: 0.0389 - acc: 0.9919 - val_loss: 0.5255 - val_acc: 0.8671\n",
      "Epoch 18/24\n",
      "50/50 [==============================] - 7s 149ms/step - loss: 0.5211 - acc: 0.8671\n",
      "548/548 [==============================] - 103s 188ms/step - loss: 0.0392 - acc: 0.9907 - val_loss: 0.5211 - val_acc: 0.8671\n",
      "Epoch 19/24\n",
      "50/50 [==============================] - 8s 157ms/step - loss: 0.5522 - acc: 0.8678\n",
      "548/548 [==============================] - 103s 188ms/step - loss: 0.0409 - acc: 0.9913 - val_loss: 0.5522 - val_acc: 0.8678\n",
      "Epoch 20/24\n",
      "50/50 [==============================] - 7s 149ms/step - loss: 0.5471 - acc: 0.8665\n",
      "548/548 [==============================] - 103s 188ms/step - loss: 0.0403 - acc: 0.9909 - val_loss: 0.5471 - val_acc: 0.8665\n",
      "Epoch 21/24\n",
      "50/50 [==============================] - 8s 151ms/step - loss: 0.5541 - acc: 0.8659\n",
      "548/548 [==============================] - 103s 188ms/step - loss: 0.0431 - acc: 0.9890 - val_loss: 0.5541 - val_acc: 0.8659\n",
      "Epoch 22/24\n",
      "50/50 [==============================] - 8s 157ms/step - loss: 0.5240 - acc: 0.8671\n",
      "548/548 [==============================] - 103s 188ms/step - loss: 0.0404 - acc: 0.9913 - val_loss: 0.5240 - val_acc: 0.8671\n",
      "Epoch 23/24\n",
      "50/50 [==============================] - 8s 154ms/step - loss: 0.5304 - acc: 0.8665\n",
      "548/548 [==============================] - 103s 188ms/step - loss: 0.0398 - acc: 0.9919 - val_loss: 0.5304 - val_acc: 0.8665\n",
      "Epoch 24/24\n",
      "50/50 [==============================] - 8s 152ms/step - loss: 0.5150 - acc: 0.8684\n",
      "548/548 [==============================] - 103s 188ms/step - loss: 0.0375 - acc: 0.9916 - val_loss: 0.5150 - val_acc: 0.8684\n"
     ]
    }
   ],
   "source": [
    "sgd = optimizers.SGD(lr=0.0001, decay=1e-6, momentum=0.9, nesterov=True)\n",
    "net.compile(optimizer=sgd, loss='categorical_crossentropy', metrics=['accuracy'])\n",
    "\n",
    "fit_stats = net.fit_generator(\n",
    "            train_generator,\n",
    "            epochs = 24,\n",
    "            steps_per_epoch=len(train)//batch_size,\n",
    "            validation_data=validation_generator,\n",
    "            workers=8,\n",
    "            use_multiprocessing=True,\n",
    "            )"
   ]
  },
  {
   "cell_type": "code",
   "execution_count": 76,
   "metadata": {},
   "outputs": [
    {
     "name": "stdout",
     "output_type": "stream",
     "text": [
      "Epoch 1/12\n",
      "50/50 [==============================] - 9s 185ms/step - loss: 0.5185 - acc: 0.8697\n",
      "548/548 [==============================] - 42s 76ms/step - loss: 0.0339 - acc: 0.9938 - val_loss: 0.5185 - val_acc: 0.8697\n",
      "Epoch 2/12\n",
      "50/50 [==============================] - 8s 162ms/step - loss: 0.5262 - acc: 0.8697\n",
      "548/548 [==============================] - 39s 72ms/step - loss: 0.0382 - acc: 0.9935 - val_loss: 0.5262 - val_acc: 0.8697\n",
      "Epoch 3/12\n",
      "50/50 [==============================] - 8s 157ms/step - loss: 0.5292 - acc: 0.8671\n",
      "548/548 [==============================] - 39s 72ms/step - loss: 0.0390 - acc: 0.9910 - val_loss: 0.5292 - val_acc: 0.8671\n",
      "Epoch 4/12\n",
      "50/50 [==============================] - 8s 158ms/step - loss: 0.5332 - acc: 0.8690\n",
      "548/548 [==============================] - 39s 72ms/step - loss: 0.0378 - acc: 0.9918 - val_loss: 0.5332 - val_acc: 0.8690\n",
      "Epoch 5/12\n",
      "50/50 [==============================] - 8s 156ms/step - loss: 0.5339 - acc: 0.8665\n",
      "548/548 [==============================] - 40s 72ms/step - loss: 0.0339 - acc: 0.9925 - val_loss: 0.5339 - val_acc: 0.8665\n",
      "Epoch 6/12\n",
      "50/50 [==============================] - 8s 151ms/step - loss: 0.5175 - acc: 0.8684\n",
      "548/548 [==============================] - 39s 72ms/step - loss: 0.0353 - acc: 0.9930 - val_loss: 0.5175 - val_acc: 0.8684\n",
      "Epoch 7/12\n",
      "50/50 [==============================] - 8s 159ms/step - loss: 0.5241 - acc: 0.8671\n",
      "548/548 [==============================] - 39s 71ms/step - loss: 0.0400 - acc: 0.9918 - val_loss: 0.5241 - val_acc: 0.8671\n",
      "Epoch 8/12\n",
      "50/50 [==============================] - 8s 158ms/step - loss: 0.5227 - acc: 0.8690\n",
      "548/548 [==============================] - 40s 73ms/step - loss: 0.0353 - acc: 0.9918 - val_loss: 0.5227 - val_acc: 0.8690\n",
      "Epoch 9/12\n",
      "50/50 [==============================] - 8s 157ms/step - loss: 0.5545 - acc: 0.8684\n",
      "548/548 [==============================] - 39s 72ms/step - loss: 0.0416 - acc: 0.9906 - val_loss: 0.5545 - val_acc: 0.8684\n",
      "Epoch 10/12\n",
      "50/50 [==============================] - 8s 155ms/step - loss: 0.5143 - acc: 0.8709\n",
      "548/548 [==============================] - 39s 72ms/step - loss: 0.0343 - acc: 0.9938 - val_loss: 0.5143 - val_acc: 0.8709\n",
      "Epoch 11/12\n",
      "50/50 [==============================] - 8s 156ms/step - loss: 0.5248 - acc: 0.8652\n",
      "548/548 [==============================] - 39s 72ms/step - loss: 0.0367 - acc: 0.9918 - val_loss: 0.5248 - val_acc: 0.8652\n",
      "Epoch 12/12\n",
      "50/50 [==============================] - 8s 151ms/step - loss: 0.5240 - acc: 0.8716\n",
      "548/548 [==============================] - 40s 72ms/step - loss: 0.0363 - acc: 0.9927 - val_loss: 0.5240 - val_acc: 0.8716\n"
     ]
    }
   ],
   "source": [
    "net.layers[0].trainable = False\n",
    "sgd = optimizers.SGD(lr=0.0001, decay=1e-6, momentum=0.9, nesterov=True)\n",
    "net.compile(optimizer=sgd, loss='categorical_crossentropy', metrics=['accuracy'])\n",
    "\n",
    "fit_stats = net.fit_generator(\n",
    "            train_generator,\n",
    "            epochs = 12,\n",
    "            steps_per_epoch=len(train)//batch_size,\n",
    "            validation_data=validation_generator,\n",
    "            workers=8,\n",
    "            use_multiprocessing=True,\n",
    "            )"
   ]
  },
  {
   "cell_type": "code",
   "execution_count": 77,
   "metadata": {},
   "outputs": [
    {
     "name": "stdout",
     "output_type": "stream",
     "text": [
      "Epoch 1/20\n",
      "50/50 [==============================] - 9s 174ms/step - loss: 0.5180 - acc: 0.8690\n",
      "548/548 [==============================] - 108s 196ms/step - loss: 0.0365 - acc: 0.9935 - val_loss: 0.5180 - val_acc: 0.8690\n",
      "Epoch 2/20\n",
      "50/50 [==============================] - 8s 152ms/step - loss: 0.5182 - acc: 0.8690\n",
      "548/548 [==============================] - 103s 189ms/step - loss: 0.0380 - acc: 0.9912 - val_loss: 0.5182 - val_acc: 0.8690\n",
      "Epoch 3/20\n",
      "50/50 [==============================] - 8s 158ms/step - loss: 0.5204 - acc: 0.8678\n",
      "548/548 [==============================] - 103s 189ms/step - loss: 0.0355 - acc: 0.9915 - val_loss: 0.5204 - val_acc: 0.8678\n",
      "Epoch 4/20\n",
      "50/50 [==============================] - 8s 152ms/step - loss: 0.5278 - acc: 0.8703\n",
      "548/548 [==============================] - 103s 188ms/step - loss: 0.0333 - acc: 0.9933 - val_loss: 0.5278 - val_acc: 0.8703\n",
      "Epoch 5/20\n",
      "50/50 [==============================] - 8s 153ms/step - loss: 0.5296 - acc: 0.8684\n",
      "548/548 [==============================] - 103s 189ms/step - loss: 0.0380 - acc: 0.9919 - val_loss: 0.5296 - val_acc: 0.8684\n",
      "Epoch 6/20\n",
      "50/50 [==============================] - 8s 153ms/step - loss: 0.5322 - acc: 0.8678\n",
      "548/548 [==============================] - 103s 188ms/step - loss: 0.0350 - acc: 0.9928 - val_loss: 0.5322 - val_acc: 0.8678\n",
      "Epoch 7/20\n",
      "50/50 [==============================] - 8s 158ms/step - loss: 0.5302 - acc: 0.8716\n",
      "548/548 [==============================] - 103s 189ms/step - loss: 0.0360 - acc: 0.9935 - val_loss: 0.5302 - val_acc: 0.8716\n",
      "Epoch 8/20\n",
      "50/50 [==============================] - 8s 155ms/step - loss: 0.5309 - acc: 0.8709\n",
      "548/548 [==============================] - 103s 188ms/step - loss: 0.0359 - acc: 0.9939 - val_loss: 0.5309 - val_acc: 0.8709\n",
      "Epoch 9/20\n",
      "50/50 [==============================] - 8s 153ms/step - loss: 0.5291 - acc: 0.8684\n",
      "548/548 [==============================] - 103s 188ms/step - loss: 0.0328 - acc: 0.9928 - val_loss: 0.5291 - val_acc: 0.8684\n",
      "Epoch 10/20\n",
      "50/50 [==============================] - 8s 151ms/step - loss: 0.5296 - acc: 0.8690\n",
      "548/548 [==============================] - 103s 189ms/step - loss: 0.0354 - acc: 0.9939 - val_loss: 0.5296 - val_acc: 0.8690\n",
      "Epoch 11/20\n",
      "50/50 [==============================] - 8s 154ms/step - loss: 0.5296 - acc: 0.8697\n",
      "548/548 [==============================] - 103s 188ms/step - loss: 0.0371 - acc: 0.9941 - val_loss: 0.5296 - val_acc: 0.8697\n",
      "Epoch 12/20\n",
      "50/50 [==============================] - 8s 150ms/step - loss: 0.5253 - acc: 0.8690\n",
      "548/548 [==============================] - 103s 188ms/step - loss: 0.0344 - acc: 0.9924 - val_loss: 0.5253 - val_acc: 0.8690\n",
      "Epoch 13/20\n",
      "50/50 [==============================] - 8s 155ms/step - loss: 0.5266 - acc: 0.8697\n",
      "548/548 [==============================] - 103s 188ms/step - loss: 0.0352 - acc: 0.9928 - val_loss: 0.5266 - val_acc: 0.8697\n",
      "Epoch 14/20\n",
      "50/50 [==============================] - 8s 151ms/step - loss: 0.5195 - acc: 0.8690\n",
      "548/548 [==============================] - 103s 188ms/step - loss: 0.0365 - acc: 0.9933 - val_loss: 0.5195 - val_acc: 0.8690\n",
      "Epoch 15/20\n",
      "50/50 [==============================] - 8s 151ms/step - loss: 0.5227 - acc: 0.8697\n",
      "548/548 [==============================] - 103s 188ms/step - loss: 0.0381 - acc: 0.9919 - val_loss: 0.5227 - val_acc: 0.8697\n",
      "Epoch 16/20\n",
      "50/50 [==============================] - 8s 156ms/step - loss: 0.5182 - acc: 0.8671\n",
      "548/548 [==============================] - 103s 189ms/step - loss: 0.0366 - acc: 0.9921 - val_loss: 0.5182 - val_acc: 0.8671\n",
      "Epoch 17/20\n",
      "50/50 [==============================] - 8s 157ms/step - loss: 0.5209 - acc: 0.8729\n",
      "548/548 [==============================] - 104s 189ms/step - loss: 0.0370 - acc: 0.9921 - val_loss: 0.5209 - val_acc: 0.8729\n",
      "Epoch 18/20\n",
      "50/50 [==============================] - 8s 152ms/step - loss: 0.5485 - acc: 0.8716\n",
      "548/548 [==============================] - 103s 188ms/step - loss: 0.0362 - acc: 0.9922 - val_loss: 0.5485 - val_acc: 0.8716\n",
      "Epoch 19/20\n",
      "50/50 [==============================] - 8s 156ms/step - loss: 0.5222 - acc: 0.8678\n",
      "548/548 [==============================] - 103s 189ms/step - loss: 0.0318 - acc: 0.9936 - val_loss: 0.5222 - val_acc: 0.8678\n",
      "Epoch 20/20\n",
      "50/50 [==============================] - 8s 154ms/step - loss: 0.5233 - acc: 0.8697\n",
      "548/548 [==============================] - 103s 189ms/step - loss: 0.0360 - acc: 0.9919 - val_loss: 0.5233 - val_acc: 0.8697\n"
     ]
    }
   ],
   "source": [
    "net.layers[0].trainable = True\n",
    "sgd = optimizers.SGD(lr=0.00001, decay=1e-6, momentum=0.9, nesterov=True)\n",
    "net.compile(optimizer=sgd, loss='categorical_crossentropy', metrics=['accuracy'])\n",
    "\n",
    "fit_stats = net.fit_generator(\n",
    "            train_generator,\n",
    "            epochs = 20,\n",
    "            steps_per_epoch=len(train)//batch_size,\n",
    "            validation_data=validation_generator,\n",
    "            workers=8,\n",
    "            use_multiprocessing=True,\n",
    "            )"
   ]
  },
  {
   "cell_type": "code",
   "execution_count": null,
   "metadata": {},
   "outputs": [],
   "source": []
  },
  {
   "cell_type": "code",
   "execution_count": null,
   "metadata": {},
   "outputs": [],
   "source": []
  },
  {
   "cell_type": "code",
   "execution_count": null,
   "metadata": {},
   "outputs": [],
   "source": []
  }
 ],
 "metadata": {
  "kernelspec": {
   "display_name": "Python 3",
   "language": "python",
   "name": "python3"
  },
  "language_info": {
   "codemirror_mode": {
    "name": "ipython",
    "version": 3
   },
   "file_extension": ".py",
   "mimetype": "text/x-python",
   "name": "python",
   "nbconvert_exporter": "python",
   "pygments_lexer": "ipython3",
   "version": "3.7.3"
  }
 },
 "nbformat": 4,
 "nbformat_minor": 2
}
