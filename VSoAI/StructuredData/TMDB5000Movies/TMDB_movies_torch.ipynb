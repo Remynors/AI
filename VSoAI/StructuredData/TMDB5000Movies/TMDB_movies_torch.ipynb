{
 "cells": [
  {
   "cell_type": "code",
   "execution_count": null,
   "metadata": {
    "scrolled": true
   },
   "outputs": [],
   "source": [
    "import torch\n",
    "print(torch.__version__)"
   ]
  },
  {
   "cell_type": "code",
   "execution_count": null,
   "metadata": {},
   "outputs": [],
   "source": [
    "import torchvision\n",
    "print(torchvision.__version__)"
   ]
  },
  {
   "cell_type": "code",
   "execution_count": null,
   "metadata": {
    "scrolled": true
   },
   "outputs": [],
   "source": [
    "if torch.cuda.is_available():\n",
    "    devID=torch.cuda.current_device()\n",
    "    devID, torch.cuda.get_device_name(devID)\n",
    "else:\n",
    "    print(\"Torch Cuda not avaialbe\")"
   ]
  },
  {
   "cell_type": "code",
   "execution_count": null,
   "metadata": {},
   "outputs": [],
   "source": [
    "PATH ='data/'\n",
    "!ls data"
   ]
  },
  {
   "cell_type": "code",
   "execution_count": null,
   "metadata": {},
   "outputs": [],
   "source": [
    "import pandas as pd \n",
    "import numpy as np \n",
    "import json\n",
    "\n",
    "#movies = pd.read_csv(PATH+'tmdb_5000_movies.csv')\n",
    "#credits = pd.read_csv(PATH+'tmdb_5000_credits.csv')"
   ]
  },
  {
   "cell_type": "code",
   "execution_count": null,
   "metadata": {},
   "outputs": [],
   "source": [
    "def load_tmdb_movies(path):\n",
    "    df = pd.read_csv(path)\n",
    "    df['release_date'] = pd.to_datetime(df['release_date']).apply(lambda x: x.date())\n",
    "    json_columns = ['genres', 'keywords', 'production_countries', 'production_companies', 'spoken_languages']\n",
    "    for column in json_columns:\n",
    "        df[column] = df[column].apply(json.loads)  #needed to make json objects lists rahter than strings\n",
    "    return df\n",
    "\n",
    "def load_tmdb_credits(path):\n",
    "    df = pd.read_csv(path)\n",
    "    json_columns = ['cast', 'crew']\n",
    "    for column in json_columns:\n",
    "        df[column] = df[column].apply(json.loads)\n",
    "    return df"
   ]
  },
  {
   "cell_type": "code",
   "execution_count": null,
   "metadata": {},
   "outputs": [],
   "source": [
    "movies = load_tmdb_movies(PATH+'tmdb_5000_movies.csv')\n",
    "credits = load_tmdb_credits(PATH+'tmdb_5000_credits.csv')"
   ]
  },
  {
   "cell_type": "code",
   "execution_count": null,
   "metadata": {},
   "outputs": [],
   "source": [
    "movies.head().T"
   ]
  },
  {
   "cell_type": "code",
   "execution_count": null,
   "metadata": {},
   "outputs": [],
   "source": [
    "credits.head()"
   ]
  },
  {
   "cell_type": "code",
   "execution_count": null,
   "metadata": {},
   "outputs": [],
   "source": [
    "credits.columns = ['id','title2','cast','crew']\n",
    "credits.head()"
   ]
  },
  {
   "cell_type": "code",
   "execution_count": null,
   "metadata": {},
   "outputs": [],
   "source": [
    "df = movies.merge(credits,how='inner',on='id')\n",
    "df.head()"
   ]
  },
  {
   "cell_type": "code",
   "execution_count": null,
   "metadata": {},
   "outputs": [],
   "source": [
    "df.info()"
   ]
  },
  {
   "cell_type": "code",
   "execution_count": null,
   "metadata": {},
   "outputs": [],
   "source": [
    "df.shape"
   ]
  },
  {
   "cell_type": "code",
   "execution_count": null,
   "metadata": {},
   "outputs": [],
   "source": [
    "df.describe()"
   ]
  },
  {
   "cell_type": "code",
   "execution_count": null,
   "metadata": {},
   "outputs": [],
   "source": [
    "def splitJsonToList(obj, column):\n",
    "    fullDict = []\n",
    "    for i in obj[column]:\n",
    "    #    dictLine = json.loads(i)\n",
    "        localDict = []\n",
    "        for items in i:\n",
    "            localDict.append(items['name'])\n",
    "    #    print(localDict)\n",
    "        fullDict.append(localDict)\n",
    "    return fullDict"
   ]
  },
  {
   "cell_type": "code",
   "execution_count": null,
   "metadata": {},
   "outputs": [],
   "source": [
    "# this would run if we didn't load csv files with json.load \n",
    "# fullDict = []\n",
    "# for i in movies['genres']:\n",
    "#     dictLine = json.loads(i)\n",
    "#     localDict = []\n",
    "#     for items in dictLine:\n",
    "#         localDict.append(items['name'])\n",
    "#     print(localDict)\n",
    "#     fullDict.append(localDict)"
   ]
  },
  {
   "cell_type": "code",
   "execution_count": null,
   "metadata": {},
   "outputs": [],
   "source": [
    "df['genres'][0]"
   ]
  },
  {
   "cell_type": "code",
   "execution_count": null,
   "metadata": {},
   "outputs": [],
   "source": [
    "df['keywords'][0]"
   ]
  },
  {
   "cell_type": "code",
   "execution_count": null,
   "metadata": {},
   "outputs": [],
   "source": [
    "df['production_companies'][0]"
   ]
  },
  {
   "cell_type": "code",
   "execution_count": null,
   "metadata": {
    "scrolled": true
   },
   "outputs": [],
   "source": [
    "df['production_countries'][0]"
   ]
  },
  {
   "cell_type": "code",
   "execution_count": null,
   "metadata": {},
   "outputs": [],
   "source": [
    "df['spoken_languages'][0]"
   ]
  },
  {
   "cell_type": "code",
   "execution_count": null,
   "metadata": {},
   "outputs": [],
   "source": [
    "df['cast'][0]"
   ]
  },
  {
   "cell_type": "code",
   "execution_count": null,
   "metadata": {},
   "outputs": [],
   "source": [
    "df['crew'][0]"
   ]
  },
  {
   "cell_type": "code",
   "execution_count": null,
   "metadata": {},
   "outputs": [],
   "source": [
    "df2 = df.copy()"
   ]
  },
  {
   "cell_type": "code",
   "execution_count": null,
   "metadata": {},
   "outputs": [],
   "source": [
    "features = ['genres', 'cast', 'crew', 'keywords','production_companies', 'production_countries', 'spoken_languages']\n",
    "for column in features:\n",
    "    df2[column] = splitJsonToList(df2, column)"
   ]
  },
  {
   "cell_type": "code",
   "execution_count": null,
   "metadata": {},
   "outputs": [],
   "source": [
    "#movies2['genres'] = splitJsonToList(movies2, 'genres')\n",
    "#['id', 'budget', 'original_title', 'popularity', 'vote_average', 'vote_count']"
   ]
  },
  {
   "cell_type": "code",
   "execution_count": null,
   "metadata": {},
   "outputs": [],
   "source": [
    "df2.head()"
   ]
  },
  {
   "cell_type": "code",
   "execution_count": null,
   "metadata": {},
   "outputs": [],
   "source": [
    "n_movies=int(df2.id.nunique())\n",
    "n_movies"
   ]
  },
  {
   "cell_type": "code",
   "execution_count": null,
   "metadata": {},
   "outputs": [],
   "source": [
    "df2.info()"
   ]
  },
  {
   "cell_type": "code",
   "execution_count": 2,
   "metadata": {},
   "outputs": [],
   "source": [
    "#from sklearn.model_selection import train_test_split\n",
    "#train, test = train_test_split(df2, test_size=0.2)\n",
    "# print(train.shape,test.shape)"
   ]
  },
  {
   "cell_type": "code",
   "execution_count": 3,
   "metadata": {},
   "outputs": [
    {
     "ename": "NameError",
     "evalue": "name 'df' is not defined",
     "output_type": "error",
     "traceback": [
      "\u001b[0;31m---------------------------------------------------------------------------\u001b[0m",
      "\u001b[0;31mNameError\u001b[0m                                 Traceback (most recent call last)",
      "\u001b[0;32m<ipython-input-3-75f06992582a>\u001b[0m in \u001b[0;36m<module>\u001b[0;34m\u001b[0m\n\u001b[1;32m      1\u001b[0m \u001b[0;31m# select only few relative columns\u001b[0m\u001b[0;34m\u001b[0m\u001b[0;34m\u001b[0m\u001b[0;34m\u001b[0m\u001b[0m\n\u001b[0;32m----> 2\u001b[0;31m \u001b[0mdf_small\u001b[0m \u001b[0;34m=\u001b[0m \u001b[0mdf\u001b[0m\u001b[0;34m[\u001b[0m\u001b[0;34m[\u001b[0m\u001b[0;34m'id'\u001b[0m\u001b[0;34m,\u001b[0m \u001b[0;34m'budget'\u001b[0m\u001b[0;34m,\u001b[0m \u001b[0;34m'popularity'\u001b[0m\u001b[0;34m,\u001b[0m \u001b[0;34m'vote_average'\u001b[0m\u001b[0;34m,\u001b[0m \u001b[0;34m'vote_count'\u001b[0m\u001b[0;34m]\u001b[0m\u001b[0;34m]\u001b[0m\u001b[0;34m.\u001b[0m\u001b[0mcopy\u001b[0m\u001b[0;34m(\u001b[0m\u001b[0;34m)\u001b[0m\u001b[0;34m\u001b[0m\u001b[0;34m\u001b[0m\u001b[0m\n\u001b[0m",
      "\u001b[0;31mNameError\u001b[0m: name 'df' is not defined"
     ]
    }
   ],
   "source": [
    "# select only few relative columns\n",
    "df_small = df[['id', 'budget', 'popularity', 'vote_average', 'vote_count']].copy()"
   ]
  },
  {
   "cell_type": "code",
   "execution_count": null,
   "metadata": {
    "scrolled": true
   },
   "outputs": [],
   "source": [
    "df_small.head()"
   ]
  },
  {
   "cell_type": "code",
   "execution_count": null,
   "metadata": {},
   "outputs": [],
   "source": [
    "# check cardinality of some variables\n",
    "df_small['vote_count'].value_counts()"
   ]
  },
  {
   "cell_type": "code",
   "execution_count": null,
   "metadata": {},
   "outputs": [],
   "source": [
    "# we don't have to dead with nan filling, since all values valid\n",
    "df_small.isnull().values.any()"
   ]
  },
  {
   "cell_type": "code",
   "execution_count": null,
   "metadata": {},
   "outputs": [],
   "source": [
    "#df_small.T\n",
    "df_small.head()"
   ]
  },
  {
   "cell_type": "code",
   "execution_count": null,
   "metadata": {},
   "outputs": [],
   "source": [
    "# check cardinality of some variables\n",
    "df_small['budget'].value_counts()"
   ]
  },
  {
   "cell_type": "markdown",
   "metadata": {},
   "source": [
    "We need to instantiate an object of the TabularData class we created earlier. But before that, we need to label encode the categorical features. For this, we will be using sklearn.preprocessing.LabelEncoder. "
   ]
  },
  {
   "cell_type": "code",
   "execution_count": null,
   "metadata": {},
   "outputs": [],
   "source": [
    "categorical_features = [\"id\", \"vote_average\", \"vote_count\", \"budget\"]\n",
    "output_feature = \"popularity\""
   ]
  },
  {
   "cell_type": "code",
   "execution_count": null,
   "metadata": {},
   "outputs": [],
   "source": [
    "from sklearn.preprocessing import LabelEncoder\n",
    "\n",
    "label_encoders = {}\n",
    "for cat_col in categorical_features:\n",
    "        label_encoders[cat_col] = LabelEncoder()\n",
    "        df_small[cat_col] = label_encoders[cat_col].fit_transform(df_small[cat_col])"
   ]
  },
  {
   "cell_type": "code",
   "execution_count": null,
   "metadata": {
    "scrolled": true
   },
   "outputs": [],
   "source": [
    "df_small.head()"
   ]
  },
  {
   "cell_type": "code",
   "execution_count": null,
   "metadata": {
    "scrolled": true
   },
   "outputs": [],
   "source": [
    "df_small.info()"
   ]
  },
  {
   "cell_type": "code",
   "execution_count": null,
   "metadata": {},
   "outputs": [],
   "source": [
    "# splitting dataset into train and test\n",
    "from sklearn.model_selection import train_test_split as cv\n",
    "df_small, df_small_test = cv.train_test_split(df_small, test_size=0.25)"
   ]
  },
  {
   "cell_type": "code",
   "execution_count": 41,
   "metadata": {},
   "outputs": [],
   "source": [
    "from torch.utils.data import Dataset, DataLoader\n",
    "\n",
    "\n",
    "class TabularDataset(Dataset):\n",
    "  def __init__(self, data, cat_cols=None, output_col=None):\n",
    "    \"\"\"\n",
    "    Characterizes a Dataset for PyTorch\n",
    "\n",
    "    Parameters\n",
    "    ----------\n",
    "\n",
    "    data: pandas data frame\n",
    "      The data frame object for the input data. It must\n",
    "      contain all the continuous, categorical and the\n",
    "      output columns to be used.\n",
    "\n",
    "    cat_cols: List of strings\n",
    "      The names of the categorical columns in the data.\n",
    "      These columns will be passed through the embedding\n",
    "      layers in the model. These columns must be\n",
    "      label encoded beforehand. \n",
    "\n",
    "    output_col: string\n",
    "      The name of the output variable column in the data\n",
    "      provided.\n",
    "    \"\"\"\n",
    "\n",
    "    self.n = data.shape[0]\n",
    "\n",
    "    if output_col:\n",
    "      self.y = data[output_col].astype(np.float32).values.reshape(-1, 1)\n",
    "    else:\n",
    "      self.y =  np.zeros((self.n, 1))\n",
    "\n",
    "    self.cat_cols = cat_cols if cat_cols else []\n",
    "    self.cont_cols = [col for col in data.columns\n",
    "                      if col not in self.cat_cols + [output_col]]\n",
    "\n",
    "    if self.cont_cols:\n",
    "      self.cont_X = data[self.cont_cols].astype(np.float32).values\n",
    "    else:\n",
    "      self.cont_X = np.zeros((self.n, 1))\n",
    "\n",
    "    if self.cat_cols:\n",
    "      self.cat_X = data[cat_cols].astype(np.int64).values\n",
    "    else:\n",
    "      self.cat_X =  np.zeros((self.n, 1))\n",
    "\n",
    "  def __len__(self):\n",
    "    \"\"\"\n",
    "    Denotes the total number of samples.\n",
    "    \"\"\"\n",
    "    return self.n\n",
    "\n",
    "  def __getitem__(self, idx):\n",
    "    \"\"\"\n",
    "    Generates one sample of data.\n",
    "    \"\"\"\n",
    "    return [self.y[idx], self.cont_X[idx], self.cat_X[idx]]"
   ]
  },
  {
   "cell_type": "markdown",
   "metadata": {},
   "source": [
    "Let’s instantiate an object of the TabularDataset class. "
   ]
  },
  {
   "cell_type": "code",
   "execution_count": 42,
   "metadata": {},
   "outputs": [],
   "source": [
    "# Pytorch abstract class representing a Dataset.\n",
    "#All other datasets should subclass it. All subclasses should override\n",
    "#``__len__``, that provides the size of the dataset, and ``__getitem__``,\n",
    "\n",
    "dataset = TabularDataset(data=df_small, cat_cols=categorical_features,\n",
    "                             output_col=output_feature)"
   ]
  },
  {
   "cell_type": "code",
   "execution_count": 43,
   "metadata": {},
   "outputs": [
    {
     "data": {
      "text/plain": [
       "(['id', 'vote_average', 'vote_count', 'budget'],\n",
       " array([[2702,   54, 1606,  426],\n",
       "        [ 131,   51, 1496,  434],\n",
       "        [4313,   45, 1492,  427],\n",
       "        ...,\n",
       "        [4383,   52,    6,    0],\n",
       "        [4082,   39,    7,    0],\n",
       "        [2916,   45,   16,    0]]),\n",
       " [],\n",
       " array([[0.],\n",
       "        [0.],\n",
       "        [0.],\n",
       "        ...,\n",
       "        [0.],\n",
       "        [0.],\n",
       "        [0.]]),\n",
       " array([[150.43758 ],\n",
       "        [139.08261 ],\n",
       "        [107.376785],\n",
       "        ...,\n",
       "        [  1.444476],\n",
       "        [  0.857008],\n",
       "        [  1.929883]], dtype=float32),\n",
       " 4803)"
      ]
     },
     "execution_count": 43,
     "metadata": {},
     "output_type": "execute_result"
    }
   ],
   "source": [
    "dataset.cat_cols,dataset.cat_X, dataset.cont_cols, dataset.cont_X, dataset.y, dataset.n"
   ]
  },
  {
   "cell_type": "code",
   "execution_count": 44,
   "metadata": {
    "scrolled": true
   },
   "outputs": [
    {
     "data": {
      "text/plain": [
       "0"
      ]
     },
     "execution_count": 44,
     "metadata": {},
     "output_type": "execute_result"
    }
   ],
   "source": [
    "len(dataset.cont_cols)"
   ]
  },
  {
   "cell_type": "code",
   "execution_count": 45,
   "metadata": {},
   "outputs": [
    {
     "data": {
      "text/plain": [
       "4"
      ]
     },
     "execution_count": 45,
     "metadata": {},
     "output_type": "execute_result"
    }
   ],
   "source": [
    "len(dataset.cat_cols)"
   ]
  },
  {
   "cell_type": "markdown",
   "metadata": {},
   "source": [
    "In order to run the training loop, we need to create a torch.util.data.Dataloader object. It serves the following purpose –\n",
    " -   creates batches from the dataset\n",
    " -   shuffles the data\n",
    " -   loads the data in parallel"
   ]
  },
  {
   "cell_type": "code",
   "execution_count": 46,
   "metadata": {},
   "outputs": [],
   "source": [
    "#??DataLoader\n",
    "#    Data loader. Combines a dataset and a sampler, and provides\n",
    "#    single- or multi-process iterators over the dataset."
   ]
  },
  {
   "cell_type": "code",
   "execution_count": 47,
   "metadata": {},
   "outputs": [],
   "source": [
    "batchsize = 64\n",
    "dataloader = DataLoader(dataset, batchsize, shuffle=True, num_workers=1)"
   ]
  },
  {
   "cell_type": "code",
   "execution_count": 48,
   "metadata": {
    "scrolled": true
   },
   "outputs": [
    {
     "data": {
      "text/plain": [
       "64"
      ]
     },
     "execution_count": 48,
     "metadata": {},
     "output_type": "execute_result"
    }
   ],
   "source": [
    "dataloader.batch_size"
   ]
  },
  {
   "cell_type": "code",
   "execution_count": 86,
   "metadata": {},
   "outputs": [
    {
     "data": {
      "text/plain": [
       "list"
      ]
     },
     "execution_count": 86,
     "metadata": {},
     "output_type": "execute_result"
    }
   ],
   "source": [
    "iter(dataloader).next()"
   ]
  },
  {
   "attachments": {
    "image.png": {
     "image/png": "[encoded data removed]"
    }
   },
   "cell_type": "markdown",
   "metadata": {},
   "source": [
    "![image.png](attachment:image.png)"
   ]
  },
  {
   "cell_type": "code",
   "execution_count": 49,
   "metadata": {},
   "outputs": [],
   "source": [
    "import torch\n",
    "import torch.nn as nn\n",
    "import torch.nn.functional as F\n",
    "\n",
    "\n",
    "class FeedForwardNN(nn.Module):\n",
    "\n",
    "  def __init__(self, emb_dims, no_of_cont, lin_layer_sizes,\n",
    "               output_size, emb_dropout, lin_layer_dropouts):\n",
    "\n",
    "    \"\"\"\n",
    "    Parameters\n",
    "    ----------\n",
    "\n",
    "    emb_dims: List of two element tuples\n",
    "      This list will contain a two element tuple for each\n",
    "      categorical feature. The first element of a tuple will\n",
    "      denote the number of unique values of the categorical\n",
    "      feature. The second element will denote the embedding\n",
    "      dimension to be used for that feature.\n",
    "\n",
    "    no_of_cont: Integer\n",
    "      The number of continuous features in the data.\n",
    "\n",
    "    lin_layer_sizes: List of integers.\n",
    "      The size of each linear layer. The length will be equal\n",
    "      to the total number\n",
    "      of linear layers in the network.\n",
    "\n",
    "    output_size: Integer\n",
    "      The size of the final output.\n",
    "\n",
    "    emb_dropout: Float\n",
    "      The dropout to be used after the embedding layers.\n",
    "\n",
    "    lin_layer_dropouts: List of floats\n",
    "      The dropouts to be used after each linear layer.\n",
    "    \"\"\"\n",
    "\n",
    "    super().__init__()\n",
    "\n",
    "    # Embedding layers\n",
    "    self.emb_layers = nn.ModuleList([nn.Embedding(x, y)\n",
    "                                     for x, y in emb_dims])\n",
    "\n",
    "    no_of_embs = sum([y for x, y in emb_dims])\n",
    "    self.no_of_embs = no_of_embs\n",
    "    self.no_of_cont = no_of_cont\n",
    "\n",
    "    # Linear Layers\n",
    "    first_lin_layer = nn.Linear(self.no_of_embs + self.no_of_cont,\n",
    "                                lin_layer_sizes[0])\n",
    "\n",
    "    self.lin_layers =\\\n",
    "     nn.ModuleList([first_lin_layer] +\\\n",
    "          [nn.Linear(lin_layer_sizes[i], lin_layer_sizes[i + 1])\n",
    "           for i in range(len(lin_layer_sizes) - 1)])\n",
    "    \n",
    "    for lin_layer in self.lin_layers:\n",
    "      nn.init.kaiming_normal_(lin_layer.weight.data)\n",
    "\n",
    "    # Output Layer\n",
    "    self.output_layer = nn.Linear(lin_layer_sizes[-1],\n",
    "                                  output_size)\n",
    "    nn.init.kaiming_normal_(self.output_layer.weight.data)\n",
    "\n",
    "    # Batch Norm Layers\n",
    "    self.first_bn_layer = nn.BatchNorm1d(self.no_of_cont)\n",
    "    self.bn_layers = nn.ModuleList([nn.BatchNorm1d(size)\n",
    "                                    for size in lin_layer_sizes])\n",
    "\n",
    "    # Dropout Layers\n",
    "    self.emb_dropout_layer = nn.Dropout(emb_dropout)\n",
    "    self.droput_layers = nn.ModuleList([nn.Dropout(size)\n",
    "                                  for size in lin_layer_dropouts])\n",
    "\n",
    "  def forward(self, cont_data, cat_data):\n",
    "\n",
    "    if self.no_of_embs != 0:\n",
    "      x = [emb_layer(cat_data[:, i])\n",
    "           for i,emb_layer in enumerate(self.emb_layers)]\n",
    "      x = torch.cat(x, 1)\n",
    "      x = self.emb_dropout_layer(x)\n",
    "\n",
    "    if self.no_of_cont != 0:\n",
    "      normalized_cont_data = self.first_bn_layer(cont_data)\n",
    "\n",
    "      if self.no_of_embs != 0:\n",
    "        x = torch.cat([x, normalized_cont_data], 1) \n",
    "      else:\n",
    "        x = normalized_cont_data\n",
    "\n",
    "    for lin_layer, dropout_layer, bn_layer in\\\n",
    "        zip(self.lin_layers, self.droput_layers, self.bn_layers):\n",
    "      \n",
    "      x = F.relu(lin_layer(x))\n",
    "      x = bn_layer(x)\n",
    "      x = dropout_layer(x)\n",
    "\n",
    "    x = self.output_layer(x)\n",
    "\n",
    "    return x"
   ]
  },
  {
   "cell_type": "code",
   "execution_count": null,
   "metadata": {},
   "outputs": [],
   "source": [
    "''' Example Neural Net for MovieLens dataset (Users, Movies)\n",
    "\n",
    "lass EmbeddingNet(nn.Module):\n",
    "    def __init__(self, n_users, n_movies, nh=10, p1=0.05, p2=0.5):\n",
    "        super().__init__()\n",
    "        (self.u, self.m) = [get_emb(*o) for o in [\n",
    "            (n_users, n_factors), (n_movies, n_factors)]]\n",
    "        self.lin1 = nn.Linear(n_factors*2, nh)\n",
    "        self.lin2 = nn.Linear(nh, 1)\n",
    "        self.drop1 = nn.Dropout(p1)\n",
    "        self.drop2 = nn.Dropout(p2)\n",
    "        \n",
    "    def forward(self, cats, conts):\n",
    "        users,movies = cats[:,0],cats[:,1]\n",
    "        x = self.drop1(torch.cat([self.u(users),self.m(movies)], dim=1))\n",
    "        x = self.drop2(F.relu(self.lin1(x)))\n",
    "        return F.sigmoid(self.lin2(x)) * (max_rating-min_rating+1) + min_rating-0.5\n",
    "'''"
   ]
  },
  {
   "cell_type": "markdown",
   "metadata": {},
   "source": [
    "Now that we have created the basic data structure to run the training loop, we need to instantiate a model object of the FeedForwadNN class created earlier. This class requires a list of tuples, where each tuple represents a pair of total and the embedding dimension of a categorical variable"
   ]
  },
  {
   "cell_type": "code",
   "execution_count": 50,
   "metadata": {},
   "outputs": [
    {
     "data": {
      "text/plain": [
       "[4803, 71, 1609, 436]"
      ]
     },
     "execution_count": 50,
     "metadata": {},
     "output_type": "execute_result"
    }
   ],
   "source": [
    "cat_dims = [int(df_small[col].nunique()) for col in categorical_features]\n",
    "cat_dims"
   ]
  },
  {
   "cell_type": "code",
   "execution_count": 51,
   "metadata": {},
   "outputs": [
    {
     "data": {
      "text/plain": [
       "[(4803, 50), (71, 36), (1609, 50), (436, 50)]"
      ]
     },
     "execution_count": 51,
     "metadata": {},
     "output_type": "execute_result"
    }
   ],
   "source": [
    "emb_dims = [(x, min(50, (x + 1) // 2)) for x in cat_dims]\n",
    "emb_dims"
   ]
  },
  {
   "cell_type": "markdown",
   "metadata": {},
   "source": [
    " The hidden layer dimension is 50 and 100 for the first and second layers respectively. The embedding dropout used is 0.04. The hidden layer dropouts are 0.001 and 0.01. "
   ]
  },
  {
   "cell_type": "code",
   "execution_count": 52,
   "metadata": {},
   "outputs": [
    {
     "data": {
      "text/plain": [
       "device(type='cpu')"
      ]
     },
     "execution_count": 52,
     "metadata": {},
     "output_type": "execute_result"
    }
   ],
   "source": [
    "device = torch.device('cuda' if torch.cuda.is_available() else 'cpu')\n",
    "#device = torch.device('cpu')\n",
    "device"
   ]
  },
  {
   "cell_type": "code",
   "execution_count": 83,
   "metadata": {},
   "outputs": [],
   "source": [
    "\n",
    "model = FeedForwardNN(emb_dims, no_of_cont=len(dataset.cont_cols), \n",
    "                      lin_layer_sizes=[50, 100],\n",
    "                      output_size=1, emb_dropout=0.04,\n",
    "                      lin_layer_dropouts=[0.001,0.01])\n",
    "model = model.to(device)"
   ]
  },
  {
   "cell_type": "code",
   "execution_count": 87,
   "metadata": {},
   "outputs": [
    {
     "data": {
      "text/plain": [
       "FeedForwardNN(\n",
       "  (emb_layers): ModuleList(\n",
       "    (0): Embedding(4803, 50)\n",
       "    (1): Embedding(71, 36)\n",
       "    (2): Embedding(1609, 50)\n",
       "    (3): Embedding(436, 50)\n",
       "  )\n",
       "  (lin_layers): ModuleList(\n",
       "    (0): Linear(in_features=186, out_features=50, bias=True)\n",
       "    (1): Linear(in_features=50, out_features=100, bias=True)\n",
       "  )\n",
       "  (output_layer): Linear(in_features=100, out_features=1, bias=True)\n",
       "  (first_bn_layer): BatchNorm1d(0, eps=1e-05, momentum=0.1, affine=True, track_running_stats=True)\n",
       "  (bn_layers): ModuleList(\n",
       "    (0): BatchNorm1d(50, eps=1e-05, momentum=0.1, affine=True, track_running_stats=True)\n",
       "    (1): BatchNorm1d(100, eps=1e-05, momentum=0.1, affine=True, track_running_stats=True)\n",
       "  )\n",
       "  (emb_dropout_layer): Dropout(p=0.04)\n",
       "  (droput_layers): ModuleList(\n",
       "    (0): Dropout(p=0.001)\n",
       "    (1): Dropout(p=0.01)\n",
       "  )\n",
       ")"
      ]
     },
     "execution_count": 87,
     "metadata": {},
     "output_type": "execute_result"
    }
   ],
   "source": [
    "model.train()"
   ]
  },
  {
   "cell_type": "code",
   "execution_count": 77,
   "metadata": {
    "scrolled": true
   },
   "outputs": [
    {
     "data": {
      "text/plain": [
       "FeedForwardNN(\n",
       "  (emb_layers): ModuleList(\n",
       "    (0): Embedding(4803, 50)\n",
       "    (1): Embedding(71, 36)\n",
       "    (2): Embedding(1609, 50)\n",
       "    (3): Embedding(436, 50)\n",
       "  )\n",
       "  (lin_layers): ModuleList(\n",
       "    (0): Linear(in_features=186, out_features=50, bias=True)\n",
       "    (1): Linear(in_features=50, out_features=100, bias=True)\n",
       "  )\n",
       "  (output_layer): Linear(in_features=100, out_features=1, bias=True)\n",
       "  (first_bn_layer): BatchNorm1d(0, eps=1e-05, momentum=0.1, affine=True, track_running_stats=True)\n",
       "  (bn_layers): ModuleList(\n",
       "    (0): BatchNorm1d(50, eps=1e-05, momentum=0.1, affine=True, track_running_stats=True)\n",
       "    (1): BatchNorm1d(100, eps=1e-05, momentum=0.1, affine=True, track_running_stats=True)\n",
       "  )\n",
       "  (emb_dropout_layer): Dropout(p=0.04)\n",
       "  (droput_layers): ModuleList(\n",
       "    (0): Dropout(p=0.001)\n",
       "    (1): Dropout(p=0.01)\n",
       "  )\n",
       ")"
      ]
     },
     "execution_count": 77,
     "metadata": {},
     "output_type": "execute_result"
    }
   ],
   "source": [
    "model.eval()"
   ]
  },
  {
   "cell_type": "markdown",
   "metadata": {},
   "source": [
    " Run the training loop"
   ]
  },
  {
   "cell_type": "code",
   "execution_count": 55,
   "metadata": {},
   "outputs": [
    {
     "data": {
      "text/plain": [
       "['id', 'vote_average', 'vote_count', 'budget']"
      ]
     },
     "execution_count": 55,
     "metadata": {},
     "output_type": "execute_result"
    }
   ],
   "source": [
    "categorical_features"
   ]
  },
  {
   "cell_type": "code",
   "execution_count": 88,
   "metadata": {},
   "outputs": [],
   "source": [
    "no_of_epochs = 5\n",
    "criterion = nn.MSELoss()\n",
    "optimizer = torch.optim.Adam(model.parameters(), lr=0.1)"
   ]
  },
  {
   "cell_type": "code",
   "execution_count": 90,
   "metadata": {},
   "outputs": [],
   "source": [
    "# state = {'epoch': epoch + 1,\n",
    "#          'state_dict': model.state_dict(),\n",
    "#          'optim_dict' : optimizer.state_dict()}"
   ]
  },
  {
   "cell_type": "code",
   "execution_count": 116,
   "metadata": {},
   "outputs": [
    {
     "name": "stdout",
     "output_type": "stream",
     "text": [
      "Epoch 0/4\n",
      "11890\tTrain Epoch: 0 [64/4803 (1%)] Loss: 71.4264\n",
      "11890\tTrain Epoch: 0 [128/4803 (3%)] Loss: 86.3414\n",
      "11890\tTrain Epoch: 0 [192/4803 (4%)] Loss: 85.2336\n",
      "11890\tTrain Epoch: 0 [256/4803 (5%)] Loss: 65.9389\n",
      "11890\tTrain Epoch: 0 [320/4803 (7%)] Loss: 72.7590\n",
      "11890\tTrain Epoch: 0 [384/4803 (8%)] Loss: 44.6330\n",
      "11890\tTrain Epoch: 0 [448/4803 (9%)] Loss: 45.0564\n",
      "11890\tTrain Epoch: 0 [512/4803 (11%)] Loss: 52.8659\n",
      "11890\tTrain Epoch: 0 [576/4803 (12%)] Loss: 82.5601\n",
      "11890\tTrain Epoch: 0 [640/4803 (13%)] Loss: 85.0812\n",
      "11890\tTrain Epoch: 0 [704/4803 (14%)] Loss: 18.3583\n",
      "11890\tTrain Epoch: 0 [768/4803 (16%)] Loss: 25.2109\n",
      "11890\tTrain Epoch: 0 [832/4803 (17%)] Loss: 11.4357\n",
      "11890\tTrain Epoch: 0 [896/4803 (18%)] Loss: 32.8379\n",
      "11890\tTrain Epoch: 0 [960/4803 (20%)] Loss: 18.2873\n",
      "11890\tTrain Epoch: 0 [1024/4803 (21%)] Loss: 20.8141\n",
      "11890\tTrain Epoch: 0 [1088/4803 (22%)] Loss: 26.5773\n",
      "11890\tTrain Epoch: 0 [1152/4803 (24%)] Loss: 62.1367\n",
      "11890\tTrain Epoch: 0 [1216/4803 (25%)] Loss: 53.6979\n",
      "11890\tTrain Epoch: 0 [1280/4803 (26%)] Loss: 13.1485\n",
      "11890\tTrain Epoch: 0 [1344/4803 (28%)] Loss: 19.5044\n",
      "11890\tTrain Epoch: 0 [1408/4803 (29%)] Loss: 34.6392\n",
      "11890\tTrain Epoch: 0 [1472/4803 (30%)] Loss: 19.5216\n",
      "11890\tTrain Epoch: 0 [1536/4803 (32%)] Loss: 34.8808\n",
      "11890\tTrain Epoch: 0 [1600/4803 (33%)] Loss: 32.0777\n",
      "11890\tTrain Epoch: 0 [1664/4803 (34%)] Loss: 54.3379\n",
      "11890\tTrain Epoch: 0 [1728/4803 (36%)] Loss: 34.5657\n",
      "11890\tTrain Epoch: 0 [1792/4803 (37%)] Loss: 260.9636\n",
      "11890\tTrain Epoch: 0 [1856/4803 (38%)] Loss: 42.1679\n",
      "11890\tTrain Epoch: 0 [1920/4803 (39%)] Loss: 46.9980\n",
      "11890\tTrain Epoch: 0 [1984/4803 (41%)] Loss: 68.5888\n",
      "11890\tTrain Epoch: 0 [2048/4803 (42%)] Loss: 67.5619\n",
      "11890\tTrain Epoch: 0 [2112/4803 (43%)] Loss: 16.8924\n",
      "11890\tTrain Epoch: 0 [2176/4803 (45%)] Loss: 48.6431\n",
      "11890\tTrain Epoch: 0 [2240/4803 (46%)] Loss: 59.8088\n",
      "11890\tTrain Epoch: 0 [2304/4803 (47%)] Loss: 35.2445\n",
      "11890\tTrain Epoch: 0 [2368/4803 (49%)] Loss: 35.4330\n",
      "11890\tTrain Epoch: 0 [2432/4803 (50%)] Loss: 24.8460\n",
      "11890\tTrain Epoch: 0 [2496/4803 (51%)] Loss: 11.6862\n",
      "11890\tTrain Epoch: 0 [2560/4803 (53%)] Loss: 34.3959\n",
      "11890\tTrain Epoch: 0 [2624/4803 (54%)] Loss: 23.9636\n",
      "11890\tTrain Epoch: 0 [2688/4803 (55%)] Loss: 165.3957\n",
      "11890\tTrain Epoch: 0 [2752/4803 (57%)] Loss: 23.0355\n",
      "11890\tTrain Epoch: 0 [2816/4803 (58%)] Loss: 30.1771\n",
      "11890\tTrain Epoch: 0 [2880/4803 (59%)] Loss: 35.9469\n",
      "11890\tTrain Epoch: 0 [2944/4803 (61%)] Loss: 35.5389\n",
      "11890\tTrain Epoch: 0 [3008/4803 (62%)] Loss: 50.2559\n",
      "11890\tTrain Epoch: 0 [3072/4803 (63%)] Loss: 114.6445\n",
      "11890\tTrain Epoch: 0 [3136/4803 (64%)] Loss: 51.4663\n",
      "11890\tTrain Epoch: 0 [3200/4803 (66%)] Loss: 43.4893\n",
      "11890\tTrain Epoch: 0 [3264/4803 (67%)] Loss: 22.7686\n",
      "11890\tTrain Epoch: 0 [3328/4803 (68%)] Loss: 24.9117\n",
      "11890\tTrain Epoch: 0 [3392/4803 (70%)] Loss: 133.0412\n",
      "11890\tTrain Epoch: 0 [3456/4803 (71%)] Loss: 89.9070\n",
      "11890\tTrain Epoch: 0 [3520/4803 (72%)] Loss: 12.5342\n",
      "11890\tTrain Epoch: 0 [3584/4803 (74%)] Loss: 25.7251\n",
      "11890\tTrain Epoch: 0 [3648/4803 (75%)] Loss: 109.1460\n",
      "11890\tTrain Epoch: 0 [3712/4803 (76%)] Loss: 50.9684\n",
      "11890\tTrain Epoch: 0 [3776/4803 (78%)] Loss: 81.0894\n",
      "11890\tTrain Epoch: 0 [3840/4803 (79%)] Loss: 23.3177\n",
      "11890\tTrain Epoch: 0 [3904/4803 (80%)] Loss: 74.2948\n",
      "11890\tTrain Epoch: 0 [3968/4803 (82%)] Loss: 82.1658\n",
      "11890\tTrain Epoch: 0 [4032/4803 (83%)] Loss: 12.6741\n",
      "11890\tTrain Epoch: 0 [4096/4803 (84%)] Loss: 38.9492\n",
      "11890\tTrain Epoch: 0 [4160/4803 (86%)] Loss: 1162.1802\n",
      "11890\tTrain Epoch: 0 [4224/4803 (87%)] Loss: 39.9159\n",
      "11890\tTrain Epoch: 0 [4288/4803 (88%)] Loss: 13.7893\n",
      "11890\tTrain Epoch: 0 [4352/4803 (89%)] Loss: 20.3650\n",
      "11890\tTrain Epoch: 0 [4416/4803 (91%)] Loss: 18.3211\n",
      "11890\tTrain Epoch: 0 [4480/4803 (92%)] Loss: 65.3902\n",
      "11890\tTrain Epoch: 0 [4544/4803 (93%)] Loss: 74.3466\n",
      "11890\tTrain Epoch: 0 [4608/4803 (95%)] Loss: 21.3388\n",
      "11890\tTrain Epoch: 0 [4672/4803 (96%)] Loss: 117.5208\n",
      "11890\tTrain Epoch: 0 [4736/4803 (97%)] Loss: 54.9927\n",
      "11890\tTrain Epoch: 0 [4800/4803 (99%)] Loss: 140.6900\n",
      "11890\tTrain Epoch: 0 [228/4803 (100%)] Loss: 228.8218\n",
      "Epoch 1/4\n",
      "11890\tTrain Epoch: 1 [64/4803 (1%)] Loss: 63.8325\n",
      "11890\tTrain Epoch: 1 [128/4803 (3%)] Loss: 358.9230\n",
      "11890\tTrain Epoch: 1 [192/4803 (4%)] Loss: 100.6880\n",
      "11890\tTrain Epoch: 1 [256/4803 (5%)] Loss: 126.5906\n",
      "11890\tTrain Epoch: 1 [320/4803 (7%)] Loss: 138.6900\n",
      "11890\tTrain Epoch: 1 [384/4803 (8%)] Loss: 63.0466\n",
      "11890\tTrain Epoch: 1 [448/4803 (9%)] Loss: 39.5351\n",
      "11890\tTrain Epoch: 1 [512/4803 (11%)] Loss: 37.8405\n",
      "11890\tTrain Epoch: 1 [576/4803 (12%)] Loss: 46.8726\n",
      "11890\tTrain Epoch: 1 [640/4803 (13%)] Loss: 19.3463\n",
      "11890\tTrain Epoch: 1 [704/4803 (14%)] Loss: 41.5406\n",
      "11890\tTrain Epoch: 1 [768/4803 (16%)] Loss: 254.5049\n",
      "11890\tTrain Epoch: 1 [832/4803 (17%)] Loss: 27.6615\n",
      "11890\tTrain Epoch: 1 [896/4803 (18%)] Loss: 27.4420\n",
      "11890\tTrain Epoch: 1 [960/4803 (20%)] Loss: 36.9539\n",
      "11890\tTrain Epoch: 1 [1024/4803 (21%)] Loss: 349.6671\n",
      "11890\tTrain Epoch: 1 [1088/4803 (22%)] Loss: 133.8306\n",
      "11890\tTrain Epoch: 1 [1152/4803 (24%)] Loss: 119.3954\n",
      "11890\tTrain Epoch: 1 [1216/4803 (25%)] Loss: 154.7836\n",
      "11890\tTrain Epoch: 1 [1280/4803 (26%)] Loss: 73.9056\n",
      "11890\tTrain Epoch: 1 [1344/4803 (28%)] Loss: 53.0015\n",
      "11890\tTrain Epoch: 1 [1408/4803 (29%)] Loss: 71.5221\n",
      "11890\tTrain Epoch: 1 [1472/4803 (30%)] Loss: 43.8311\n",
      "11890\tTrain Epoch: 1 [1536/4803 (32%)] Loss: 204.0838\n",
      "11890\tTrain Epoch: 1 [1600/4803 (33%)] Loss: 55.0243\n",
      "11890\tTrain Epoch: 1 [1664/4803 (34%)] Loss: 25.5306\n",
      "11890\tTrain Epoch: 1 [1728/4803 (36%)] Loss: 36.7667\n",
      "11890\tTrain Epoch: 1 [1792/4803 (37%)] Loss: 43.8883\n",
      "11890\tTrain Epoch: 1 [1856/4803 (38%)] Loss: 20.9869\n",
      "11890\tTrain Epoch: 1 [1920/4803 (39%)] Loss: 40.0756\n",
      "11890\tTrain Epoch: 1 [1984/4803 (41%)] Loss: 27.3129\n",
      "11890\tTrain Epoch: 1 [2048/4803 (42%)] Loss: 18.1773\n",
      "11890\tTrain Epoch: 1 [2112/4803 (43%)] Loss: 24.7444\n",
      "11890\tTrain Epoch: 1 [2176/4803 (45%)] Loss: 126.2953\n",
      "11890\tTrain Epoch: 1 [2240/4803 (46%)] Loss: 34.7331\n",
      "11890\tTrain Epoch: 1 [2304/4803 (47%)] Loss: 78.6315\n",
      "11890\tTrain Epoch: 1 [2368/4803 (49%)] Loss: 369.3657\n",
      "11890\tTrain Epoch: 1 [2432/4803 (50%)] Loss: 82.0049\n",
      "11890\tTrain Epoch: 1 [2496/4803 (51%)] Loss: 57.1747\n",
      "11890\tTrain Epoch: 1 [2560/4803 (53%)] Loss: 120.7468\n",
      "11890\tTrain Epoch: 1 [2624/4803 (54%)] Loss: 69.5538\n",
      "11890\tTrain Epoch: 1 [2688/4803 (55%)] Loss: 81.6016\n",
      "11890\tTrain Epoch: 1 [2752/4803 (57%)] Loss: 60.3682\n",
      "11890\tTrain Epoch: 1 [2816/4803 (58%)] Loss: 16.1116\n",
      "11890\tTrain Epoch: 1 [2880/4803 (59%)] Loss: 42.2041\n",
      "11890\tTrain Epoch: 1 [2944/4803 (61%)] Loss: 42.9316\n",
      "11890\tTrain Epoch: 1 [3008/4803 (62%)] Loss: 38.4740\n",
      "11890\tTrain Epoch: 1 [3072/4803 (63%)] Loss: 40.0772\n",
      "11890\tTrain Epoch: 1 [3136/4803 (64%)] Loss: 67.0978\n",
      "11890\tTrain Epoch: 1 [3200/4803 (66%)] Loss: 57.3541\n",
      "11890\tTrain Epoch: 1 [3264/4803 (67%)] Loss: 125.0578\n",
      "11890\tTrain Epoch: 1 [3328/4803 (68%)] Loss: 23.0188\n",
      "11890\tTrain Epoch: 1 [3392/4803 (70%)] Loss: 36.1958\n",
      "11890\tTrain Epoch: 1 [3456/4803 (71%)] Loss: 70.7310\n",
      "11890\tTrain Epoch: 1 [3520/4803 (72%)] Loss: 66.6399\n",
      "11890\tTrain Epoch: 1 [3584/4803 (74%)] Loss: 35.3949\n",
      "11890\tTrain Epoch: 1 [3648/4803 (75%)] Loss: 82.9592\n",
      "11890\tTrain Epoch: 1 [3712/4803 (76%)] Loss: 22.7403\n",
      "11890\tTrain Epoch: 1 [3776/4803 (78%)] Loss: 47.9491\n",
      "11890\tTrain Epoch: 1 [3840/4803 (79%)] Loss: 42.3815\n",
      "11890\tTrain Epoch: 1 [3904/4803 (80%)] Loss: 40.3518\n",
      "11890\tTrain Epoch: 1 [3968/4803 (82%)] Loss: 68.3570\n",
      "11890\tTrain Epoch: 1 [4032/4803 (83%)] Loss: 49.8327\n",
      "11890\tTrain Epoch: 1 [4096/4803 (84%)] Loss: 62.6718\n",
      "11890\tTrain Epoch: 1 [4160/4803 (86%)] Loss: 62.5505\n",
      "11890\tTrain Epoch: 1 [4224/4803 (87%)] Loss: 12.3126\n",
      "11890\tTrain Epoch: 1 [4288/4803 (88%)] Loss: 23.7740\n",
      "11890\tTrain Epoch: 1 [4352/4803 (89%)] Loss: 25.6756\n",
      "11890\tTrain Epoch: 1 [4416/4803 (91%)] Loss: 26.3146\n",
      "11890\tTrain Epoch: 1 [4480/4803 (92%)] Loss: 35.6497\n",
      "11890\tTrain Epoch: 1 [4544/4803 (93%)] Loss: 591.9727\n",
      "11890\tTrain Epoch: 1 [4608/4803 (95%)] Loss: 46.2275\n",
      "11890\tTrain Epoch: 1 [4672/4803 (96%)] Loss: 73.1101\n",
      "11890\tTrain Epoch: 1 [4736/4803 (97%)] Loss: 67.2879\n",
      "11890\tTrain Epoch: 1 [4800/4803 (99%)] Loss: 55.7741\n",
      "11890\tTrain Epoch: 1 [228/4803 (100%)] Loss: 225.7138\n",
      "Epoch 2/4\n",
      "11890\tTrain Epoch: 2 [64/4803 (1%)] Loss: 26.2369\n",
      "11890\tTrain Epoch: 2 [128/4803 (3%)] Loss: 152.0013\n",
      "11890\tTrain Epoch: 2 [192/4803 (4%)] Loss: 55.8181\n",
      "11890\tTrain Epoch: 2 [256/4803 (5%)] Loss: 72.5295\n",
      "11890\tTrain Epoch: 2 [320/4803 (7%)] Loss: 88.7828\n",
      "11890\tTrain Epoch: 2 [384/4803 (8%)] Loss: 43.1161\n"
     ]
    },
    {
     "name": "stdout",
     "output_type": "stream",
     "text": [
      "11890\tTrain Epoch: 2 [448/4803 (9%)] Loss: 70.6455\n",
      "11890\tTrain Epoch: 2 [512/4803 (11%)] Loss: 92.7028\n",
      "11890\tTrain Epoch: 2 [576/4803 (12%)] Loss: 33.2742\n",
      "11890\tTrain Epoch: 2 [640/4803 (13%)] Loss: 14.4710\n",
      "11890\tTrain Epoch: 2 [704/4803 (14%)] Loss: 37.7060\n",
      "11890\tTrain Epoch: 2 [768/4803 (16%)] Loss: 60.9734\n",
      "11890\tTrain Epoch: 2 [832/4803 (17%)] Loss: 50.3358\n",
      "11890\tTrain Epoch: 2 [896/4803 (18%)] Loss: 63.3250\n",
      "11890\tTrain Epoch: 2 [960/4803 (20%)] Loss: 29.6606\n",
      "11890\tTrain Epoch: 2 [1024/4803 (21%)] Loss: 34.0828\n",
      "11890\tTrain Epoch: 2 [1088/4803 (22%)] Loss: 80.1624\n",
      "11890\tTrain Epoch: 2 [1152/4803 (24%)] Loss: 29.1075\n",
      "11890\tTrain Epoch: 2 [1216/4803 (25%)] Loss: 61.3146\n",
      "11890\tTrain Epoch: 2 [1280/4803 (26%)] Loss: 253.4844\n",
      "11890\tTrain Epoch: 2 [1344/4803 (28%)] Loss: 20.7052\n",
      "11890\tTrain Epoch: 2 [1408/4803 (29%)] Loss: 26.8652\n",
      "11890\tTrain Epoch: 2 [1472/4803 (30%)] Loss: 27.8714\n",
      "11890\tTrain Epoch: 2 [1536/4803 (32%)] Loss: 491.3324\n",
      "11890\tTrain Epoch: 2 [1600/4803 (33%)] Loss: 15.3487\n",
      "11890\tTrain Epoch: 2 [1664/4803 (34%)] Loss: 141.2670\n",
      "11890\tTrain Epoch: 2 [1728/4803 (36%)] Loss: 33.2698\n",
      "11890\tTrain Epoch: 2 [1792/4803 (37%)] Loss: 49.1828\n",
      "11890\tTrain Epoch: 2 [1856/4803 (38%)] Loss: 27.8868\n",
      "11890\tTrain Epoch: 2 [1920/4803 (39%)] Loss: 37.0408\n",
      "11890\tTrain Epoch: 2 [1984/4803 (41%)] Loss: 53.2163\n",
      "11890\tTrain Epoch: 2 [2048/4803 (42%)] Loss: 132.5302\n",
      "11890\tTrain Epoch: 2 [2112/4803 (43%)] Loss: 17.1125\n",
      "11890\tTrain Epoch: 2 [2176/4803 (45%)] Loss: 17.1951\n",
      "11890\tTrain Epoch: 2 [2240/4803 (46%)] Loss: 19.9029\n",
      "11890\tTrain Epoch: 2 [2304/4803 (47%)] Loss: 63.9221\n",
      "11890\tTrain Epoch: 2 [2368/4803 (49%)] Loss: 24.0576\n",
      "11890\tTrain Epoch: 2 [2432/4803 (50%)] Loss: 17.6992\n",
      "11890\tTrain Epoch: 2 [2496/4803 (51%)] Loss: 151.1272\n",
      "11890\tTrain Epoch: 2 [2560/4803 (53%)] Loss: 44.4359\n",
      "11890\tTrain Epoch: 2 [2624/4803 (54%)] Loss: 33.8469\n",
      "11890\tTrain Epoch: 2 [2688/4803 (55%)] Loss: 106.9416\n",
      "11890\tTrain Epoch: 2 [2752/4803 (57%)] Loss: 1257.7773\n",
      "11890\tTrain Epoch: 2 [2816/4803 (58%)] Loss: 34.8800\n",
      "11890\tTrain Epoch: 2 [2880/4803 (59%)] Loss: 87.2060\n",
      "11890\tTrain Epoch: 2 [2944/4803 (61%)] Loss: 91.1503\n",
      "11890\tTrain Epoch: 2 [3008/4803 (62%)] Loss: 101.0586\n",
      "11890\tTrain Epoch: 2 [3072/4803 (63%)] Loss: 95.6380\n",
      "11890\tTrain Epoch: 2 [3136/4803 (64%)] Loss: 29.0028\n",
      "11890\tTrain Epoch: 2 [3200/4803 (66%)] Loss: 149.1119\n",
      "11890\tTrain Epoch: 2 [3264/4803 (67%)] Loss: 61.6817\n",
      "11890\tTrain Epoch: 2 [3328/4803 (68%)] Loss: 51.5756\n",
      "11890\tTrain Epoch: 2 [3392/4803 (70%)] Loss: 38.7537\n",
      "11890\tTrain Epoch: 2 [3456/4803 (71%)] Loss: 82.8650\n",
      "11890\tTrain Epoch: 2 [3520/4803 (72%)] Loss: 33.1825\n",
      "11890\tTrain Epoch: 2 [3584/4803 (74%)] Loss: 169.6710\n",
      "11890\tTrain Epoch: 2 [3648/4803 (75%)] Loss: 25.5683\n",
      "11890\tTrain Epoch: 2 [3712/4803 (76%)] Loss: 24.6094\n",
      "11890\tTrain Epoch: 2 [3776/4803 (78%)] Loss: 14.7192\n",
      "11890\tTrain Epoch: 2 [3840/4803 (79%)] Loss: 36.5813\n",
      "11890\tTrain Epoch: 2 [3904/4803 (80%)] Loss: 64.5785\n",
      "11890\tTrain Epoch: 2 [3968/4803 (82%)] Loss: 105.1897\n",
      "11890\tTrain Epoch: 2 [4032/4803 (83%)] Loss: 120.5284\n",
      "11890\tTrain Epoch: 2 [4096/4803 (84%)] Loss: 119.4468\n",
      "11890\tTrain Epoch: 2 [4160/4803 (86%)] Loss: 70.9604\n",
      "11890\tTrain Epoch: 2 [4224/4803 (87%)] Loss: 29.6173\n",
      "11890\tTrain Epoch: 2 [4288/4803 (88%)] Loss: 19.9645\n",
      "11890\tTrain Epoch: 2 [4352/4803 (89%)] Loss: 91.4811\n",
      "11890\tTrain Epoch: 2 [4416/4803 (91%)] Loss: 28.0151\n",
      "11890\tTrain Epoch: 2 [4480/4803 (92%)] Loss: 19.0765\n",
      "11890\tTrain Epoch: 2 [4544/4803 (93%)] Loss: 69.6675\n",
      "11890\tTrain Epoch: 2 [4608/4803 (95%)] Loss: 66.5676\n",
      "11890\tTrain Epoch: 2 [4672/4803 (96%)] Loss: 48.8018\n",
      "11890\tTrain Epoch: 2 [4736/4803 (97%)] Loss: 13.5280\n",
      "11890\tTrain Epoch: 2 [4800/4803 (99%)] Loss: 67.9403\n",
      "11890\tTrain Epoch: 2 [228/4803 (100%)] Loss: 222.9977\n",
      "Epoch 3/4\n",
      "11890\tTrain Epoch: 3 [64/4803 (1%)] Loss: 18.9501\n",
      "11890\tTrain Epoch: 3 [128/4803 (3%)] Loss: 20.7695\n",
      "11890\tTrain Epoch: 3 [192/4803 (4%)] Loss: 73.4331\n",
      "11890\tTrain Epoch: 3 [256/4803 (5%)] Loss: 50.0495\n",
      "11890\tTrain Epoch: 3 [320/4803 (7%)] Loss: 30.9180\n",
      "11890\tTrain Epoch: 3 [384/4803 (8%)] Loss: 27.2443\n",
      "11890\tTrain Epoch: 3 [448/4803 (9%)] Loss: 147.0430\n",
      "11890\tTrain Epoch: 3 [512/4803 (11%)] Loss: 62.0262\n",
      "11890\tTrain Epoch: 3 [576/4803 (12%)] Loss: 54.4634\n",
      "11890\tTrain Epoch: 3 [640/4803 (13%)] Loss: 64.7629\n",
      "11890\tTrain Epoch: 3 [704/4803 (14%)] Loss: 20.4965\n",
      "11890\tTrain Epoch: 3 [768/4803 (16%)] Loss: 25.7348\n",
      "11890\tTrain Epoch: 3 [832/4803 (17%)] Loss: 33.5733\n",
      "11890\tTrain Epoch: 3 [896/4803 (18%)] Loss: 17.6624\n",
      "11890\tTrain Epoch: 3 [960/4803 (20%)] Loss: 31.0982\n",
      "11890\tTrain Epoch: 3 [1024/4803 (21%)] Loss: 47.0805\n",
      "11890\tTrain Epoch: 3 [1088/4803 (22%)] Loss: 21.9017\n",
      "11890\tTrain Epoch: 3 [1152/4803 (24%)] Loss: 26.9565\n",
      "11890\tTrain Epoch: 3 [1216/4803 (25%)] Loss: 38.1055\n",
      "11890\tTrain Epoch: 3 [1280/4803 (26%)] Loss: 103.3401\n",
      "11890\tTrain Epoch: 3 [1344/4803 (28%)] Loss: 520.0629\n",
      "11890\tTrain Epoch: 3 [1408/4803 (29%)] Loss: 131.6136\n",
      "11890\tTrain Epoch: 3 [1472/4803 (30%)] Loss: 21.7338\n",
      "11890\tTrain Epoch: 3 [1536/4803 (32%)] Loss: 50.4145\n",
      "11890\tTrain Epoch: 3 [1600/4803 (33%)] Loss: 53.6055\n",
      "11890\tTrain Epoch: 3 [1664/4803 (34%)] Loss: 102.5261\n",
      "11890\tTrain Epoch: 3 [1728/4803 (36%)] Loss: 128.6564\n",
      "11890\tTrain Epoch: 3 [1792/4803 (37%)] Loss: 152.0548\n",
      "11890\tTrain Epoch: 3 [1856/4803 (38%)] Loss: 86.4059\n",
      "11890\tTrain Epoch: 3 [1920/4803 (39%)] Loss: 121.1056\n",
      "11890\tTrain Epoch: 3 [1984/4803 (41%)] Loss: 22.9457\n",
      "11890\tTrain Epoch: 3 [2048/4803 (42%)] Loss: 15.3015\n",
      "11890\tTrain Epoch: 3 [2112/4803 (43%)] Loss: 44.8285\n",
      "11890\tTrain Epoch: 3 [2176/4803 (45%)] Loss: 147.1000\n",
      "11890\tTrain Epoch: 3 [2240/4803 (46%)] Loss: 27.8097\n",
      "11890\tTrain Epoch: 3 [2304/4803 (47%)] Loss: 76.0399\n",
      "11890\tTrain Epoch: 3 [2368/4803 (49%)] Loss: 24.1086\n",
      "11890\tTrain Epoch: 3 [2432/4803 (50%)] Loss: 642.3293\n",
      "11890\tTrain Epoch: 3 [2496/4803 (51%)] Loss: 153.0636\n",
      "11890\tTrain Epoch: 3 [2560/4803 (53%)] Loss: 106.7707\n",
      "11890\tTrain Epoch: 3 [2624/4803 (54%)] Loss: 76.8293\n",
      "11890\tTrain Epoch: 3 [2688/4803 (55%)] Loss: 153.2609\n",
      "11890\tTrain Epoch: 3 [2752/4803 (57%)] Loss: 28.5862\n",
      "11890\tTrain Epoch: 3 [2816/4803 (58%)] Loss: 98.7466\n",
      "11890\tTrain Epoch: 3 [2880/4803 (59%)] Loss: 42.6325\n",
      "11890\tTrain Epoch: 3 [2944/4803 (61%)] Loss: 202.5349\n",
      "11890\tTrain Epoch: 3 [3008/4803 (62%)] Loss: 52.4665\n",
      "11890\tTrain Epoch: 3 [3072/4803 (63%)] Loss: 100.2814\n",
      "11890\tTrain Epoch: 3 [3136/4803 (64%)] Loss: 82.6268\n",
      "11890\tTrain Epoch: 3 [3200/4803 (66%)] Loss: 39.4680\n",
      "11890\tTrain Epoch: 3 [3264/4803 (67%)] Loss: 60.4754\n",
      "11890\tTrain Epoch: 3 [3328/4803 (68%)] Loss: 104.2606\n",
      "11890\tTrain Epoch: 3 [3392/4803 (70%)] Loss: 88.2642\n",
      "11890\tTrain Epoch: 3 [3456/4803 (71%)] Loss: 81.8255\n",
      "11890\tTrain Epoch: 3 [3520/4803 (72%)] Loss: 26.1695\n",
      "11890\tTrain Epoch: 3 [3584/4803 (74%)] Loss: 15.5411\n",
      "11890\tTrain Epoch: 3 [3648/4803 (75%)] Loss: 89.5819\n",
      "11890\tTrain Epoch: 3 [3712/4803 (76%)] Loss: 120.2219\n",
      "11890\tTrain Epoch: 3 [3776/4803 (78%)] Loss: 106.5391\n",
      "11890\tTrain Epoch: 3 [3840/4803 (79%)] Loss: 20.6827\n",
      "11890\tTrain Epoch: 3 [3904/4803 (80%)] Loss: 21.4814\n",
      "11890\tTrain Epoch: 3 [3968/4803 (82%)] Loss: 60.2135\n",
      "11890\tTrain Epoch: 3 [4032/4803 (83%)] Loss: 61.1370\n",
      "11890\tTrain Epoch: 3 [4096/4803 (84%)] Loss: 142.9400\n",
      "11890\tTrain Epoch: 3 [4160/4803 (86%)] Loss: 89.8036\n",
      "11890\tTrain Epoch: 3 [4224/4803 (87%)] Loss: 70.5880\n",
      "11890\tTrain Epoch: 3 [4288/4803 (88%)] Loss: 67.6750\n",
      "11890\tTrain Epoch: 3 [4352/4803 (89%)] Loss: 53.9049\n",
      "11890\tTrain Epoch: 3 [4416/4803 (91%)] Loss: 88.5224\n",
      "11890\tTrain Epoch: 3 [4480/4803 (92%)] Loss: 64.2844\n",
      "11890\tTrain Epoch: 3 [4544/4803 (93%)] Loss: 66.2076\n",
      "11890\tTrain Epoch: 3 [4608/4803 (95%)] Loss: 27.8950\n",
      "11890\tTrain Epoch: 3 [4672/4803 (96%)] Loss: 33.3620\n",
      "11890\tTrain Epoch: 3 [4736/4803 (97%)] Loss: 30.9555\n",
      "11890\tTrain Epoch: 3 [4800/4803 (99%)] Loss: 89.5759\n",
      "11890\tTrain Epoch: 3 [228/4803 (100%)] Loss: 38.3816\n",
      "Epoch 4/4\n",
      "11890\tTrain Epoch: 4 [64/4803 (1%)] Loss: 83.4158\n",
      "11890\tTrain Epoch: 4 [128/4803 (3%)] Loss: 33.1118\n",
      "11890\tTrain Epoch: 4 [192/4803 (4%)] Loss: 64.1520\n",
      "11890\tTrain Epoch: 4 [256/4803 (5%)] Loss: 21.3870\n",
      "11890\tTrain Epoch: 4 [320/4803 (7%)] Loss: 91.0257\n",
      "11890\tTrain Epoch: 4 [384/4803 (8%)] Loss: 49.1350\n",
      "11890\tTrain Epoch: 4 [448/4803 (9%)] Loss: 38.3293\n",
      "11890\tTrain Epoch: 4 [512/4803 (11%)] Loss: 56.1710\n",
      "11890\tTrain Epoch: 4 [576/4803 (12%)] Loss: 52.7099\n",
      "11890\tTrain Epoch: 4 [640/4803 (13%)] Loss: 44.5211\n",
      "11890\tTrain Epoch: 4 [704/4803 (14%)] Loss: 118.1032\n",
      "11890\tTrain Epoch: 4 [768/4803 (16%)] Loss: 12.4755\n",
      "11890\tTrain Epoch: 4 [832/4803 (17%)] Loss: 21.6748\n",
      "11890\tTrain Epoch: 4 [896/4803 (18%)] Loss: 21.3719\n",
      "11890\tTrain Epoch: 4 [960/4803 (20%)] Loss: 702.9022\n",
      "11890\tTrain Epoch: 4 [1024/4803 (21%)] Loss: 32.9323\n",
      "11890\tTrain Epoch: 4 [1088/4803 (22%)] Loss: 30.3156\n"
     ]
    },
    {
     "name": "stdout",
     "output_type": "stream",
     "text": [
      "11890\tTrain Epoch: 4 [1152/4803 (24%)] Loss: 30.7482\n",
      "11890\tTrain Epoch: 4 [1216/4803 (25%)] Loss: 66.1544\n",
      "11890\tTrain Epoch: 4 [1280/4803 (26%)] Loss: 76.7691\n",
      "11890\tTrain Epoch: 4 [1344/4803 (28%)] Loss: 30.4178\n",
      "11890\tTrain Epoch: 4 [1408/4803 (29%)] Loss: 52.8545\n",
      "11890\tTrain Epoch: 4 [1472/4803 (30%)] Loss: 35.4744\n",
      "11890\tTrain Epoch: 4 [1536/4803 (32%)] Loss: 37.5171\n",
      "11890\tTrain Epoch: 4 [1600/4803 (33%)] Loss: 27.8156\n",
      "11890\tTrain Epoch: 4 [1664/4803 (34%)] Loss: 116.3395\n",
      "11890\tTrain Epoch: 4 [1728/4803 (36%)] Loss: 20.6888\n",
      "11890\tTrain Epoch: 4 [1792/4803 (37%)] Loss: 60.8789\n",
      "11890\tTrain Epoch: 4 [1856/4803 (38%)] Loss: 43.7304\n",
      "11890\tTrain Epoch: 4 [1920/4803 (39%)] Loss: 23.7918\n",
      "11890\tTrain Epoch: 4 [1984/4803 (41%)] Loss: 21.0457\n",
      "11890\tTrain Epoch: 4 [2048/4803 (42%)] Loss: 22.7369\n",
      "11890\tTrain Epoch: 4 [2112/4803 (43%)] Loss: 393.9542\n",
      "11890\tTrain Epoch: 4 [2176/4803 (45%)] Loss: 51.3721\n",
      "11890\tTrain Epoch: 4 [2240/4803 (46%)] Loss: 91.8206\n",
      "11890\tTrain Epoch: 4 [2304/4803 (47%)] Loss: 43.8325\n",
      "11890\tTrain Epoch: 4 [2368/4803 (49%)] Loss: 75.9223\n",
      "11890\tTrain Epoch: 4 [2432/4803 (50%)] Loss: 169.8615\n",
      "11890\tTrain Epoch: 4 [2496/4803 (51%)] Loss: 49.5357\n",
      "11890\tTrain Epoch: 4 [2560/4803 (53%)] Loss: 99.7527\n",
      "11890\tTrain Epoch: 4 [2624/4803 (54%)] Loss: 44.4944\n",
      "11890\tTrain Epoch: 4 [2688/4803 (55%)] Loss: 31.6686\n",
      "11890\tTrain Epoch: 4 [2752/4803 (57%)] Loss: 91.0574\n",
      "11890\tTrain Epoch: 4 [2816/4803 (58%)] Loss: 19.1584\n",
      "11890\tTrain Epoch: 4 [2880/4803 (59%)] Loss: 42.7292\n",
      "11890\tTrain Epoch: 4 [2944/4803 (61%)] Loss: 52.9331\n",
      "11890\tTrain Epoch: 4 [3008/4803 (62%)] Loss: 69.7517\n",
      "11890\tTrain Epoch: 4 [3072/4803 (63%)] Loss: 21.1971\n",
      "11890\tTrain Epoch: 4 [3136/4803 (64%)] Loss: 156.2379\n",
      "11890\tTrain Epoch: 4 [3200/4803 (66%)] Loss: 38.8763\n",
      "11890\tTrain Epoch: 4 [3264/4803 (67%)] Loss: 65.6491\n",
      "11890\tTrain Epoch: 4 [3328/4803 (68%)] Loss: 50.3170\n",
      "11890\tTrain Epoch: 4 [3392/4803 (70%)] Loss: 50.2658\n",
      "11890\tTrain Epoch: 4 [3456/4803 (71%)] Loss: 137.0046\n",
      "11890\tTrain Epoch: 4 [3520/4803 (72%)] Loss: 32.6891\n",
      "11890\tTrain Epoch: 4 [3584/4803 (74%)] Loss: 19.7140\n",
      "11890\tTrain Epoch: 4 [3648/4803 (75%)] Loss: 66.0684\n",
      "11890\tTrain Epoch: 4 [3712/4803 (76%)] Loss: 40.1050\n",
      "11890\tTrain Epoch: 4 [3776/4803 (78%)] Loss: 134.6406\n",
      "11890\tTrain Epoch: 4 [3840/4803 (79%)] Loss: 33.5518\n",
      "11890\tTrain Epoch: 4 [3904/4803 (80%)] Loss: 41.9074\n",
      "11890\tTrain Epoch: 4 [3968/4803 (82%)] Loss: 38.1617\n",
      "11890\tTrain Epoch: 4 [4032/4803 (83%)] Loss: 38.4658\n",
      "11890\tTrain Epoch: 4 [4096/4803 (84%)] Loss: 22.0784\n",
      "11890\tTrain Epoch: 4 [4160/4803 (86%)] Loss: 15.9646\n",
      "11890\tTrain Epoch: 4 [4224/4803 (87%)] Loss: 69.1332\n",
      "11890\tTrain Epoch: 4 [4288/4803 (88%)] Loss: 34.0919\n",
      "11890\tTrain Epoch: 4 [4352/4803 (89%)] Loss: 38.8187\n",
      "11890\tTrain Epoch: 4 [4416/4803 (91%)] Loss: 29.8529\n",
      "11890\tTrain Epoch: 4 [4480/4803 (92%)] Loss: 16.3141\n",
      "11890\tTrain Epoch: 4 [4544/4803 (93%)] Loss: 99.2553\n",
      "11890\tTrain Epoch: 4 [4608/4803 (95%)] Loss: 13.4600\n",
      "11890\tTrain Epoch: 4 [4672/4803 (96%)] Loss: 27.5084\n",
      "11890\tTrain Epoch: 4 [4736/4803 (97%)] Loss: 38.4233\n",
      "11890\tTrain Epoch: 4 [4800/4803 (99%)] Loss: 37.6537\n",
      "11890\tTrain Epoch: 4 [228/4803 (100%)] Loss: 264.8557\n"
     ]
    }
   ],
   "source": [
    "import os\n",
    "import time\n",
    "\n",
    "since = time.time()\n",
    "\n",
    "best_model_wts = copy.deepcopy(model.state_dict())\n",
    "best_acc = 0.0\n",
    "\n",
    "for epoch in range(no_of_epochs):\n",
    "    running_loss = 0.0\n",
    "    i=0\n",
    "    print('Epoch {}/{}'.format(epoch, no_of_epochs - 1))\n",
    "    model.train()\n",
    "    pid = os.getpid()\n",
    "    for y, cont_x, cat_x in dataloader:\n",
    "        i += 1\n",
    "        cat_x = cat_x.to(device)\n",
    "        cont_x = cont_x.to(device)\n",
    "        y  = y.to(device)\n",
    "\n",
    "        # Forward Pass\n",
    "        preds = model(cont_x, cat_x)\n",
    "        loss = criterion(preds, y)\n",
    "        \n",
    "        # Backward Pass and Optimization\n",
    "        \n",
    "        # zero the parameter gradients\n",
    "        optimizer.zero_grad()\n",
    "        loss.backward()\n",
    "        optimizer.step()\n",
    "        \n",
    "        # print statistics\n",
    "        if batch_idx % 1000:    # print every n mini-batches         \n",
    "            print('{}\\tTrain Epoch: {} [{}/{} ({:.0f}%)] Loss: {:.4f}'.format(\n",
    "                pid, epoch, i * len(cat_x), len(dataloader.dataset),\n",
    "                100. * i / len(dataloader), loss.item()))\n"
   ]
  },
  {
   "cell_type": "code",
   "execution_count": null,
   "metadata": {},
   "outputs": [],
   "source": []
  },
  {
   "cell_type": "code",
   "execution_count": null,
   "metadata": {},
   "outputs": [],
   "source": []
  },
  {
   "cell_type": "code",
   "execution_count": null,
   "metadata": {},
   "outputs": [],
   "source": []
  },
  {
   "cell_type": "code",
   "execution_count": null,
   "metadata": {},
   "outputs": [],
   "source": []
  },
  {
   "cell_type": "code",
   "execution_count": null,
   "metadata": {},
   "outputs": [],
   "source": []
  }
 ],
 "metadata": {
  "kernelspec": {
   "display_name": "Python 3",
   "language": "python",
   "name": "python3"
  },
  "language_info": {
   "codemirror_mode": {
    "name": "ipython",
    "version": 3
   },
   "file_extension": ".py",
   "mimetype": "text/x-python",
   "name": "python",
   "nbconvert_exporter": "python",
   "pygments_lexer": "ipython3",
   "version": "3.6.7"
  }
 },
 "nbformat": 4,
 "nbformat_minor": 2
}
