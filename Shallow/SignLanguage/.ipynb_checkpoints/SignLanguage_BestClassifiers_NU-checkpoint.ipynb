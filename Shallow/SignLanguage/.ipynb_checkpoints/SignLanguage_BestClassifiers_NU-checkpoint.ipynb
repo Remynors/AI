{
 "cells": [
  {
   "cell_type": "markdown",
   "metadata": {
    "colab_type": "text",
    "id": "jsETWqgnOqKs"
   },
   "source": [
    "# Best Sign Language Classifiers with Ensemble"
   ]
  },
  {
   "cell_type": "code",
   "execution_count": 10,
   "metadata": {
    "colab": {
     "autoexec": {
      "startup": false,
      "wait_interval": 0
     },
     "base_uri": "https://localhost:8080/",
     "height": 34,
     "output_extras": [
      {
       "item_id": 1
      }
     ]
    },
    "colab_type": "code",
    "executionInfo": {
     "elapsed": 458,
     "status": "ok",
     "timestamp": 1519323572768,
     "user": {
      "displayName": "Remis Norvilis",
      "photoUrl": "//lh3.googleusercontent.com/-O0-ylirPmAU/AAAAAAAAAAI/AAAAAAAAABE/MxrEW2irWAk/s50-c-k-no/photo.jpg",
      "userId": "104740973963326129119"
     },
     "user_tz": 0
    },
    "id": "Q4qjbUPdOqKu",
    "outputId": "4776f7df-8b99-4da2-a47f-63f14100cdb9"
   },
   "outputs": [
    {
     "name": "stdout",
     "output_type": "stream",
     "text": [
      "The scikit-learn version is 0.19.1.\n"
     ]
    }
   ],
   "source": [
    "import sklearn; print('The scikit-learn version is {}.'.format(sklearn.__version__))\n",
    "FILE_TRAIN = 'sign_mnist_train.csv'\n",
    "FILE_TEST = 'sign_mnist_test.csv'"
   ]
  },
  {
   "cell_type": "code",
   "execution_count": 0,
   "metadata": {
    "colab": {
     "autoexec": {
      "startup": false,
      "wait_interval": 0
     }
    },
    "colab_type": "code",
    "id": "KUuFYHypOqK0"
   },
   "outputs": [],
   "source": [
    "#!pip install PyDrive\n",
    "from google.colab import auth\n",
    "from oauth2client.client import GoogleCredentials\n",
    "from pydrive.auth import GoogleAuth\n",
    "from pydrive.drive import GoogleDrive\n",
    "\n",
    "# 1. Authenticate and create the PyDrive client.\n",
    "auth.authenticate_user()\n",
    "gauth = GoogleAuth()\n",
    "gauth.credentials = GoogleCredentials.get_application_default()\n",
    "drive = GoogleDrive(gauth)\n",
    "#2. Get the files\n",
    "downloadedTrain = drive.CreateFile({'id':'1IubKywSmZXpdtWXgpPfPOjHkARW81gZ1'}) \n",
    "downloadedTrain.GetContentFile( FILE_TRAIN )  \n",
    "\n",
    "downloadedTest = drive.CreateFile({'id':'1wGoen4pVlLaJb382nlbtTA2x9-q5WhzR'}) \n",
    "downloadedTest.GetContentFile( FILE_TEST )  "
   ]
  },
  {
   "cell_type": "code",
   "execution_count": 12,
   "metadata": {
    "colab": {
     "autoexec": {
      "startup": false,
      "wait_interval": 0
     },
     "base_uri": "https://localhost:8080/",
     "height": 323,
     "output_extras": [
      {
       "item_id": 2
      }
     ]
    },
    "colab_type": "code",
    "executionInfo": {
     "elapsed": 4661,
     "status": "ok",
     "timestamp": 1519323581538,
     "user": {
      "displayName": "Remis Norvilis",
      "photoUrl": "//lh3.googleusercontent.com/-O0-ylirPmAU/AAAAAAAAAAI/AAAAAAAAABE/MxrEW2irWAk/s50-c-k-no/photo.jpg",
      "userId": "104740973963326129119"
     },
     "user_tz": 0
    },
    "id": "WLrEthgpO0J2",
    "outputId": "8e2295dd-07cd-442c-d6d0-15b361a8fbdf"
   },
   "outputs": [
    {
     "name": "stdout",
     "output_type": "stream",
     "text": [
      "<class 'pandas.core.frame.DataFrame'>\n",
      "RangeIndex: 27455 entries, 0 to 27454\n",
      "Columns: 785 entries, label to pixel784\n",
      "dtypes: int64(785)\n",
      "memory usage: 164.4 MB\n",
      "\n",
      "Training data array shape:  (27455, 785)\n",
      "Training data length:  27455\n",
      "\n",
      "\n",
      "<class 'pandas.core.frame.DataFrame'>\n",
      "RangeIndex: 7172 entries, 0 to 7171\n",
      "Columns: 785 entries, label to pixel784\n",
      "dtypes: int64(785)\n",
      "memory usage: 43.0 MB\n",
      "\n",
      "Testing data array shape:  (7172, 785)\n",
      "Testing data length:  7172\n"
     ]
    }
   ],
   "source": [
    "import pandas as pd\n",
    "import numpy as np\n",
    "import matplotlib\n",
    "import matplotlib.pyplot as plt\n",
    "from time import time\n",
    "import warnings\n",
    "warnings.filterwarnings(\"ignore\")\n",
    "\n",
    "## Load train data\n",
    "signs_train = pd.read_csv( FILE_TRAIN )\n",
    "signs_train.info()\n",
    "print(\"\\nTraining data array shape: \",signs_train.shape)\n",
    "print(\"Training data length: \",len(signs_train.index))\n",
    "print(\"\\n\")\n",
    "\n",
    "signs_test = pd.read_csv( FILE_TEST )\n",
    "signs_test.info()\n",
    "print(\"\\nTesting data array shape: \",signs_test.shape)\n",
    "print(\"Testing data length: \",len(signs_test.index))"
   ]
  },
  {
   "cell_type": "code",
   "execution_count": 0,
   "metadata": {
    "colab": {
     "autoexec": {
      "startup": false,
      "wait_interval": 0
     }
    },
    "colab_type": "code",
    "id": "ojlsnrkdOqK5"
   },
   "outputs": [],
   "source": [
    "## Process data\n",
    "#extract labels column into y\n",
    "y_train = signs_train.loc[:,'label']\n",
    "y_test = signs_test.loc[:,'label']\n",
    "\n",
    "#extract pixel array into X\n",
    "X_train= signs_train\n",
    "X_train.drop('label',axis=1,inplace=True)\n",
    "X_test= signs_test\n",
    "X_test.drop('label',axis=1,inplace=True)"
   ]
  },
  {
   "cell_type": "code",
   "execution_count": 0,
   "metadata": {
    "colab": {
     "autoexec": {
      "startup": false,
      "wait_interval": 0
     }
    },
    "colab_type": "code",
    "id": "0-tZaM73OqK9"
   },
   "outputs": [],
   "source": [
    "##Convert Pandas dataframe to np array\n",
    "X_train = X_train.values\n",
    "X_test = X_test.values\n",
    "y_train = y_train.values\n",
    "y_test = y_test.values\n",
    "\n",
    "#shuffle training set\n",
    "#shuffle_index = np.random.permutation(len(signs_train.index))\n",
    "#X_train,y_train = X_train[shuffle_index],y_train[shuffle_index]\n"
   ]
  },
  {
   "cell_type": "code",
   "execution_count": 15,
   "metadata": {
    "colab": {
     "autoexec": {
      "startup": false,
      "wait_interval": 0
     },
     "base_uri": "https://localhost:8080/",
     "height": 607,
     "output_extras": [
      {
       "item_id": 1
      }
     ]
    },
    "colab_type": "code",
    "executionInfo": {
     "elapsed": 2034,
     "status": "ok",
     "timestamp": 1519323584679,
     "user": {
      "displayName": "Remis Norvilis",
      "photoUrl": "//lh3.googleusercontent.com/-O0-ylirPmAU/AAAAAAAAAAI/AAAAAAAAABE/MxrEW2irWAk/s50-c-k-no/photo.jpg",
      "userId": "104740973963326129119"
     },
     "user_tz": 0
    },
    "id": "lSXDoDhwOqLB",
    "outputId": "8f9aed61-59f1-45d8-8c8b-fc2b47de0fd2"
   },
   "outputs": [
    {
     "data": {
      "image/png": "[encoded data removed]",
      "text/plain": [
       "<matplotlib.figure.Figure at 0x7f3dc8051ba8>"
      ]
     },
     "metadata": {
      "tags": []
     },
     "output_type": "display_data"
    }
   ],
   "source": [
    "# Display all sign language alphabet\n",
    "%matplotlib inline\n",
    "import matplotlib\n",
    "import matplotlib.pyplot as plt\n",
    "\n",
    "fig = plt.figure(figsize=(14, 10))\n",
    "for index in range(0, 26):\n",
    "    # find first element of letter and get index inside y_train[]\n",
    "    signIndex = next((i for i in range(1000) if y_train[i] == index), None)\n",
    "    #print(index, signIndex)\n",
    "    if index == 0:\n",
    "        SIGN_A = signIndex\n",
    "    if signIndex == None:\n",
    "        continue\n",
    "    nextSign = X_train[signIndex]\n",
    "    nextSignImage = nextSign.reshape(28,28)\n",
    "    plt.subplot(5, 6, index+1)\n",
    "    plt.axis('off')\n",
    "    plt.imshow(nextSignImage, cmap = matplotlib.cm.gray, interpolation=\"nearest\")\n",
    "    plt.title('%c' % (65+index))\n",
    "plt.show()"
   ]
  },
  {
   "cell_type": "markdown",
   "metadata": {
    "colab_type": "text",
    "id": "-R_6fO--OqLG"
   },
   "source": [
    "## Multiclass classification¶\n",
    "\n",
    " The American Sign Language letter database of hand gestures represent a multi-class problem with 24 classes of letters (excluding J and Z which require motion). \n",
    " \n",
    " ## Pipeline with standard scaler and SVC Poly kernel + CVGridSearch\n",
    "\n"
   ]
  },
  {
   "cell_type": "code",
   "execution_count": 16,
   "metadata": {
    "colab": {
     "autoexec": {
      "startup": false,
      "wait_interval": 0
     },
     "base_uri": "https://localhost:8080/",
     "height": 656,
     "output_extras": [
      {
       "item_id": 2
      },
      {
       "item_id": 3
      },
      {
       "item_id": 4
      },
      {
       "item_id": 5
      },
      {
       "item_id": 9
      },
      {
       "item_id": 10
      },
      {
       "item_id": 11
      },
      {
       "item_id": 12
      }
     ]
    },
    "colab_type": "code",
    "executionInfo": {
     "elapsed": 5195515,
     "status": "error",
     "timestamp": 1519328789248,
     "user": {
      "displayName": "Remis Norvilis",
      "photoUrl": "//lh3.googleusercontent.com/-O0-ylirPmAU/AAAAAAAAAAI/AAAAAAAAABE/MxrEW2irWAk/s50-c-k-no/photo.jpg",
      "userId": "104740973963326129119"
     },
     "user_tz": 0
    },
    "id": "L6xnY1tRbgNu",
    "outputId": "05ec02ff-798a-4a1c-dd31-f0788eed2701"
   },
   "outputs": [
    {
     "name": "stdout",
     "output_type": "stream",
     "text": [
      "PIPE SVM Poly Classifier wity Standard Scaler  Pipeline(memory=None,\n",
      "     steps=[('scaler', StandardScaler(copy=True, with_mean=True, with_std=True)), ('svm_clf', SVC(C=1.0, cache_size=200, class_weight=None, coef0=0.0,\n",
      "  decision_function_shape='ovr', degree=3, gamma='auto', kernel='poly',\n",
      "  max_iter=-1, probability=False, random_state=None, shrinking=True,\n",
      "  tol=0.001, verbose=False))])\n",
      "Fitting 3 folds for each of 2 candidates, totalling 6 fits\n",
      "[CV] svm_clf__C=0.1, svm_clf__degree=3 ...............................\n",
      "[CV]  svm_clf__C=0.1, svm_clf__degree=3, score=0.6413446845666885, total= 8.3min\n",
      "[CV] svm_clf__C=0.1, svm_clf__degree=3 ...............................\n"
     ]
    },
    {
     "name": "stderr",
     "output_type": "stream",
     "text": [
      "[Parallel(n_jobs=1)]: Done   1 out of   1 | elapsed: 12.7min remaining:    0.0s\n"
     ]
    },
    {
     "name": "stdout",
     "output_type": "stream",
     "text": [
      "[CV]  svm_clf__C=0.1, svm_clf__degree=3, score=0.6687062937062938, total= 8.3min\n",
      "[CV] svm_clf__C=0.1, svm_clf__degree=3 ...............................\n"
     ]
    },
    {
     "name": "stderr",
     "output_type": "stream",
     "text": [
      "[Parallel(n_jobs=1)]: Done   2 out of   2 | elapsed: 25.5min remaining:    0.0s\n"
     ]
    },
    {
     "name": "stdout",
     "output_type": "stream",
     "text": [
      "[CV]  svm_clf__C=0.1, svm_clf__degree=3, score=0.650475877912701, total= 8.0min\n",
      "[CV] svm_clf__C=0.1, svm_clf__degree=5 ...............................\n",
      "[CV]  svm_clf__C=0.1, svm_clf__degree=5, score=0.4385505348177254, total= 8.4min\n",
      "[CV] svm_clf__C=0.1, svm_clf__degree=5 ...............................\n",
      "[CV]  svm_clf__C=0.1, svm_clf__degree=5, score=0.4500655594405594, total= 8.4min\n",
      "[CV] svm_clf__C=0.1, svm_clf__degree=5 ...............................\n",
      "[CV]  svm_clf__C=0.1, svm_clf__degree=5, score=0.4322284213980965, total= 8.4min\n"
     ]
    },
    {
     "name": "stderr",
     "output_type": "stream",
     "text": [
      "[Parallel(n_jobs=1)]: Done   6 out of   6 | elapsed: 75.4min finished\n"
     ]
    },
    {
     "name": "stdout",
     "output_type": "stream",
     "text": [
      "Fit done in 5194.424s\n",
      "Grid best params:  {'svm_clf__C': 0.1, 'svm_clf__degree': 3}\n",
      "Grid best score:  0.6535057366599891\n",
      "testing SGD classifier accuracy...\n"
     ]
    },
    {
     "ename": "NameError",
     "evalue": "ignored",
     "output_type": "error",
     "traceback": [
      "\u001b[0;31m---------------------------------------------------------------------------\u001b[0m",
      "\u001b[0;31mNameError\u001b[0m                                 Traceback (most recent call last)",
      "\u001b[0;32m<ipython-input-16-59ed72c3685b>\u001b[0m in \u001b[0;36m<module>\u001b[0;34m()\u001b[0m\n\u001b[1;32m     34\u001b[0m \u001b[0mprint\u001b[0m\u001b[0;34m(\u001b[0m\u001b[0;34m\"Grid best score: \"\u001b[0m\u001b[0;34m,\u001b[0m\u001b[0mgrid\u001b[0m\u001b[0;34m.\u001b[0m\u001b[0mbest_score_\u001b[0m\u001b[0;34m)\u001b[0m\u001b[0;34m\u001b[0m\u001b[0m\n\u001b[1;32m     35\u001b[0m \u001b[0mprint\u001b[0m\u001b[0;34m(\u001b[0m\u001b[0;34m\"testing SGD classifier accuracy...\"\u001b[0m\u001b[0;34m)\u001b[0m\u001b[0;34m\u001b[0m\u001b[0m\n\u001b[0;32m---> 36\u001b[0;31m \u001b[0mprint\u001b[0m\u001b[0;34m(\u001b[0m\u001b[0msgd_clf\u001b[0m\u001b[0;34m.\u001b[0m\u001b[0mscore\u001b[0m\u001b[0;34m(\u001b[0m\u001b[0mX_test\u001b[0m\u001b[0;34m,\u001b[0m \u001b[0my_test\u001b[0m\u001b[0;34m,\u001b[0m\u001b[0msample_weight\u001b[0m\u001b[0;34m=\u001b[0m\u001b[0;32mNone\u001b[0m\u001b[0;34m)\u001b[0m\u001b[0;34m)\u001b[0m\u001b[0;34m\u001b[0m\u001b[0m\n\u001b[0m\u001b[1;32m     37\u001b[0m \u001b[0mprint\u001b[0m\u001b[0;34m(\u001b[0m\u001b[0;34m\"Test accuracy done in %0.3fs\"\u001b[0m \u001b[0;34m%\u001b[0m \u001b[0;34m(\u001b[0m\u001b[0mtime\u001b[0m\u001b[0;34m(\u001b[0m\u001b[0;34m)\u001b[0m \u001b[0;34m-\u001b[0m \u001b[0mt0\u001b[0m\u001b[0;34m)\u001b[0m\u001b[0;34m)\u001b[0m\u001b[0;34m\u001b[0m\u001b[0m\n\u001b[1;32m     38\u001b[0m \u001b[0mprint\u001b[0m\u001b[0;34m(\u001b[0m\u001b[0;34m\"Total time: %0.3fs\"\u001b[0m \u001b[0;34m%\u001b[0m \u001b[0;34m(\u001b[0m\u001b[0mtime\u001b[0m\u001b[0;34m(\u001b[0m\u001b[0;34m)\u001b[0m \u001b[0;34m-\u001b[0m \u001b[0mt00\u001b[0m\u001b[0;34m)\u001b[0m\u001b[0;34m)\u001b[0m\u001b[0;34m\u001b[0m\u001b[0m\n",
      "\u001b[0;31mNameError\u001b[0m: name 'sgd_clf' is not defined"
     ]
    }
   ],
   "source": [
    "#Grid search with Pipeline\n",
    "from sklearn.model_selection import GridSearchCV\n",
    "from sklearn.svm import SVC\n",
    "from sklearn.pipeline import Pipeline\n",
    "from sklearn.preprocessing import StandardScaler\n",
    "from sklearn.svm import LinearSVC\n",
    "\n",
    "poly_svc_pipe = Pipeline([\n",
    "        (\"scaler\", StandardScaler()),\n",
    "        (\"svm_clf\", SVC(kernel=\"poly\"))\n",
    "    ])\n",
    "\n",
    "# param_grid = [{\n",
    "#              'svm_clf__C': [0.01, 0.1,  1.0], \n",
    "#              'svm_clf__degree': [3, 4, 5],\n",
    "#               }]\n",
    "\n",
    "param_grid = [{\n",
    "             'svm_clf__C': [0.1], \n",
    "             'svm_clf__degree': [3, 5],\n",
    "              }]\n",
    "    \n",
    "t0 = time()  \n",
    "t00 = t0\n",
    "\n",
    "print(\"PIPE SVM Poly Classifier wity Standard Scaler \", poly_svc_pipe)  \n",
    "\n",
    "\n",
    "grid = GridSearchCV(poly_svc_pipe, cv=3,verbose=3, param_grid=param_grid)\n",
    "grid.fit(X_train, y_train)\n",
    "print(\"Fit done in %0.3fs\" % (time() - t0))\n",
    "t0 = time()    \n",
    "\n"
   ]
  },
  {
   "cell_type": "code",
   "execution_count": 18,
   "metadata": {
    "colab": {
     "autoexec": {
      "startup": false,
      "wait_interval": 0
     },
     "base_uri": "https://localhost:8080/",
     "height": 119,
     "output_extras": [
      {
       "item_id": 2
      }
     ]
    },
    "colab_type": "code",
    "executionInfo": {
     "elapsed": 142577,
     "status": "ok",
     "timestamp": 1519329370298,
     "user": {
      "displayName": "Remis Norvilis",
      "photoUrl": "//lh3.googleusercontent.com/-O0-ylirPmAU/AAAAAAAAAAI/AAAAAAAAABE/MxrEW2irWAk/s50-c-k-no/photo.jpg",
      "userId": "104740973963326129119"
     },
     "user_tz": 0
    },
    "id": "m3O8fgY3DhuB",
    "outputId": "6ed547e6-59db-48e6-f673-e5283259b8bc"
   },
   "outputs": [
    {
     "name": "stdout",
     "output_type": "stream",
     "text": [
      "Grid best params:  {'svm_clf__C': 0.1, 'svm_clf__degree': 3}\n",
      "Grid best score:  0.6535057366599891\n",
      "testing SGD classifier accuracy...\n",
      "0.5372281093139989\n",
      "Test accuracy done in 581.761s\n",
      "Total time: 5776.186s\n"
     ]
    }
   ],
   "source": [
    "print(\"Grid best params: \",grid.best_params_)\n",
    "print(\"Grid best score: \",grid.best_score_)\n",
    "print(\"testing SGD classifier accuracy...\")\n",
    "print(grid.score(X_test, y_test))\n",
    "print(\"Test accuracy done in %0.3fs\" % (time() - t0))\n",
    "print(\"Total time: %0.3fs\" % (time() - t00))   \n",
    "\n"
   ]
  },
  {
   "cell_type": "code",
   "execution_count": 0,
   "metadata": {
    "colab": {
     "autoexec": {
      "startup": false,
      "wait_interval": 0
     }
    },
    "colab_type": "code",
    "id": "b6gjkMQzE35i"
   },
   "outputs": [],
   "source": [
    "# #cross-validation using K-fold with n folds\n",
    "# from sklearn.model_selection import cross_val_score\n",
    "# # Cross-validate  accuracy using cross_val_score()\n",
    "# print(\"Cross validation = \",cross_val_score(grid, X_train, y_train, cv=3, scoring=\"accuracy\"))\n",
    "# print(\"Cross Validation done in %0.3fs\" % (time() - t0))\n",
    "# t0 = time() "
   ]
  },
  {
   "cell_type": "code",
   "execution_count": 0,
   "metadata": {
    "colab": {
     "autoexec": {
      "startup": false,
      "wait_interval": 0
     }
    },
    "colab_type": "code",
    "id": "nCucrtIgGBJ8"
   },
   "outputs": [],
   "source": [
    "poly_svc_pipe = Pipeline([\n",
    "        (\"scaler\", StandardScaler()),\n",
    "        (\"svm_clf\", SVC(kernel=\"poly\",probability=True))\n",
    "    ])\n",
    "\n",
    "# param_grid = [{\n",
    "#              'svm_clf__C': [0.01, 0.1,  1.0], \n",
    "#              'svm_clf__degree': [3, 4, 5],\n",
    "#               }]\n",
    "\n",
    "param_grid = [{\n",
    "             'svm_clf__C': [0.01], \n",
    "             'svm_clf__degree': [3, 4, 5],\n",
    "              }]\n",
    "    \n",
    "t0 = time()  \n",
    "t00 = t0\n",
    "\n",
    "print(\"PIPE SVM Poly Classifier wity Standard Scaler \", poly_svc_pipe)  \n",
    "\n",
    "\n",
    "grid = GridSearchCV(poly_svc_pipe, cv=3,verbose=3, param_grid=param_grid)\n",
    "grid.fit(X_train, y_train)\n",
    "print(\"Fit done in %0.3fs\" % (time() - t0))\n",
    "t0 = time()    \n",
    "\n",
    "print(\"Grid best params: \",grid.best_params_)\n",
    "print(\"Grid best score: \",grid.best_score_)\n",
    "print(\"testing SGD classifier accuracy...\")\n",
    "print(grid.score(X_test, y_test))\n",
    "print(\"Test accuracy done in %0.3fs\" % (time() - t0))\n",
    "print(\"Total time: %0.3fs\" % (time() - t00))   \n",
    "\n",
    "# #cross-validation using K-fold with n folds\n",
    "# from sklearn.model_selection import cross_val_score\n",
    "# # Cross-validate  accuracy using cross_val_score()\n",
    "# print(\"Cross validation = \",cross_val_score(grid, X_train, y_train, cv=3, scoring=\"accuracy\"))\n",
    "# print(\"Cross Validation done in %0.3fs\" % (time() - t0))\n",
    "# t0 = time() \n"
   ]
  },
  {
   "cell_type": "code",
   "execution_count": 0,
   "metadata": {
    "colab": {
     "autoexec": {
      "startup": false,
      "wait_interval": 0
     }
    },
    "colab_type": "code",
    "id": "1Eg8voD8FrjM"
   },
   "outputs": [],
   "source": [
    "poly_svc_pipe = Pipeline([\n",
    "        (\"scaler\", StandardScaler()),\n",
    "        (\"svm_clf\", SVC(kernel=\"poly\",probability=True))\n",
    "    ])\n",
    "\n",
    "# param_grid = [{\n",
    "#              'svm_clf__C': [0.01, 0.1,  1.0], \n",
    "#              'svm_clf__degree': [3, 4, 5],\n",
    "#               }]\n",
    "\n",
    "param_grid = [{\n",
    "             'svm_clf__C': [1.0], \n",
    "             'svm_clf__degree': [3, 4, 5],\n",
    "             'coef0': [-0.1, 0.0, 0.1],\n",
    "              }]\n",
    "    \n",
    "t0 = time()  \n",
    "t00 = t0\n",
    "\n",
    "print(\"PIPE SVM Poly Classifier wity Standard Scaler \", poly_svc_pipe)  \n",
    "\n",
    "\n",
    "grid = GridSearchCV(poly_svc_pipe, cv=3,verbose=3, param_grid=param_grid)\n",
    "grid.fit(X_train, y_train)\n",
    "print(\"Fit done in %0.3fs\" % (time() - t0))\n",
    "t0 = time()    \n",
    "\n",
    "print(\"Grid best params: \",grid.best_params_)\n",
    "print(\"Grid best score: \",grid.best_score_)\n",
    "print(\"testing SGD classifier accuracy...\")\n",
    "print(grid.score(X_test, y_test))\n",
    "print(\"Test accuracy done in %0.3fs\" % (time() - t0))\n",
    "print(\"Total time: %0.3fs\" % (time() - t00))   \n",
    "\n",
    "# #cross-validation using K-fold with n folds\n",
    "# from sklearn.model_selection import cross_val_score\n",
    "# # Cross-validate  accuracy using cross_val_score()\n",
    "# print(\"Cross validation = \",cross_val_score(grid, X_train, y_train, cv=3, scoring=\"accuracy\"))\n",
    "# print(\"Cross Validation done in %0.3fs\" % (time() - t0))\n",
    "# t0 = time() \n"
   ]
  },
  {
   "cell_type": "code",
   "execution_count": 0,
   "metadata": {
    "colab": {
     "autoexec": {
      "startup": false,
      "wait_interval": 0
     }
    },
    "colab_type": "code",
    "id": "6IAmPWrEGLUM"
   },
   "outputs": [],
   "source": []
  },
  {
   "cell_type": "code",
   "execution_count": 0,
   "metadata": {
    "colab": {
     "autoexec": {
      "startup": false,
      "wait_interval": 0
     }
    },
    "colab_type": "code",
    "id": "cXlx_zBlbgiW"
   },
   "outputs": [],
   "source": [
    "##STOP"
   ]
  },
  {
   "cell_type": "markdown",
   "metadata": {
    "colab_type": "text",
    "id": "sMQxQhA2OqLG"
   },
   "source": [
    "# SGDClassifier"
   ]
  },
  {
   "cell_type": "code",
   "execution_count": 7,
   "metadata": {
    "colab": {
     "autoexec": {
      "startup": false,
      "wait_interval": 0
     },
     "base_uri": "https://localhost:8080/",
     "height": 221,
     "output_extras": [
      {
       "item_id": 3
      }
     ]
    },
    "colab_type": "code",
    "executionInfo": {
     "elapsed": 151979,
     "status": "ok",
     "timestamp": 1519248125929,
     "user": {
      "displayName": "Remis Norvilis",
      "photoUrl": "//lh3.googleusercontent.com/-O0-ylirPmAU/AAAAAAAAAAI/AAAAAAAAABE/MxrEW2irWAk/s50-c-k-no/photo.jpg",
      "userId": "104740973963326129119"
     },
     "user_tz": 0
    },
    "id": "6Mlvqpa1OqLH",
    "outputId": "2cdf31c4-d860-45a2-f096-b057e5537cbd"
   },
   "outputs": [
    {
     "name": "stdout",
     "output_type": "stream",
     "text": [
      "SGDClassifier  SGDClassifier(alpha=0.01, average=True, class_weight='balanced', epsilon=1.0,\n",
      "       eta0=0.001, fit_intercept=True, l1_ratio=0.15,\n",
      "       learning_rate='optimal', loss='hinge', max_iter=43, n_iter=None,\n",
      "       n_jobs=-1, penalty='l2', power_t=0.5, random_state=42, shuffle=True,\n",
      "       tol=None, verbose=0, warm_start=False)\n",
      "Fit done in 51.058s\n",
      "Cross validation =  [0.91879502 0.92198427 0.91467017]\n",
      "Cross Validation done in 100.199s\n",
      "testing SGD classifier accuracy...\n",
      "0.67930842163971\n",
      "Test accuracy done in 0.049s\n",
      "Total time: 151.307s\n"
     ]
    }
   ],
   "source": [
    "from sklearn.linear_model import SGDClassifier\n",
    "\n",
    "t0 = time()\n",
    "t00 = t0\n",
    "sgd_clf = SGDClassifier(alpha=0.01, average=True, class_weight= 'balanced', epsilon=1.0,\n",
    "       eta0=0.001, fit_intercept=True, l1_ratio=0.15,\n",
    "       learning_rate='optimal', loss='hinge', max_iter=43,\n",
    "       n_jobs=-1, penalty='l2', power_t=0.5, random_state=42, shuffle=True,\n",
    "       tol=None, verbose=0, warm_start=False)\n",
    "                        \n",
    "print(\"SGDClassifier \", sgd_clf)   \n",
    "                        \n",
    "# train for multi-class classification\n",
    "sgd_clf.fit(X_train, y_train)\n",
    "print(\"Fit done in %0.3fs\" % (time() - t0))\n",
    "t0 = time()                       \n",
    "                        \n",
    "#cross-validation using K-fold with n folds\n",
    "from sklearn.model_selection import cross_val_score\n",
    "# Cross-validate SGDClassifier accuracy using cross_val_score()\n",
    "print(\"Cross validation = \",cross_val_score(sgd_clf, X_train, y_train, cv=3, scoring=\"accuracy\"))\n",
    "print(\"Cross Validation done in %0.3fs\" % (time() - t0))\n",
    "t0 = time()                         \n",
    "                        \n",
    "print(\"testing SGD classifier accuracy...\")\n",
    "print(sgd_clf.score(X_test, y_test,sample_weight=None))\n",
    "print(\"Test accuracy done in %0.3fs\" % (time() - t0))\n",
    "print(\"Total time: %0.3fs\" % (time() - t00))   "
   ]
  },
  {
   "cell_type": "code",
   "execution_count": 0,
   "metadata": {
    "colab": {
     "autoexec": {
      "startup": false,
      "wait_interval": 0
     }
    },
    "colab_type": "code",
    "id": "dAfW0EItFaQo"
   },
   "outputs": [],
   "source": []
  },
  {
   "cell_type": "code",
   "execution_count": 0,
   "metadata": {
    "colab": {
     "autoexec": {
      "startup": false,
      "wait_interval": 0
     }
    },
    "colab_type": "code",
    "id": "O7w_cOJaFONJ"
   },
   "outputs": [],
   "source": []
  },
  {
   "cell_type": "markdown",
   "metadata": {
    "colab_type": "text",
    "id": "_hOS5-oZOqLK"
   },
   "source": [
    "# Non-Linear SVM with Polynomial kernel\n"
   ]
  },
  {
   "cell_type": "code",
   "execution_count": 8,
   "metadata": {
    "colab": {
     "autoexec": {
      "startup": false,
      "wait_interval": 0
     },
     "base_uri": "https://localhost:8080/",
     "height": 221,
     "output_extras": [
      {
       "item_id": 4
      }
     ]
    },
    "colab_type": "code",
    "executionInfo": {
     "elapsed": 716007,
     "status": "ok",
     "timestamp": 1519248841965,
     "user": {
      "displayName": "Remis Norvilis",
      "photoUrl": "//lh3.googleusercontent.com/-O0-ylirPmAU/AAAAAAAAAAI/AAAAAAAAABE/MxrEW2irWAk/s50-c-k-no/photo.jpg",
      "userId": "104740973963326129119"
     },
     "user_tz": 0
    },
    "id": "sr3l0W7LOqLL",
    "outputId": "1e9a86f4-cb09-4a7d-9df6-6acf88d46a0f"
   },
   "outputs": [
    {
     "name": "stdout",
     "output_type": "stream",
     "text": [
      "SVM Poly Classifier wity Standard Scaler  Pipeline(memory=None,\n",
      "     steps=[('scaler', StandardScaler(copy=True, with_mean=True, with_std=True)), ('svm_clf', SVC(C=24, cache_size=200, class_weight=None, coef0=0.0,\n",
      "  decision_function_shape='ovr', degree=2, gamma='auto', kernel='poly',\n",
      "  max_iter=-1, probability=False, random_state=None, shrinking=True,\n",
      "  tol=0.001, verbose=False))])\n",
      "Fit done in 199.162s\n",
      "Cross validation =  [1. 1. 1.]\n",
      "Cross Validation done in 478.972s\n",
      "testing classifier accuracy...\n",
      "0.8531790295593976\n",
      "Test accuracy done in 37.378s\n",
      "Total time: 715.513s\n"
     ]
    }
   ],
   "source": [
    "#Plynomial Kernel - a kernel trick to use polynomial fitting without running our of memory\n",
    "from sklearn.svm import SVC\n",
    "from sklearn.pipeline import Pipeline\n",
    "from sklearn.preprocessing import StandardScaler\n",
    "from sklearn.svm import LinearSVC\n",
    "\n",
    "t0 = time()  \n",
    "t00 = t0\n",
    "poly_kernel_svm_clf = Pipeline([\n",
    "        (\"scaler\", StandardScaler()),\n",
    "        (\"svm_clf\", SVC(kernel=\"poly\", degree=2, C=24 ))\n",
    "    ])\n",
    "print(\"SVM Poly Classifier wity Standard Scaler \", poly_kernel_svm_clf)  \n",
    "\n",
    "poly_kernel_svm_clf.fit(X_train, y_train)\n",
    "print(\"Fit done in %0.3fs\" % (time() - t0))\n",
    "t0 = time()                       \n",
    "\n",
    "#cross-validation using K-fold with n folds\n",
    "from sklearn.model_selection import cross_val_score\n",
    "# Cross-validate  accuracy using cross_val_score()\n",
    "print(\"Cross validation = \",cross_val_score(poly_kernel_svm_clf, X_train, y_train, cv=3, scoring=\"accuracy\"))\n",
    "print(\"Cross Validation done in %0.3fs\" % (time() - t0))\n",
    "t0 = time()             \n",
    "\n",
    "print(\"testing classifier accuracy...\")\n",
    "print(poly_kernel_svm_clf.score(X_test, y_test,sample_weight=None))\n",
    "print(\"Test accuracy done in %0.3fs\" % (time() - t0))\n",
    "print(\"Total time: %0.3fs\" % (time() - t00))            "
   ]
  },
  {
   "cell_type": "markdown",
   "metadata": {
    "colab_type": "text",
    "id": "82zZBTR0OqLT"
   },
   "source": [
    "# kNN Classifier with Standard Scaler"
   ]
  },
  {
   "cell_type": "code",
   "execution_count": 9,
   "metadata": {
    "colab": {
     "autoexec": {
      "startup": false,
      "wait_interval": 0
     },
     "base_uri": "https://localhost:8080/",
     "height": 224,
     "output_extras": [
      {
       "item_id": 4
      }
     ]
    },
    "colab_type": "code",
    "executionInfo": {
     "elapsed": 728062,
     "status": "ok",
     "timestamp": 1519249570042,
     "user": {
      "displayName": "Remis Norvilis",
      "photoUrl": "//lh3.googleusercontent.com/-O0-ylirPmAU/AAAAAAAAAAI/AAAAAAAAABE/MxrEW2irWAk/s50-c-k-no/photo.jpg",
      "userId": "104740973963326129119"
     },
     "user_tz": 0
    },
    "id": "fJDxUbiXOqLX",
    "outputId": "0f29eb1d-8981-4bdb-b70d-637b7a4f8812"
   },
   "outputs": [
    {
     "name": "stdout",
     "output_type": "stream",
     "text": [
      "kNN Classifier  Pipeline(memory=None,\n",
      "     steps=[('scaler', StandardScaler(copy=True, with_mean=True, with_std=True)), ('knnclf', KNeighborsClassifier(algorithm='auto', leaf_size=30, metric='minkowski',\n",
      "           metric_params=None, n_jobs=-1, n_neighbors=4, p=1,\n",
      "           weights='distance'))])\n",
      "Fit done in 2.755s\n",
      "Cross validation =  [0.98941279 0.99071241 0.98796631]\n",
      "Cross Validation done in 507.361s\n",
      "testing classifier accuracy...\n",
      "0.8153931957612939\n",
      "Test accuracy done in 217.444s\n",
      "Total time: 727.561s\n"
     ]
    }
   ],
   "source": [
    "### KNN Classifier\n",
    "from sklearn.neighbors import KNeighborsClassifier\n",
    "\n",
    "t0 = time()  \n",
    "t00 = t0\n",
    "#knn_clf = KNeighborsClassifier(n_jobs=-1, weights='distance', n_neighbors=4, leaf_size=30, p=1 )\n",
    "knn_clf = Pipeline([\n",
    "        (\"scaler\", StandardScaler()),\n",
    "        (\"knnclf\", KNeighborsClassifier(n_jobs=-1, weights='distance', n_neighbors=4, leaf_size=30, p=1 ))\n",
    "    ])\n",
    "print(\"kNN Classifier \", knn_clf)  \n",
    "\n",
    "knn_clf.fit(X_train, y_train)\n",
    "print(\"Fit done in %0.3fs\" % (time() - t0))\n",
    "t0 = time()  \n",
    "\n",
    "#cross-validation using K-fold with n folds\n",
    "from sklearn.model_selection import cross_val_score\n",
    "# Cross-validate  accuracy using cross_val_score()\n",
    "print(\"Cross validation = \",cross_val_score(knn_clf, X_train, y_train, cv=3, scoring=\"accuracy\"))\n",
    "print(\"Cross Validation done in %0.3fs\" % (time() - t0))\n",
    "t0 = time()             \n",
    "\n",
    "print(\"testing classifier accuracy...\")\n",
    "print(knn_clf.score(X_test, y_test,sample_weight=None))\n",
    "print(\"Test accuracy done in %0.3fs\" % (time() - t0))\n",
    "print(\"Total time: %0.3fs\" % (time() - t00))            "
   ]
  },
  {
   "cell_type": "markdown",
   "metadata": {
    "colab_type": "text",
    "id": "A0WXmV9lOqLa"
   },
   "source": [
    "# Random Forest Classifier with Standard Scaler"
   ]
  },
  {
   "cell_type": "code",
   "execution_count": 10,
   "metadata": {
    "colab": {
     "autoexec": {
      "startup": false,
      "wait_interval": 0
     },
     "base_uri": "https://localhost:8080/",
     "height": 275,
     "output_extras": [
      {
       "item_id": 4
      }
     ]
    },
    "colab_type": "code",
    "executionInfo": {
     "elapsed": 247253,
     "status": "ok",
     "timestamp": 1519249817317,
     "user": {
      "displayName": "Remis Norvilis",
      "photoUrl": "//lh3.googleusercontent.com/-O0-ylirPmAU/AAAAAAAAAAI/AAAAAAAAABE/MxrEW2irWAk/s50-c-k-no/photo.jpg",
      "userId": "104740973963326129119"
     },
     "user_tz": 0
    },
    "id": "rXG8Wda-OqLc",
    "outputId": "abfbc11b-10d7-49bb-ce33-a386c8194247"
   },
   "outputs": [
    {
     "name": "stdout",
     "output_type": "stream",
     "text": [
      "Random Forest Classifier  Pipeline(memory=None,\n",
      "     steps=[('scaler', StandardScaler(copy=True, with_mean=True, with_std=True)), ('rnd_for_clf', RandomForestClassifier(bootstrap=True, class_weight=None, criterion='gini',\n",
      "            max_depth=None, max_features=28, max_leaf_nodes=None,\n",
      "            min_impurity_decrease=0.0, min_impurity_split=None,\n",
      "            min_samples_leaf=1, min_samples_split=2,\n",
      "            min_weight_fraction_leaf=0.0, n_estimators=190, n_jobs=-1,\n",
      "            oob_score=False, random_state=42, verbose=0, warm_start=False))])\n",
      "Fit done in 79.894s\n",
      "Cross validation =  [0.99519756 0.9965035  0.99638989]\n",
      "Cross Validation done in 166.051s\n",
      "testing classifier accuracy...\n",
      "0.8197155605131066\n",
      "Test accuracy done in 0.767s\n",
      "Total time: 246.713s\n"
     ]
    }
   ],
   "source": [
    "from sklearn.ensemble import RandomForestClassifier\n",
    "from sklearn.pipeline import Pipeline\n",
    "\n",
    "t0 = time() \n",
    "t00 = t0\n",
    "rnd_clf = Pipeline([\n",
    "        (\"scaler\", StandardScaler()),\n",
    "        (\"rnd_for_clf\", RandomForestClassifier(max_features = 28, n_estimators=190, n_jobs=-1, random_state=42))\n",
    "    ])\n",
    "#rnd_clf = RandomForestClassifier(max_features = 28,n_estimators=190,n_jobs=-1,random_state=42)\n",
    "print(\"Random Forest Classifier \", rnd_clf)  \n",
    "\n",
    "rnd_clf.fit(X_train, y_train)\n",
    "print(\"Fit done in %0.3fs\" % (time() - t0))\n",
    "t0 = time()  \n",
    "\n",
    "#cross-validation using K-fold with n folds\n",
    "from sklearn.model_selection import cross_val_score\n",
    "# Cross-validate  accuracy using cross_val_score()\n",
    "print(\"Cross validation = \",cross_val_score(rnd_clf, X_train, y_train, cv=3, scoring=\"accuracy\"))\n",
    "print(\"Cross Validation done in %0.3fs\" % (time() - t0))\n",
    "t0 = time()             \n",
    "\n",
    "print(\"testing classifier accuracy...\")\n",
    "print(rnd_clf.score(X_test, y_test,sample_weight=None))\n",
    "print(\"Test accuracy done in %0.3fs\" % (time() - t0))\n",
    "print(\"Total time: %0.3fs\" % (time() - t00))            "
   ]
  },
  {
   "cell_type": "markdown",
   "metadata": {
    "colab_type": "text",
    "id": "0M131hSgOqLk"
   },
   "source": [
    "# Out-Of-Bag Ensemble"
   ]
  },
  {
   "cell_type": "code",
   "execution_count": 0,
   "metadata": {
    "colab": {
     "autoexec": {
      "startup": false,
      "wait_interval": 0
     }
    },
    "colab_type": "code",
    "id": "MU6ZCNYMOqLn"
   },
   "outputs": [],
   "source": [
    "# Out of bag Evaluation\n",
    "from sklearn.ensemble import BaggingClassifier\n",
    "from sklearn.tree import DecisionTreeClassifier\n",
    "\n",
    "t0 = time()  \n",
    "t00 = t0\n",
    "bag_clf = BaggingClassifier(\n",
    "    DecisionTreeClassifier(random_state=42), n_estimators=500,\n",
    "    bootstrap=True, n_jobs=-1, oob_score=True, random_state=42)\n",
    "print(\"Out-Of-Bag Classifier \", bag_clf)  \n",
    "\n",
    "bag_clf.fit(X_train, y_train)\n",
    "print(\"Fit done in %0.3fs\" % (time() - t0))\n",
    "t0 = time()  \n",
    "\n",
    "#cross-validation using K-fold with n folds\n",
    "# from sklearn.model_selection import cross_val_score\n",
    "# # Cross-validate  accuracy using cross_val_score()\n",
    "# print(\"Cross validation = \",cross_val_score(bag_clf, X_train, y_train, cv=3, scoring=\"accuracy\"))\n",
    "# print(\"Cross Validation done in %0.3fs\" % (time() - t0))\n",
    "# t0 = time()             \n",
    "\n",
    "print(\"testing classifier accuracy...\")\n",
    "print(bag_clf.score(X_test, y_test,sample_weight=None))\n",
    "print(\"Test accuracy done in %0.3fs\" % (time() - t0))\n",
    "print(\"Total time: %0.3fs\" % (time() - t00))            \n",
    "\n",
    "#from sklearn.metrics import accuracy_score\n",
    "#y_pred = bag_clf.predict(X_test)\n",
    "#print(\"Out of Bag Bagging Accuracy: \",accuracy_score(y_test, y_pred))"
   ]
  },
  {
   "cell_type": "markdown",
   "metadata": {
    "colab_type": "text",
    "id": "fjY0r15qOqLs"
   },
   "source": [
    "# Ensemble Learning - Soft Voting Classifier"
   ]
  },
  {
   "cell_type": "code",
   "execution_count": 0,
   "metadata": {
    "colab": {
     "autoexec": {
      "startup": false,
      "wait_interval": 0
     }
    },
    "colab_type": "code",
    "id": "U1HGeWxWOqLt"
   },
   "outputs": [],
   "source": [
    "from sklearn.ensemble import VotingClassifier\n",
    "\n",
    "t0 = time() \n",
    "t00 = t0\n",
    "voting_clf = VotingClassifier(estimators=[('sgd', sgd_clf),('svm', poly_kernel_svm_clf),\n",
    "                                          ('knn', knn_clf), ('rnd', rnd_clf), ('oob', bag_clf)],\n",
    "                                          voting='soft',n_jobs=-1)\n",
    "print(\"Voting Classifier \", voting_clf)  \n",
    "\n",
    "voting_clf.fit(X_train, y_train)\n",
    "print(\"Fit done in %0.3fs\" % (time() - t0))\n",
    "t0 = time() \n",
    "\n",
    "#cross-validation using K-fold with n folds\n",
    "from sklearn.model_selection import cross_val_score\n",
    "# Cross-validate  accuracy using cross_val_score()\n",
    "print(\"Cross validation = \",cross_val_score(voting_clf, X_train, y_train, cv=3, scoring=\"accuracy\"))\n",
    "print(\"Cross Validation done in %0.3fs\" % (time() - t0))\n",
    "t0 = time()             \n",
    "\n",
    "print(\"testing classifier accuracy...\")\n",
    "print(voting_clf.score(X_test, y_test,sample_weight=None))\n",
    "print(\"Test accuracy done in %0.3fs\" % (time() - t0))\n",
    "print(\"Total time: %0.3fs\" % (time() - t00))            \n",
    "\n",
    "#y_pred = voting_clf.predict(X_test)\n",
    "#print(voting_clf.__class__.__name__, accuracy_score(y_test, y_pred))"
   ]
  },
  {
   "cell_type": "markdown",
   "metadata": {
    "colab_type": "text",
    "id": "YfBYKGAfOqL2"
   },
   "source": [
    "# ERROR ANALYSIS"
   ]
  },
  {
   "cell_type": "code",
   "execution_count": 0,
   "metadata": {
    "colab": {
     "autoexec": {
      "startup": false,
      "wait_interval": 0
     }
    },
    "colab_type": "code",
    "id": "MRwXBw-6OqL3"
   },
   "outputs": [],
   "source": [
    "from sklearn.model_selection import cross_val_predict\n",
    "from sklearn.metrics import confusion_matrix\n",
    "#calculaing confusion matrix for SGDClassifier\n",
    "y_train_pred = cross_val_predict(sgd_clf, X_train, y_train, cv=3)\n",
    "conf_mx = confusion_matrix(y_train, y_train_pred)\n",
    "conf_mx"
   ]
  },
  {
   "cell_type": "code",
   "execution_count": 0,
   "metadata": {
    "colab": {
     "autoexec": {
      "startup": false,
      "wait_interval": 0
     }
    },
    "colab_type": "code",
    "id": "OUf2hyiSOqL7"
   },
   "outputs": [],
   "source": [
    "# plotting confusion matrix\n",
    "plt.matshow(conf_mx, cmap=plt.cm.gray)\n",
    "plt.show()"
   ]
  },
  {
   "cell_type": "code",
   "execution_count": 0,
   "metadata": {
    "colab": {
     "autoexec": {
      "startup": false,
      "wait_interval": 0
     }
    },
    "colab_type": "code",
    "id": "HN-2qijrOqL9"
   },
   "outputs": [],
   "source": [
    "#comparing error rates rather than absolute number of erors\n",
    "row_sums = conf_mx.sum(axis=1, keepdims=True)\n",
    "norm_conf_mx = conf_mx / row_sums"
   ]
  },
  {
   "cell_type": "code",
   "execution_count": 0,
   "metadata": {
    "colab": {
     "autoexec": {
      "startup": false,
      "wait_interval": 0
     }
    },
    "colab_type": "code",
    "id": "pz1gVy28OqME"
   },
   "outputs": [],
   "source": [
    "np.fill_diagonal(norm_conf_mx, 0)\n",
    "#plt.figure(figsize=(10, 10))\n",
    "plt.matshow(norm_conf_mx, cmap=plt.cm.gray)\n",
    "#save_fig(\"confusion_matrix_errors_plot\", tight_layout=False)\n",
    "plt.show()\n"
   ]
  },
  {
   "cell_type": "code",
   "execution_count": 0,
   "metadata": {
    "colab": {
     "autoexec": {
      "startup": false,
      "wait_interval": 0
     }
    },
    "colab_type": "code",
    "id": "OCy999BDOqMJ"
   },
   "outputs": [],
   "source": [
    "## Other way to get accuracy metrics with predict function\n",
    "y_pred = sgd_clf.predict(X_test)"
   ]
  },
  {
   "cell_type": "code",
   "execution_count": 0,
   "metadata": {
    "colab": {
     "autoexec": {
      "startup": false,
      "wait_interval": 0
     }
    },
    "colab_type": "code",
    "id": "WFqfk3VCOqMN"
   },
   "outputs": [],
   "source": [
    "from sklearn.metrics import accuracy_score\n",
    "score = accuracy_score(y_test, y_pred)\n",
    "print(\" SGDClassifier accuracy is \", score)"
   ]
  },
  {
   "cell_type": "code",
   "execution_count": 0,
   "metadata": {
    "colab": {
     "autoexec": {
      "startup": false,
      "wait_interval": 0
     }
    },
    "colab_type": "code",
    "id": "xggHsbAuOqMQ"
   },
   "outputs": [],
   "source": [
    "### KNN Classifier\n",
    "from sklearn.neighbors import KNeighborsClassifier\n",
    "knn_clf = KNeighborsClassifier(n_jobs=-1, weights='distance', n_neighbors=4)\n",
    "knn_clf.fit(X_train, y_train)"
   ]
  },
  {
   "cell_type": "code",
   "execution_count": 0,
   "metadata": {
    "colab": {
     "autoexec": {
      "startup": false,
      "wait_interval": 0
     }
    },
    "colab_type": "code",
    "id": "FeCfp3eAOqMS"
   },
   "outputs": [],
   "source": [
    "# test KNN classifier\n",
    "y_knn_pred = knn_clf.predict(X_test)"
   ]
  },
  {
   "cell_type": "code",
   "execution_count": 0,
   "metadata": {
    "colab": {
     "autoexec": {
      "startup": false,
      "wait_interval": 0
     }
    },
    "colab_type": "code",
    "id": "K-yzNEC-OqMX"
   },
   "outputs": [],
   "source": [
    "from sklearn.metrics import accuracy_score\n",
    "accuracy_score(y_test, y_knn_pred)"
   ]
  },
  {
   "cell_type": "code",
   "execution_count": 0,
   "metadata": {
    "colab": {
     "autoexec": {
      "startup": false,
      "wait_interval": 0
     }
    },
    "colab_type": "code",
    "id": "x62gsMZHOqMa"
   },
   "outputs": [],
   "source": [
    "y_pred = knn_clf.predict(X_train)\n",
    "accuracy_score(y_train, y_pred)"
   ]
  },
  {
   "cell_type": "code",
   "execution_count": 0,
   "metadata": {
    "colab": {
     "autoexec": {
      "startup": false,
      "wait_interval": 0
     }
    },
    "colab_type": "code",
    "id": "yw1KWXj4OqMc"
   },
   "outputs": [],
   "source": [
    "## GRID SEARCH FOR BEST HYPERPARAMETERS\n",
    "from sklearn.model_selection import GridSearchCV\n",
    "\n",
    "param_grid = [{\n",
    "  #           'alpha': [0.0001, 0.001, 0.01], \n",
    "  #           'epsilon': [1.0, 0.1, 0.01]\n",
    "   #            'algorithm': [\"auto\", \"ball_tree\",\"kd_tree\",\"brute\"],\n",
    "              'n_neighbors':[4, 5, 6], \n",
    "               'leaf_size':[5, 15, 30, 50]\n",
    "              }]\n",
    "\n",
    "knn_clf_turbo = KNeighborsClassifier(n_jobs=-1, weights='distance')\n",
    "grid_search = GridSearchCV(knn_clf_turbo, param_grid, cv=3, verbose=3, n_jobs=-1)\n",
    "grid_search.fit(X_train, y_train)\n",
    "\n",
    "#print(\"testing SGD classifier accuracy...\")\n",
    "#sgd_clf.score(X_test, y_test,sample_weight=None)"
   ]
  },
  {
   "cell_type": "code",
   "execution_count": 0,
   "metadata": {
    "colab": {
     "autoexec": {
      "startup": false,
      "wait_interval": 0
     }
    },
    "colab_type": "code",
    "id": "GCKuDi9lOqMd"
   },
   "outputs": [],
   "source": [
    "grid_search.score(X_test, y_test)"
   ]
  },
  {
   "cell_type": "code",
   "execution_count": 0,
   "metadata": {
    "colab": {
     "autoexec": {
      "startup": false,
      "wait_interval": 0
     }
    },
    "colab_type": "code",
    "id": "kDyH4Da8OqMk"
   },
   "outputs": [],
   "source": [
    "grid_search.best_params_"
   ]
  },
  {
   "cell_type": "code",
   "execution_count": 0,
   "metadata": {
    "colab": {
     "autoexec": {
      "startup": false,
      "wait_interval": 0
     }
    },
    "colab_type": "code",
    "id": "_NtN7lGuOqMp"
   },
   "outputs": [],
   "source": [
    "grid_search.best_score_"
   ]
  },
  {
   "cell_type": "code",
   "execution_count": 0,
   "metadata": {
    "colab": {
     "autoexec": {
      "startup": false,
      "wait_interval": 0
     }
    },
    "colab_type": "code",
    "id": "JuFuSbHeOqMr"
   },
   "outputs": [],
   "source": []
  },
  {
   "cell_type": "code",
   "execution_count": 0,
   "metadata": {
    "colab": {
     "autoexec": {
      "startup": false,
      "wait_interval": 0
     }
    },
    "colab_type": "code",
    "id": "WCB_zSVAOqMu"
   },
   "outputs": [],
   "source": [
    "cvres = grid_search.cv_results_\n",
    "for mean_score, params in zip(cvres[\"mean_test_score\"], cvres[\"params\"]):\n",
    "    print(np.sqrt(-mean_score), params)"
   ]
  },
  {
   "cell_type": "code",
   "execution_count": 0,
   "metadata": {
    "colab": {
     "autoexec": {
      "startup": false,
      "wait_interval": 0
     }
    },
    "colab_type": "code",
    "id": "jURxLHjROqMw"
   },
   "outputs": [],
   "source": [
    "# manually verfiy KNN classifiers for best test accuracy\n",
    "knn_clf = KNeighborsClassifier(n_jobs=-1, weights='distance', n_neighbors=4, leaf_size=30, p=1 )\n",
    "knn_clf.fit(X_train, y_train)\n",
    "# test KNN classifier\n",
    "y_knn_pred = knn_clf.predict(X_test)\n",
    "accuracy_score(y_test, y_knn_pred)\n"
   ]
  },
  {
   "cell_type": "code",
   "execution_count": 0,
   "metadata": {
    "colab": {
     "autoexec": {
      "startup": false,
      "wait_interval": 0
     }
    },
    "colab_type": "code",
    "id": "Q26FM1hJOqMz"
   },
   "outputs": [],
   "source": [
    "## GRID SEARCH FOR BEST HYPERPARAMETERS\n",
    "\n",
    "from sklearn.model_selection import GridSearchCV\n",
    "\n",
    "param_grid = [{\n",
    "  #           'alpha': [0.0001, 0.001, 0.01], \n",
    "  #           'epsilon': [1.0, 0.1, 0.01]\n",
    "  #             'loss': [\"hinge\", \"log\",\"modified_huber\",\"squared_hinge\",\"perceptron\"],\n",
    "              'max_iter':[40, 45, 50, 55, 60], \n",
    "    'penalty':[\"none\", \"l2\", \"l1\", \"elasticnet\"],\n",
    "  #             'power_t':[0.1, 0.5, 1.0]\n",
    "              }]\n",
    "\n",
    "sgd_clf_turbo = SGDClassifier(random_state = 42, n_jobs=-1,alpha= 0.01, epsilon= 1.0) #use all cpu cores\n",
    "grid_search = GridSearchCV(sgd_clf_turbo, param_grid, cv=3, verbose=3, n_jobs=-1)\n",
    "grid_search.fit(X_train, y_train)\n",
    "\n",
    "#print(\"testing SGD classifier accuracy...\")\n",
    "#sgd_clf.score(X_test, y_test,sample_weight=None)"
   ]
  },
  {
   "cell_type": "code",
   "execution_count": 0,
   "metadata": {
    "colab": {
     "autoexec": {
      "startup": false,
      "wait_interval": 0
     }
    },
    "colab_type": "code",
    "id": "r8nFuqiDOqM3"
   },
   "outputs": [],
   "source": [
    "grid_search.score(X_test, y_test)"
   ]
  },
  {
   "cell_type": "code",
   "execution_count": 0,
   "metadata": {
    "colab": {
     "autoexec": {
      "startup": false,
      "wait_interval": 0
     }
    },
    "colab_type": "code",
    "id": "7c_xhjtpOqM7"
   },
   "outputs": [],
   "source": [
    "grid_search.best_params_"
   ]
  },
  {
   "cell_type": "code",
   "execution_count": 0,
   "metadata": {
    "colab": {
     "autoexec": {
      "startup": false,
      "wait_interval": 0
     }
    },
    "colab_type": "code",
    "id": "Gr9iQPPnOqM9"
   },
   "outputs": [],
   "source": [
    "grid_search.best_score_"
   ]
  },
  {
   "cell_type": "code",
   "execution_count": 0,
   "metadata": {
    "colab": {
     "autoexec": {
      "startup": false,
      "wait_interval": 0
     }
    },
    "colab_type": "code",
    "id": "J2NsGj6bOqM_"
   },
   "outputs": [],
   "source": [
    "from sklearn.metrics import accuracy_score\n",
    "\n",
    "y_pred = grid_search.predict(X_test)\n",
    "accuracy_score(y_test, y_pred)"
   ]
  },
  {
   "cell_type": "code",
   "execution_count": 0,
   "metadata": {
    "colab": {
     "autoexec": {
      "startup": false,
      "wait_interval": 0
     }
    },
    "colab_type": "code",
    "id": "CaKT0pKUOqND"
   },
   "outputs": [],
   "source": [
    "# test new hyperparameters\n",
    "sgd_clf2 = SGDClassifier(alpha=0.01, average=True, class_weight= 'balanced', epsilon=1.0,\n",
    "       eta0=0.001, fit_intercept=True, l1_ratio=0.15,\n",
    "       learning_rate='optimal', loss='hinge', max_iter=43,\n",
    "       n_jobs=-1, penalty='l2', power_t=0.5, random_state=42, shuffle=True,\n",
    "       tol=None, verbose=0, warm_start=False)\n",
    "# train for multi-class classification\n",
    "sgd_clf2.fit(X_train, y_train)\n",
    "print(\"testing SGD classifier accuracy...\")\n",
    "sgd_clf2.score(X_test, y_test,sample_weight=None)"
   ]
  },
  {
   "cell_type": "code",
   "execution_count": 0,
   "metadata": {
    "colab": {
     "autoexec": {
      "startup": false,
      "wait_interval": 0
     }
    },
    "colab_type": "code",
    "id": "LiGu9jQ3OqNG"
   },
   "outputs": [],
   "source": [
    "## Randomized Search\n",
    "\n",
    "from sklearn.model_selection import RandomizedSearchCV\n",
    "from scipy.stats import expon, reciprocal\n",
    "from scipy.stats import randint\n",
    "\n",
    "# see https://docs.scipy.org/doc/scipy-0.19.0/reference/stats.html\n",
    "# for `expon()` and `reciprocal()` documentation and more probability distribution functions.\n",
    "\n",
    "# Note: gamma is ignored when kernel is \"linear\"\n",
    "param_distribs = {\n",
    "        'penalty': ['l2', 'l1','elasticnet'],\n",
    "        #'alpha': randint(low=0.01, high=1.0),\n",
    "        'epsilon': reciprocal(0.001, 10.0),\n",
    "        'power_t': randint(low=0.01, high=10.0)\n",
    "    }\n",
    "\n",
    "sgd_clf_turbo2 = SGDClassifier(random_state = 42, n_jobs=-1, max_iter = 45) #use all cpu cores\n",
    "rnd_search = RandomizedSearchCV(sgd_clf_turbo2, param_distributions=param_distribs,\n",
    "                                n_iter=50, cv=5, scoring='neg_mean_squared_error',\n",
    "                                verbose=2, n_jobs=4, random_state=42)\n",
    "rnd_search.fit(X_train, y_train)\n"
   ]
  },
  {
   "cell_type": "code",
   "execution_count": 0,
   "metadata": {
    "colab": {
     "autoexec": {
      "startup": false,
      "wait_interval": 0
     }
    },
    "colab_type": "code",
    "id": "P6xRdRKzOqNK"
   },
   "outputs": [],
   "source": [
    "cvres = rnd_search.cv_results_\n",
    "for mean_score, params in zip(cvres[\"mean_test_score\"], cvres[\"params\"]):\n",
    "    print(np.sqrt(-mean_score), params)"
   ]
  },
  {
   "cell_type": "code",
   "execution_count": 0,
   "metadata": {
    "colab": {
     "autoexec": {
      "startup": false,
      "wait_interval": 0
     }
    },
    "colab_type": "code",
    "id": "Bvx7gVwGOqNM"
   },
   "outputs": [],
   "source": [
    "y_pred = rnd_search.predict(X_test)\n",
    "accuracy_score(y_test, y_pred)"
   ]
  },
  {
   "cell_type": "code",
   "execution_count": 0,
   "metadata": {
    "colab": {
     "autoexec": {
      "startup": false,
      "wait_interval": 0
     }
    },
    "colab_type": "code",
    "id": "LdMiGYmZOqNO"
   },
   "outputs": [],
   "source": []
  }
 ],
 "metadata": {
  "accelerator": "GPU",
  "colab": {
   "collapsed_sections": [],
   "default_view": {},
   "name": "SignLanguage_BestClassifiers_NU.ipynb",
   "provenance": [],
   "version": "0.3.2",
   "views": {}
  },
  "kernelspec": {
   "display_name": "Python 3",
   "language": "python",
   "name": "python3"
  },
  "language_info": {
   "codemirror_mode": {
    "name": "ipython",
    "version": 3
   },
   "file_extension": ".py",
   "mimetype": "text/x-python",
   "name": "python",
   "nbconvert_exporter": "python",
   "pygments_lexer": "ipython3",
   "version": "3.7.2"
  }
 },
 "nbformat": 4,
 "nbformat_minor": 1
}
